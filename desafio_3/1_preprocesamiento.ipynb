{
 "cells": [
  {
   "cell_type": "markdown",
   "metadata": {},
   "source": [
    "# Procesamiento de lenguaje natural\n",
    "## Desafío 3\n",
    "\n",
    "## Preprocesamiento del libro \"El señor de los anillos: la comunidad del anillo\""
   ]
  },
  {
   "cell_type": "markdown",
   "metadata": {},
   "source": [
    "### Primer preprocesamiento"
   ]
  },
  {
   "cell_type": "code",
   "execution_count": 1,
   "metadata": {},
   "outputs": [
    {
     "name": "stdout",
     "output_type": "stream",
     "text": [
      "Archivo procesado guardado en: libros_dataset/el_senor_de_los_anillos_preprocesado.txt\n"
     ]
    }
   ],
   "source": [
    "# Elimino los números y la frase \"El Señor de los anillos: La Comunidad del anillo\" de un archivo de texto\n",
    "# Define la ruta del archivo de entrada y de salida\n",
    "input_path = 'libros_dataset/el_senor_de_los_anillos.txt'  # Asegúrate de cambiar esta ruta al archivo correcto\n",
    "output_path = 'libros_dataset/el_senor_de_los_anillos_preprocesado.txt'\n",
    "\n",
    "# Abrir el archivo original y crear uno nuevo para el resultado\n",
    "with open(input_path, 'r', encoding='utf-8') as file, open(output_path, 'w', encoding='utf-8') as output:\n",
    "    for line in file:\n",
    "        # Comprueba si la línea comienza con un número o contiene la frase específica\n",
    "        if not line.strip().startswith(tuple(str(i) for i in range(10))) and \"El Señor de los anillos: La Comunidad del anillo\" not in line:\n",
    "            output.write(line)  # Escribe la línea en el archivo de salida si no cumple las condiciones\n",
    "\n",
    "print(f\"Archivo procesado guardado en: {output_path}\")\n"
   ]
  },
  {
   "cell_type": "markdown",
   "metadata": {},
   "source": [
    "### Segundo preprocesamiento"
   ]
  },
  {
   "cell_type": "code",
   "execution_count": 2,
   "metadata": {},
   "outputs": [
    {
     "name": "stdout",
     "output_type": "stream",
     "text": [
      "Archivo procesado mejorado guardado en: libros_dataset/el_senor_de_los_anillos_procesado_oraciones.txt\n"
     ]
    }
   ],
   "source": [
    "import re\n",
    "\n",
    "# Abrir el archivo modificado anteriormente\n",
    "input_path = 'libros_dataset/el_senor_de_los_anillos_preprocesado.txt'\n",
    "output_path = 'libros_dataset/el_senor_de_los_anillos_procesado_oraciones.txt'\n",
    "\n",
    "with open(input_path, 'r', encoding='utf-8') as file, open(output_path, 'w', encoding='utf-8') as output:\n",
    "    # Leer todo el contenido del archivo y unirlo en una sola cadena para manejar bien los saltos de línea\n",
    "    text = file.read().replace('\\n', ' ')\n",
    "    \n",
    "    # Dividir el texto en oraciones usando un patrón que considera los puntos finales seguidos de un espacio y una letra mayúscula\n",
    "    sentences = re.split(r'(?<=\\.)\\s+(?=[A-Z])', text)\n",
    "    \n",
    "    # Escribir cada oración en una nueva línea en el archivo de salida\n",
    "    for sentence in sentences:\n",
    "        output.write(sentence.strip() + '\\n')\n",
    "\n",
    "print(f\"Archivo procesado mejorado guardado en: {output_path}\")\n"
   ]
  }
 ],
 "metadata": {
  "kernelspec": {
   "display_name": "tensorflow",
   "language": "python",
   "name": "python3"
  },
  "language_info": {
   "codemirror_mode": {
    "name": "ipython",
    "version": 3
   },
   "file_extension": ".py",
   "mimetype": "text/x-python",
   "name": "python",
   "nbconvert_exporter": "python",
   "pygments_lexer": "ipython3",
   "version": "3.9.16"
  }
 },
 "nbformat": 4,
 "nbformat_minor": 2
}
