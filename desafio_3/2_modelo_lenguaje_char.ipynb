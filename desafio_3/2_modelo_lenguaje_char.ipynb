{
  "cells": [
    {
      "cell_type": "markdown",
      "metadata": {
        "id": "g3yeJGnCYxuF"
      },
      "source": [
        "# Procesamiento de lenguaje natural\n",
        "## Desafío 3\n",
        "\n",
        "## Modelo de lenguaje con tokenización por caracteres"
      ]
    },
    {
      "cell_type": "markdown",
      "metadata": {
        "id": "Iv5PEwGzZA9-"
      },
      "source": [
        "### Consigna\n",
        "- Seleccionar un corpus de texto sobre el cual entrenar el modelo de lenguaje.\n",
        "- Realizar el pre-procesamiento adecuado para tokenizar el corpus, estructurar el dataset y separar entre datos de entrenamiento y validación.\n",
        "- Proponer arquitecturas de redes neuronales basadas en unidades recurrentes para implementar un modelo de lenguaje.\n",
        "- Con el o los modelos que consideren adecuados, generar nuevas secuencias a partir de secuencias de contexto con las estrategias de greedy search y beam search determístico y estocástico. En este último caso observar el efecto de la temperatura en la generación de secuencias.\n",
        "\n",
        "\n",
        "### Sugerencias\n",
        "- Durante el entrenamiento, guiarse por el descenso de la perplejidad en los datos de validación para finalizar el entrenamiento. Para ello se provee un callback.\n",
        "- Explorar utilizar SimpleRNN (celda de Elman), LSTM y GRU.\n",
        "- rmsprop es el optimizador recomendado para la buena convergencia. No obstante se pueden explorar otros.\n"
      ]
    },
    {
      "cell_type": "code",
      "execution_count": 1,
      "metadata": {
        "id": "Y-QdFbHZYj7C"
      },
      "outputs": [
        {
          "name": "stderr",
          "output_type": "stream",
          "text": [
            "2024-06-06 23:49:36.602927: I tensorflow/core/platform/cpu_feature_guard.cc:193] This TensorFlow binary is optimized with oneAPI Deep Neural Network Library (oneDNN) to use the following CPU instructions in performance-critical operations:  AVX2 FMA\n",
            "To enable them in other operations, rebuild TensorFlow with the appropriate compiler flags.\n",
            "2024-06-06 23:49:36.709248: E tensorflow/stream_executor/cuda/cuda_blas.cc:2981] Unable to register cuBLAS factory: Attempting to register factory for plugin cuBLAS when one has already been registered\n",
            "2024-06-06 23:49:37.113686: W tensorflow/stream_executor/platform/default/dso_loader.cc:64] Could not load dynamic library 'libnvinfer.so.7'; dlerror: libnvinfer.so.7: cannot open shared object file: No such file or directory; LD_LIBRARY_PATH: :/home/jorge/miniconda3/envs/tensorflow/lib/:/home/jorge/miniconda3/envs/tensorflow/lib/python3.9/site-packages/tensorrt/\n",
            "2024-06-06 23:49:37.113761: W tensorflow/stream_executor/platform/default/dso_loader.cc:64] Could not load dynamic library 'libnvinfer_plugin.so.7'; dlerror: libnvinfer_plugin.so.7: cannot open shared object file: No such file or directory; LD_LIBRARY_PATH: :/home/jorge/miniconda3/envs/tensorflow/lib/:/home/jorge/miniconda3/envs/tensorflow/lib/python3.9/site-packages/tensorrt/\n",
            "2024-06-06 23:49:37.113766: W tensorflow/compiler/tf2tensorrt/utils/py_utils.cc:38] TF-TRT Warning: Cannot dlopen some TensorRT libraries. If you would like to use Nvidia GPU with TensorRT, please make sure the missing libraries mentioned above are installed properly.\n"
          ]
        }
      ],
      "source": [
        "import os\n",
        "import random\n",
        "import io\n",
        "import pickle\n",
        "\n",
        "import numpy as np\n",
        "import pandas as pd\n",
        "import matplotlib.pyplot as plt\n",
        "from sklearn.model_selection import train_test_split\n",
        "\n",
        "from tensorflow import keras\n",
        "from tensorflow.keras import layers\n",
        "from keras.utils import to_categorical\n",
        "from keras.models import Sequential\n",
        "from keras.layers import Dense, LSTM, Embedding, Dropout\n",
        "from tensorflow.keras.losses import SparseCategoricalCrossentropy"
      ]
    },
    {
      "cell_type": "markdown",
      "metadata": {
        "id": "xTvXlEKQZdqx"
      },
      "source": [
        "### Datos\n",
        "\n",
        "Emplearé el libro \"El señor de los anillos\" preprocesado previamente.\n",
        "\n",
        "Cada linea del archivo es una oración. Esta elección es para mejorar la generación de nuevas secuencias a través del contexto de una oración completa."
      ]
    },
    {
      "cell_type": "code",
      "execution_count": 2,
      "metadata": {},
      "outputs": [],
      "source": [
        "# Defino la ruta del archivo\n",
        "file_path = os.path.join('libros_dataset', 'el_senor_de_los_anillos_procesado_oraciones.txt')\n"
      ]
    },
    {
      "cell_type": "code",
      "execution_count": 3,
      "metadata": {},
      "outputs": [],
      "source": [
        "# Leer el contenido del archivo\n",
        "with open(file_path, 'r', encoding='utf-8') as file:\n",
        "    file_content = file.read()"
      ]
    },
    {
      "cell_type": "code",
      "execution_count": 4,
      "metadata": {},
      "outputs": [],
      "source": [
        "# Pasar todo el texto a minúscula\n",
        "article_text = file_content.lower()"
      ]
    },
    {
      "cell_type": "code",
      "execution_count": 5,
      "metadata": {
        "id": "WBE0sSYuB-E6"
      },
      "outputs": [
        {
          "data": {
            "text/plain": [
              "'tolkien, jrr.\\nel señor de los anillos.\\nla comunidad del anillo.\\nprologo.\\nde los hobbits.\\neste libro trata principalmente de los hobbits, y el lector descubrirá en sus páginas mucho del carácter y algo de la historia de este pueblo.\\npodrá encontrarse más información en los extractos del libro rojo de la frontera del oeste que ya han sido publicados con el título de el hobbit.\\nel relato tuvo su origen en los primeros capítulos del libro rojo, compuesto por bilbo bolsón -el primer hobbit que fue famoso en el mundo entero - y que él tituló historia de una ida y de una vuelta, pues contaba el viaje de bilbo hacia el este y la vuelta, aventura que más tarde enredaría a todos los hobbits en los importantes acontecimientos que aquí se relatan.\\nno obstante, muchos querrán saber desde un principio algo más de este pueblo notable y quizás algunos no tengan el libro anterior.\\npara esos lectores se han reunido aquí algunas notas sobre los puntos más importantes de la tradición hobbit, y se recuerda'"
            ]
          },
          "execution_count": 5,
          "metadata": {},
          "output_type": "execute_result"
        }
      ],
      "source": [
        "# en article text se encuentra el texto de todo el libro\n",
        "article_text[:1000]"
      ]
    },
    {
      "cell_type": "markdown",
      "metadata": {
        "id": "cP1JdiOIKQWi"
      },
      "source": [
        "### Elegir el tamaño del contexto\n",
        "\n",
        "En este caso, como el modelo de lenguaje es por caracteres, todo un gran corpus\n",
        "de texto puede ser considerado un documento en sí mismo y el tamaño de contexto\n",
        "puede ser elegido con más libertad en comparación a un modelo de lenguaje tokenizado por palabras y dividido en documentos más acotados."
      ]
    },
    {
      "cell_type": "code",
      "execution_count": 6,
      "metadata": {
        "id": "wumBNwdjJM3j"
      },
      "outputs": [],
      "source": [
        "# seleccionamos el tamaño de contexto\n",
        "max_context_size = 100"
      ]
    },
    {
      "cell_type": "code",
      "execution_count": 7,
      "metadata": {
        "id": "m5FeTaGvbDbw"
      },
      "outputs": [],
      "source": [
        "# Usaremos las utilidades de procesamiento de textos y secuencias de Keras\n",
        "from tensorflow.keras.utils import pad_sequences # se utilizará para padding"
      ]
    },
    {
      "cell_type": "code",
      "execution_count": 8,
      "metadata": {
        "id": "573Cg5n7VhWw"
      },
      "outputs": [],
      "source": [
        "# en este caso el vocabulario es el conjunto único de caracteres que existe en todo el texto\n",
        "chars_vocab = set(article_text)"
      ]
    },
    {
      "cell_type": "code",
      "execution_count": 9,
      "metadata": {
        "id": "VwTK6xgLJd8q"
      },
      "outputs": [
        {
          "data": {
            "text/plain": [
              "63"
            ]
          },
          "execution_count": 9,
          "metadata": {},
          "output_type": "execute_result"
        }
      ],
      "source": [
        "# la longitud de vocabulario de caracteres es:\n",
        "len(chars_vocab)"
      ]
    },
    {
      "cell_type": "code",
      "execution_count": 10,
      "metadata": {
        "id": "2W0AeQjXV1Ou"
      },
      "outputs": [],
      "source": [
        "# Construimos los dicionarios que asignan índices a caracteres y viceversa.\n",
        "# El diccionario `char2idx` servirá como tokenizador.\n",
        "char2idx = {k: v for v,k in enumerate(chars_vocab)}\n",
        "idx2char = {v: k for k,v in char2idx.items()}"
      ]
    },
    {
      "cell_type": "markdown",
      "metadata": {
        "id": "2oIUjVU0LB0r"
      },
      "source": [
        "###  Tokenizar"
      ]
    },
    {
      "cell_type": "code",
      "execution_count": 11,
      "metadata": {
        "id": "h07G3srdJppo"
      },
      "outputs": [],
      "source": [
        "# tokenizamos el texto completo\n",
        "tokenized_text = [char2idx[ch] for ch in article_text]"
      ]
    },
    {
      "cell_type": "code",
      "execution_count": 12,
      "metadata": {
        "id": "PwGVSKOiJ5bj"
      },
      "outputs": [
        {
          "data": {
            "text/plain": [
              "[6,\n",
              " 3,\n",
              " 57,\n",
              " 25,\n",
              " 44,\n",
              " 50,\n",
              " 1,\n",
              " 48,\n",
              " 8,\n",
              " 49,\n",
              " 40,\n",
              " 40,\n",
              " 11,\n",
              " 41,\n",
              " 50,\n",
              " 57,\n",
              " 8,\n",
              " 32,\n",
              " 50,\n",
              " 7,\n",
              " 3,\n",
              " 40,\n",
              " 8,\n",
              " 51,\n",
              " 50,\n",
              " 8,\n",
              " 57,\n",
              " 3,\n",
              " 32,\n",
              " 8,\n",
              " 61,\n",
              " 1,\n",
              " 44,\n",
              " 57,\n",
              " 57,\n",
              " 3,\n",
              " 32,\n",
              " 11,\n",
              " 41,\n",
              " 57,\n",
              " 61,\n",
              " 8,\n",
              " 31,\n",
              " 3,\n",
              " 29,\n",
              " 62,\n",
              " 1,\n",
              " 44,\n",
              " 51,\n",
              " 61,\n",
              " 51,\n",
              " 8,\n",
              " 51,\n",
              " 50,\n",
              " 57,\n",
              " 8,\n",
              " 61,\n",
              " 1,\n",
              " 44,\n",
              " 57,\n",
              " 57,\n",
              " 3,\n",
              " 11,\n",
              " 41,\n",
              " 24,\n",
              " 40,\n",
              " 3,\n",
              " 57,\n",
              " 3,\n",
              " 54,\n",
              " 3,\n",
              " 11,\n",
              " 41,\n",
              " 51,\n",
              " 50,\n",
              " 8,\n",
              " 57,\n",
              " 3,\n",
              " 32,\n",
              " 8,\n",
              " 55,\n",
              " 3,\n",
              " 15,\n",
              " 15,\n",
              " 44,\n",
              " 6,\n",
              " 32,\n",
              " 11,\n",
              " 41,\n",
              " 50,\n",
              " 32,\n",
              " 6,\n",
              " 50,\n",
              " 8,\n",
              " 57,\n",
              " 44,\n",
              " 15,\n",
              " 40,\n",
              " 3,\n",
              " 8,\n",
              " 6,\n",
              " 40,\n",
              " 61,\n",
              " 6,\n",
              " 61,\n",
              " 8,\n",
              " 24,\n",
              " 40,\n",
              " 44,\n",
              " 1,\n",
              " 31,\n",
              " 44,\n",
              " 24,\n",
              " 61,\n",
              " 57,\n",
              " 29,\n",
              " 50,\n",
              " 1,\n",
              " 6,\n",
              " 50,\n",
              " 8,\n",
              " 51,\n",
              " 50,\n",
              " 8,\n",
              " 57,\n",
              " 3,\n",
              " 32,\n",
              " 8,\n",
              " 55,\n",
              " 3,\n",
              " 15,\n",
              " 15,\n",
              " 44,\n",
              " 6,\n",
              " 32,\n",
              " 48,\n",
              " 8,\n",
              " 34,\n",
              " 8,\n",
              " 50,\n",
              " 57,\n",
              " 8,\n",
              " 57,\n",
              " 50,\n",
              " 31,\n",
              " 6,\n",
              " 3,\n",
              " 40,\n",
              " 8,\n",
              " 51,\n",
              " 50,\n",
              " 32,\n",
              " 31,\n",
              " 62,\n",
              " 15,\n",
              " 40,\n",
              " 44,\n",
              " 40,\n",
              " 36,\n",
              " 8,\n",
              " 50,\n",
              " 1,\n",
              " 8,\n",
              " 32,\n",
              " 62,\n",
              " 32,\n",
              " 8,\n",
              " 24,\n",
              " 36,\n",
              " 54,\n",
              " 44,\n",
              " 1,\n",
              " 61,\n",
              " 32,\n",
              " 8,\n",
              " 29,\n",
              " 62,\n",
              " 31,\n",
              " 55,\n",
              " 3,\n",
              " 8,\n",
              " 51,\n",
              " 50,\n",
              " 57,\n",
              " 8,\n",
              " 31,\n",
              " 61,\n",
              " 40,\n",
              " 36,\n",
              " 31,\n",
              " 6,\n",
              " 50,\n",
              " 40,\n",
              " 8,\n",
              " 34,\n",
              " 8,\n",
              " 61,\n",
              " 57,\n",
              " 54,\n",
              " 3,\n",
              " 8,\n",
              " 51,\n",
              " 50,\n",
              " 8,\n",
              " 57,\n",
              " 61,\n",
              " 8,\n",
              " 55,\n",
              " 44,\n",
              " 32,\n",
              " 6,\n",
              " 3,\n",
              " 40,\n",
              " 44,\n",
              " 61,\n",
              " 8,\n",
              " 51,\n",
              " 50,\n",
              " 8,\n",
              " 50,\n",
              " 32,\n",
              " 6,\n",
              " 50,\n",
              " 8,\n",
              " 24,\n",
              " 62,\n",
              " 50,\n",
              " 15,\n",
              " 57,\n",
              " 3,\n",
              " 11,\n",
              " 41,\n",
              " 24,\n",
              " 3,\n",
              " 51,\n",
              " 40,\n",
              " 36,\n",
              " 8,\n",
              " 50,\n",
              " 1,\n",
              " 31,\n",
              " 3,\n",
              " 1,\n",
              " 6,\n",
              " 40,\n",
              " 61,\n",
              " 40,\n",
              " 32,\n",
              " 50,\n",
              " 8,\n",
              " 29,\n",
              " 36,\n",
              " 32,\n",
              " 8,\n",
              " 44,\n",
              " 1,\n",
              " 17,\n",
              " 3,\n",
              " 40,\n",
              " 29,\n",
              " 61,\n",
              " 31,\n",
              " 44,\n",
              " 30,\n",
              " 1,\n",
              " 8,\n",
              " 50,\n",
              " 1,\n",
              " 8,\n",
              " 57,\n",
              " 3,\n",
              " 32,\n",
              " 8,\n",
              " 50,\n",
              " 38,\n",
              " 6,\n",
              " 40,\n",
              " 61,\n",
              " 31,\n",
              " 6,\n",
              " 3,\n",
              " 32,\n",
              " 8,\n",
              " 51,\n",
              " 50,\n",
              " 57,\n",
              " 8,\n",
              " 57,\n",
              " 44,\n",
              " 15,\n",
              " 40,\n",
              " 3,\n",
              " 8,\n",
              " 40,\n",
              " 3,\n",
              " 49,\n",
              " 3,\n",
              " 8,\n",
              " 51,\n",
              " 50,\n",
              " 8,\n",
              " 57,\n",
              " 61,\n",
              " 8,\n",
              " 17,\n",
              " 40,\n",
              " 3,\n",
              " 1,\n",
              " 6,\n",
              " 50,\n",
              " 40,\n",
              " 61,\n",
              " 8,\n",
              " 51,\n",
              " 50,\n",
              " 57,\n",
              " 8,\n",
              " 3,\n",
              " 50,\n",
              " 32,\n",
              " 6,\n",
              " 50,\n",
              " 8,\n",
              " 26,\n",
              " 62,\n",
              " 50,\n",
              " 8,\n",
              " 34,\n",
              " 61,\n",
              " 8,\n",
              " 55,\n",
              " 61,\n",
              " 1,\n",
              " 8,\n",
              " 32,\n",
              " 44,\n",
              " 51,\n",
              " 3,\n",
              " 8,\n",
              " 24,\n",
              " 62,\n",
              " 15,\n",
              " 57,\n",
              " 44,\n",
              " 31,\n",
              " 61,\n",
              " 51,\n",
              " 3,\n",
              " 32,\n",
              " 8,\n",
              " 31,\n",
              " 3,\n",
              " 1,\n",
              " 8,\n",
              " 50,\n",
              " 57,\n",
              " 8,\n",
              " 6,\n",
              " 2,\n",
              " 6,\n",
              " 62,\n",
              " 57,\n",
              " 3,\n",
              " 8,\n",
              " 51,\n",
              " 50,\n",
              " 8,\n",
              " 50,\n",
              " 57,\n",
              " 8,\n",
              " 55,\n",
              " 3,\n",
              " 15,\n",
              " 15,\n",
              " 44,\n",
              " 6,\n",
              " 11,\n",
              " 41,\n",
              " 50,\n",
              " 57,\n",
              " 8,\n",
              " 40,\n",
              " 50,\n",
              " 57,\n",
              " 61,\n",
              " 6,\n",
              " 3,\n",
              " 8,\n",
              " 6,\n",
              " 62,\n",
              " 28,\n",
              " 3,\n",
              " 8,\n",
              " 32,\n",
              " 62,\n",
              " 8,\n",
              " 3,\n",
              " 40,\n",
              " 44,\n",
              " 54,\n",
              " 50,\n",
              " 1,\n",
              " 8,\n",
              " 50,\n",
              " 1,\n",
              " 8,\n",
              " 57,\n",
              " 3,\n",
              " 32,\n",
              " 8,\n",
              " 24,\n",
              " 40,\n",
              " 44,\n",
              " 29,\n",
              " 50,\n",
              " 40,\n",
              " 3,\n",
              " 32,\n",
              " 8,\n",
              " 31,\n",
              " 61,\n",
              " 24,\n",
              " 2,\n",
              " 6,\n",
              " 62,\n",
              " 57,\n",
              " 3,\n",
              " 32,\n",
              " 8,\n",
              " 51,\n",
              " 50,\n",
              " 57,\n",
              " 8,\n",
              " 57,\n",
              " 44,\n",
              " 15,\n",
              " 40,\n",
              " 3,\n",
              " 8,\n",
              " 40,\n",
              " 3,\n",
              " 49,\n",
              " 3,\n",
              " 48,\n",
              " 8,\n",
              " 31,\n",
              " 3,\n",
              " 29,\n",
              " 24,\n",
              " 62,\n",
              " 50,\n",
              " 32,\n",
              " 6,\n",
              " 3,\n",
              " 8,\n",
              " 24,\n",
              " 3,\n",
              " 40,\n",
              " 8,\n",
              " 15,\n",
              " 44,\n",
              " 57,\n",
              " 15,\n",
              " 3,\n",
              " 8,\n",
              " 15,\n",
              " 3,\n",
              " 57,\n",
              " 32,\n",
              " 30,\n",
              " 1,\n",
              " 8,\n",
              " 39,\n",
              " 50,\n",
              " 57,\n",
              " 8,\n",
              " 24,\n",
              " 40,\n",
              " 44,\n",
              " 29,\n",
              " 50,\n",
              " 40,\n",
              " 8,\n",
              " 55,\n",
              " 3,\n",
              " 15,\n",
              " 15,\n",
              " 44,\n",
              " 6,\n",
              " 8,\n",
              " 26,\n",
              " 62,\n",
              " 50,\n",
              " 8,\n",
              " 17,\n",
              " 62,\n",
              " 50,\n",
              " 8,\n",
              " 17,\n",
              " 61,\n",
              " 29,\n",
              " 3,\n",
              " 32,\n",
              " 3,\n",
              " 8,\n",
              " 50,\n",
              " 1,\n",
              " 8,\n",
              " 50,\n",
              " 57,\n",
              " 8,\n",
              " 29,\n",
              " 62,\n",
              " 1,\n",
              " 51,\n",
              " 3,\n",
              " 8,\n",
              " 50,\n",
              " 1,\n",
              " 6,\n",
              " 50,\n",
              " 40,\n",
              " 3,\n",
              " 8,\n",
              " 39,\n",
              " 8,\n",
              " 34,\n",
              " 8,\n",
              " 26,\n",
              " 62,\n",
              " 50,\n",
              " 8,\n",
              " 56,\n",
              " 57,\n",
              " 8,\n",
              " 6,\n",
              " 44,\n",
              " 6,\n",
              " 62,\n",
              " 57,\n",
              " 30,\n",
              " 8,\n",
              " 55,\n",
              " 44,\n",
              " 32,\n",
              " 6,\n",
              " 3,\n",
              " 40,\n",
              " 44,\n",
              " 61,\n",
              " 8,\n",
              " 51,\n",
              " 50,\n",
              " 8,\n",
              " 62,\n",
              " 1,\n",
              " 61,\n",
              " 8,\n",
              " 44,\n",
              " 51,\n",
              " 61,\n",
              " 8,\n",
              " 34,\n",
              " 8,\n",
              " 51,\n",
              " 50,\n",
              " 8,\n",
              " 62,\n",
              " 1,\n",
              " 61,\n",
              " 8,\n",
              " 28,\n",
              " 62,\n",
              " 50,\n",
              " 57,\n",
              " 6,\n",
              " 61,\n",
              " 48,\n",
              " 8,\n",
              " 24,\n",
              " 62,\n",
              " 50,\n",
              " 32,\n",
              " 8,\n",
              " 31,\n",
              " 3,\n",
              " 1,\n",
              " 6,\n",
              " 61,\n",
              " 15,\n",
              " 61,\n",
              " 8,\n",
              " 50,\n",
              " 57,\n",
              " 8,\n",
              " 28,\n",
              " 44,\n",
              " 61,\n",
              " 49,\n",
              " 50,\n",
              " 8,\n",
              " 51,\n",
              " 50,\n",
              " 8,\n",
              " 15,\n",
              " 44,\n",
              " 57,\n",
              " 15,\n",
              " 3,\n",
              " 8,\n",
              " 55,\n",
              " 61,\n",
              " 31,\n",
              " 44,\n",
              " 61,\n",
              " 8,\n",
              " 50,\n",
              " 57,\n",
              " 8,\n",
              " 50,\n",
              " 32,\n",
              " 6,\n",
              " 50,\n",
              " 8,\n",
              " 34,\n",
              " 8,\n",
              " 57,\n",
              " 61,\n",
              " 8,\n",
              " 28,\n",
              " 62,\n",
              " 50,\n",
              " 57,\n",
              " 6,\n",
              " 61,\n",
              " 48,\n",
              " 8,\n",
              " 61,\n",
              " 28,\n",
              " 50,\n",
              " 1,\n",
              " 6,\n",
              " 62,\n",
              " 40,\n",
              " 61,\n",
              " 8,\n",
              " 26,\n",
              " 62,\n",
              " 50,\n",
              " 8,\n",
              " 29,\n",
              " 36,\n",
              " 32,\n",
              " 8,\n",
              " 6,\n",
              " 61,\n",
              " 40,\n",
              " 51,\n",
              " 50,\n",
              " 8,\n",
              " 50,\n",
              " 1,\n",
              " 40,\n",
              " 50,\n",
              " 51,\n",
              " 61,\n",
              " 40,\n",
              " 2,\n",
              " 61,\n",
              " 8,\n",
              " 61,\n",
              " 8,\n",
              " 6,\n",
              " 3,\n",
              " 51,\n",
              " 3,\n",
              " 32,\n",
              " 8,\n",
              " 57,\n",
              " 3,\n",
              " 32,\n",
              " 8,\n",
              " 55,\n",
              " 3,\n",
              " 15,\n",
              " 15,\n",
              " 44,\n",
              " 6,\n",
              " 32,\n",
              " 8,\n",
              " 50,\n",
              " 1,\n",
              " 8,\n",
              " 57,\n",
              " 3,\n",
              " 32,\n",
              " 8,\n",
              " 44,\n",
              " 29,\n",
              " 24,\n",
              " 3,\n",
              " 40,\n",
              " 6,\n",
              " 61,\n",
              " 1,\n",
              " 6,\n",
              " 50,\n",
              " 32,\n",
              " 8,\n",
              " 61,\n",
              " 31,\n",
              " 3,\n",
              " 1,\n",
              " 6,\n",
              " 50,\n",
              " 31,\n",
              " 44,\n",
              " 29,\n",
              " 44,\n",
              " 50,\n",
              " 1,\n",
              " 6,\n",
              " 3,\n",
              " 32,\n",
              " 8,\n",
              " 26,\n",
              " 62,\n",
              " 50,\n",
              " 8,\n",
              " 61,\n",
              " 26,\n",
              " 62,\n",
              " 2,\n",
              " 8,\n",
              " 32,\n",
              " 50,\n",
              " 8,\n",
              " 40,\n",
              " 50,\n",
              " 57,\n",
              " 61,\n",
              " 6,\n",
              " 61,\n",
              " 1,\n",
              " 11,\n",
              " 41,\n",
              " 1,\n",
              " 3,\n",
              " 8,\n",
              " 3,\n",
              " 15,\n",
              " 32,\n",
              " 6,\n",
              " 61,\n",
              " 1,\n",
              " 6,\n",
              " 50,\n",
              " 48,\n",
              " 8,\n",
              " 29,\n",
              " 62,\n",
              " 31,\n",
              " 55,\n",
              " 3,\n",
              " 32,\n",
              " 8,\n",
              " 26,\n",
              " 62,\n",
              " 50,\n",
              " 40,\n",
              " 40,\n",
              " 36,\n",
              " 1,\n",
              " 8,\n",
              " 32,\n",
              " 61,\n",
              " 15,\n",
              " 50,\n",
              " 40,\n",
              " 8,\n",
              " 51,\n",
              " 50,\n",
              " 32,\n",
              " 51,\n",
              " 50,\n",
              " 8,\n",
              " 62,\n",
              " 1,\n",
              " 8,\n",
              " 24,\n",
              " 40,\n",
              " 44,\n",
              " 1,\n",
              " 31,\n",
              " 44,\n",
              " 24,\n",
              " 44,\n",
              " 3,\n",
              " 8,\n",
              " 61,\n",
              " 57,\n",
              " 54,\n",
              " 3,\n",
              " 8,\n",
              " 29,\n",
              " 36,\n",
              " 32,\n",
              " 8,\n",
              " 51,\n",
              " 50,\n",
              " 8,\n",
              " 50,\n",
              " 32,\n",
              " 6,\n",
              " 50,\n",
              " 8,\n",
              " 24,\n",
              " 62,\n",
              " 50,\n",
              " 15,\n",
              " 57,\n",
              " 3,\n",
              " 8,\n",
              " 1,\n",
              " 3,\n",
              " 6,\n",
              " 61,\n",
              " 15,\n",
              " 57,\n",
              " 50,\n",
              " 8,\n",
              " 34,\n",
              " 8,\n",
              " 26,\n",
              " 62,\n",
              " 44,\n",
              " 35,\n",
              " 36,\n",
              " 32,\n",
              " 8,\n",
              " 61,\n",
              " 57,\n",
              " 54,\n",
              " 62,\n",
              " 1,\n",
              " 3,\n",
              " 32,\n",
              " 8,\n",
              " 1,\n",
              " 3,\n",
              " 8,\n",
              " 6,\n",
              " 50,\n",
              " 1,\n",
              " 54,\n",
              " 61,\n",
              " 1,\n",
              " 8,\n",
              " 50,\n",
              " 57,\n",
              " 8,\n",
              " 57,\n",
              " 44,\n",
              " 15,\n",
              " 40,\n",
              " 3,\n",
              " 8,\n",
              " 61,\n",
              " 1,\n",
              " 6,\n",
              " 50,\n",
              " 40,\n",
              " 44,\n",
              " 3,\n",
              " 40,\n",
              " 11,\n",
              " 41,\n",
              " 24,\n",
              " 61,\n",
              " 40,\n",
              " 61,\n",
              " 8,\n",
              " 50,\n",
              " 32,\n",
              " 3,\n",
              " 32,\n",
              " 8,\n",
              " 57,\n",
              " 50,\n",
              " 31,\n",
              " 6,\n",
              " 3,\n",
              " 40,\n",
              " 50,\n",
              " 32,\n",
              " 8,\n",
              " 32,\n",
              " 50,\n",
              " 8,\n",
              " 55,\n",
              " 61,\n",
              " 1,\n",
              " 8,\n",
              " 40,\n",
              " 50,\n",
              " 62,\n",
              " 1,\n",
              " 44,\n",
              " 51,\n",
              " 3,\n",
              " 8,\n",
              " 61,\n",
              " 26,\n",
              " 62,\n",
              " 2,\n",
              " 8,\n",
              " 61,\n",
              " 57,\n",
              " 54,\n",
              " 62,\n",
              " 1,\n",
              " 61,\n",
              " 32,\n",
              " 8,\n",
              " 1,\n",
              " 3,\n",
              " 6,\n",
              " 61,\n",
              " 32,\n",
              " 8,\n",
              " 32,\n",
              " 3,\n",
              " 15,\n",
              " 40,\n",
              " 50,\n",
              " 8,\n",
              " 57,\n",
              " 3,\n",
              " 32,\n",
              " 8,\n",
              " 24,\n",
              " 62,\n",
              " 1,\n",
              " 6,\n",
              " 3,\n",
              " 32,\n",
              " 8,\n",
              " 29,\n",
              " 36,\n",
              " 32,\n",
              " 8,\n",
              " 44,\n",
              " 29,\n",
              " 24,\n",
              " 3,\n",
              " 40,\n",
              " 6,\n",
              " 61,\n",
              " 1,\n",
              " 6,\n",
              " 50,\n",
              " 32,\n",
              " 8,\n",
              " 51,\n",
              " 50,\n",
              " 8,\n",
              " 57,\n",
              " 61,\n",
              " 8,\n",
              " 6,\n",
              " 40,\n",
              " 61,\n",
              " 51,\n",
              " 44,\n",
              " 31,\n",
              " 44,\n",
              " 30,\n",
              " 1,\n",
              " 8,\n",
              " 55,\n",
              " 3,\n",
              " 15,\n",
              " 15,\n",
              " 44,\n",
              " 6,\n",
              " 48,\n",
              " 8,\n",
              " 34,\n",
              " 8,\n",
              " 32,\n",
              " 50,\n",
              " 8,\n",
              " 40,\n",
              " 50,\n",
              " 31,\n",
              " 62,\n",
              " 50,\n",
              " 40,\n",
              " 51,\n",
              " 61]"
            ]
          },
          "execution_count": 12,
          "metadata": {},
          "output_type": "execute_result"
        }
      ],
      "source": [
        "tokenized_text[:1000]"
      ]
    },
    {
      "cell_type": "markdown",
      "metadata": {
        "id": "pfpYcaypKcI9"
      },
      "source": [
        "### Organizando y estructurando el dataset"
      ]
    },
    {
      "cell_type": "code",
      "execution_count": 13,
      "metadata": {
        "id": "WSSmg9jtKP0T"
      },
      "outputs": [],
      "source": [
        "# separaremos el dataset entre entrenamiento y validación.\n",
        "# `p_val` será la proporción del corpus que se reservará para validación\n",
        "# `num_val` es la cantidad de secuencias de tamaño `max_context_size` que se usará en validación\n",
        "p_val = 0.1\n",
        "num_val = int(np.ceil(len(tokenized_text)*p_val/max_context_size))"
      ]
    },
    {
      "cell_type": "code",
      "execution_count": 14,
      "metadata": {
        "id": "b7dCpGrdKll0"
      },
      "outputs": [],
      "source": [
        "# separamos la porción de texto utilizada en entrenamiento de la de validación.\n",
        "train_text = tokenized_text[:-num_val*max_context_size]\n",
        "val_text = tokenized_text[-num_val*max_context_size:]"
      ]
    },
    {
      "cell_type": "code",
      "execution_count": 15,
      "metadata": {
        "id": "NmxQdxl8LRCg"
      },
      "outputs": [],
      "source": [
        "tokenized_sentences_val = [val_text[init*max_context_size:init*(max_context_size+1)] for init in range(num_val)]"
      ]
    },
    {
      "cell_type": "code",
      "execution_count": 16,
      "metadata": {
        "id": "_gyFT9koLqDm"
      },
      "outputs": [],
      "source": [
        "tokenized_sentences_train = [train_text[init:init+max_context_size] for init in range(len(train_text)-max_context_size+1)]"
      ]
    },
    {
      "cell_type": "code",
      "execution_count": 17,
      "metadata": {
        "id": "oVNqmmLRodT0"
      },
      "outputs": [],
      "source": [
        "X = np.array(tokenized_sentences_train[:-1])\n",
        "y = np.array(tokenized_sentences_train[1:])"
      ]
    },
    {
      "cell_type": "markdown",
      "metadata": {
        "id": "Vken7O4ETsAJ"
      },
      "source": [
        "Nótese que estamos estructurando el problema de aprendizaje como *many-to-many*:\n",
        "\n",
        "Entrada: secuencia de tokens [$x_0$, $x_1$, ..., $x_N$]\n",
        "\n",
        "Target: secuencia de tokens [$x_1$, $x_2$, ..., $x_{N+1}$]\n",
        "\n",
        "De manera que la red tiene que aprender que su salida deben ser los tokens desplazados en una posición y un nuevo token predicho (el N+1).\n",
        "\n",
        "La ventaja de estructurar el aprendizaje de esta manera es que para cada token de target se propaga una señal de gradiente por el grafo de cómputo recurrente, que es mejor que estructurar el problema como *many-to-one* en donde sólo una señal de gradiente se propaga."
      ]
    },
    {
      "cell_type": "markdown",
      "metadata": {
        "id": "l3iPTx-UJl6r"
      },
      "source": [
        "En este punto tenemos en la variable `tokenized_sentences` los versos tokenizados. Vamos a quedarnos con un conjunto de validación que utilizaremos para medir la calidad de la generación de secuencias con la métrica de Perplejidad."
      ]
    },
    {
      "cell_type": "code",
      "execution_count": 18,
      "metadata": {
        "id": "KFAyA4zCWE-5"
      },
      "outputs": [
        {
          "data": {
            "text/plain": [
              "(483152, 100)"
            ]
          },
          "execution_count": 18,
          "metadata": {},
          "output_type": "execute_result"
        }
      ],
      "source": [
        "X.shape"
      ]
    },
    {
      "cell_type": "code",
      "execution_count": 19,
      "metadata": {
        "id": "qcKRl70HFTzG"
      },
      "outputs": [
        {
          "data": {
            "text/plain": [
              "array([ 6,  3, 57, 25, 44, 50,  1, 48,  8, 49])"
            ]
          },
          "execution_count": 19,
          "metadata": {},
          "output_type": "execute_result"
        }
      ],
      "source": [
        "X[0,:10]"
      ]
    },
    {
      "cell_type": "code",
      "execution_count": 20,
      "metadata": {
        "id": "TVpLCKSZFXZO"
      },
      "outputs": [
        {
          "data": {
            "text/plain": [
              "array([ 3, 57, 25, 44, 50,  1, 48,  8, 49, 40])"
            ]
          },
          "execution_count": 20,
          "metadata": {},
          "output_type": "execute_result"
        }
      ],
      "source": [
        "y[0,:10]"
      ]
    },
    {
      "cell_type": "code",
      "execution_count": 21,
      "metadata": {
        "id": "wOFCR-KqbW1N"
      },
      "outputs": [],
      "source": [
        "vocab_size = len(chars_vocab)"
      ]
    },
    {
      "cell_type": "markdown",
      "metadata": {
        "id": "tnnjdAQ5UAEJ"
      },
      "source": [
        "# Definiendo el modelo"
      ]
    },
    {
      "cell_type": "code",
      "execution_count": 22,
      "metadata": {
        "id": "rkMCZvmhrQz4"
      },
      "outputs": [],
      "source": [
        "from keras.layers import Input, TimeDistributed, CategoryEncoding, SimpleRNN, Dense\n",
        "from keras.models import Model, Sequential"
      ]
    },
    {
      "cell_type": "markdown",
      "metadata": {
        "id": "wgz7VKwTUbj6"
      },
      "source": [
        "El modelo que se propone como ejemplo consume los índices de los tokens y los transforma en vectores OHE (en este caso no entrenamos una capa de embedding para caracteres). Esa transformación se logra combinando las capas `CategoryEncoding` que transforma a índices a vectores OHE y `TimeDistributed` que aplica la capa a lo largo de la dimensión \"temporal\" de la secuencia."
      ]
    },
    {
      "cell_type": "code",
      "execution_count": 23,
      "metadata": {
        "id": "Zd2OkfQYs2Q7"
      },
      "outputs": [
        {
          "name": "stdout",
          "output_type": "stream",
          "text": [
            "Model: \"sequential\"\n",
            "_________________________________________________________________\n",
            " Layer (type)                Output Shape              Param #   \n",
            "=================================================================\n",
            " time_distributed (TimeDistr  (None, None, 63)         0         \n",
            " ibuted)                                                         \n",
            "                                                                 \n",
            " simple_rnn (SimpleRNN)      (None, None, 200)         52800     \n",
            "                                                                 \n",
            " dense (Dense)               (None, None, 63)          12663     \n",
            "                                                                 \n",
            "=================================================================\n",
            "Total params: 65,463\n",
            "Trainable params: 65,463\n",
            "Non-trainable params: 0\n",
            "_________________________________________________________________\n"
          ]
        },
        {
          "name": "stderr",
          "output_type": "stream",
          "text": [
            "2024-06-06 23:49:41.428387: I tensorflow/stream_executor/cuda/cuda_gpu_executor.cc:980] successful NUMA node read from SysFS had negative value (-1), but there must be at least one NUMA node, so returning NUMA node zero\n",
            "2024-06-06 23:49:41.436024: I tensorflow/stream_executor/cuda/cuda_gpu_executor.cc:980] successful NUMA node read from SysFS had negative value (-1), but there must be at least one NUMA node, so returning NUMA node zero\n",
            "2024-06-06 23:49:41.436238: I tensorflow/stream_executor/cuda/cuda_gpu_executor.cc:980] successful NUMA node read from SysFS had negative value (-1), but there must be at least one NUMA node, so returning NUMA node zero\n",
            "2024-06-06 23:49:41.436743: I tensorflow/core/platform/cpu_feature_guard.cc:193] This TensorFlow binary is optimized with oneAPI Deep Neural Network Library (oneDNN) to use the following CPU instructions in performance-critical operations:  AVX2 FMA\n",
            "To enable them in other operations, rebuild TensorFlow with the appropriate compiler flags.\n",
            "2024-06-06 23:49:41.437971: I tensorflow/stream_executor/cuda/cuda_gpu_executor.cc:980] successful NUMA node read from SysFS had negative value (-1), but there must be at least one NUMA node, so returning NUMA node zero\n",
            "2024-06-06 23:49:41.438171: I tensorflow/stream_executor/cuda/cuda_gpu_executor.cc:980] successful NUMA node read from SysFS had negative value (-1), but there must be at least one NUMA node, so returning NUMA node zero\n",
            "2024-06-06 23:49:41.438357: I tensorflow/stream_executor/cuda/cuda_gpu_executor.cc:980] successful NUMA node read from SysFS had negative value (-1), but there must be at least one NUMA node, so returning NUMA node zero\n",
            "2024-06-06 23:49:41.853513: I tensorflow/stream_executor/cuda/cuda_gpu_executor.cc:980] successful NUMA node read from SysFS had negative value (-1), but there must be at least one NUMA node, so returning NUMA node zero\n",
            "2024-06-06 23:49:41.853699: I tensorflow/stream_executor/cuda/cuda_gpu_executor.cc:980] successful NUMA node read from SysFS had negative value (-1), but there must be at least one NUMA node, so returning NUMA node zero\n",
            "2024-06-06 23:49:41.853847: I tensorflow/stream_executor/cuda/cuda_gpu_executor.cc:980] successful NUMA node read from SysFS had negative value (-1), but there must be at least one NUMA node, so returning NUMA node zero\n",
            "2024-06-06 23:49:41.854102: I tensorflow/core/common_runtime/gpu/gpu_device.cc:1616] Created device /job:localhost/replica:0/task:0/device:GPU:0 with 9243 MB memory:  -> device: 0, name: NVIDIA GeForce RTX 3080 Ti, pci bus id: 0000:2d:00.0, compute capability: 8.6\n"
          ]
        }
      ],
      "source": [
        "model = Sequential()\n",
        "\n",
        "model.add(TimeDistributed(CategoryEncoding(num_tokens=vocab_size, output_mode = \"one_hot\"),input_shape=(None,1)))\n",
        "model.add(SimpleRNN(200, return_sequences=True, dropout=0.1, recurrent_dropout=0.1 ))\n",
        "model.add(Dense(vocab_size, activation='softmax'))\n",
        "model.compile(loss='sparse_categorical_crossentropy', optimizer='rmsprop')\n",
        "\n",
        "model.summary()"
      ]
    },
    {
      "cell_type": "markdown",
      "metadata": {
        "id": "GmJWNyxQwfCE"
      },
      "source": [
        "\n",
        "### Definir el modelo"
      ]
    },
    {
      "cell_type": "markdown",
      "metadata": {
        "id": "YWK3z85sQfUe"
      },
      "source": [
        "Dado que por el momento no hay implementaciones adecuadas de la perplejidad que puedan operar en tiempo de entrenamiento, armaremos un Callback *ad-hoc* que la calcule en cada epoch.\n",
        "\n",
        "**Nota**: un Callback es una rutina gatillada por algún evento, son muy útiles para relevar datos en diferentes momentos del desarrollo del modelo. En este caso queremos hacer un cálculo cada vez que termina una epoch de entrenamiento."
      ]
    },
    {
      "cell_type": "code",
      "execution_count": 24,
      "metadata": {
        "id": "zUHX3r5JD-MG"
      },
      "outputs": [],
      "source": [
        "class PplCallback(keras.callbacks.Callback):\n",
        "\n",
        "    '''\n",
        "    Este callback es una solución ad-hoc para calcular al final de cada epoch de\n",
        "    entrenamiento la métrica de Perplejidad sobre un conjunto de datos de validación.\n",
        "    La perplejidad es una métrica cuantitativa para evaluar la calidad de la generación de secuencias.\n",
        "    Además implementa la finalización del entrenamiento (Early Stopping)\n",
        "    si la perplejidad no mejora después de `patience` epochs.\n",
        "    '''\n",
        "\n",
        "    def __init__(self, val_data, history_ppl,patience=5):\n",
        "      # El callback lo inicializamos con secuencias de validación sobre las cuales\n",
        "      # mediremos la perplejidad\n",
        "      self.val_data = val_data\n",
        "\n",
        "      self.target = []\n",
        "      self.padded = []\n",
        "\n",
        "      count = 0\n",
        "      self.info = []\n",
        "      self.min_score = np.inf\n",
        "      self.patience_counter = 0\n",
        "      self.patience = patience\n",
        "\n",
        "      # nos movemos en todas las secuencias de los datos de validación\n",
        "      for seq in self.val_data:\n",
        "\n",
        "        len_seq = len(seq)\n",
        "        # armamos todas las subsecuencias\n",
        "        subseq = [seq[:i] for i in range(1,len_seq)]\n",
        "        self.target.extend([seq[i] for i in range(1,len_seq)])\n",
        "\n",
        "        if len(subseq)!=0:\n",
        "\n",
        "          self.padded.append(pad_sequences(subseq, maxlen=max_context_size, padding='pre'))\n",
        "\n",
        "          self.info.append((count,count+len_seq))\n",
        "          count += len_seq\n",
        "\n",
        "      self.padded = np.vstack(self.padded)\n",
        "\n",
        "\n",
        "    def on_epoch_end(self, epoch, logs=None):\n",
        "\n",
        "        # en `scores` iremos guardando la perplejidad de cada secuencia\n",
        "        scores = []\n",
        "\n",
        "        predictions = self.model.predict(self.padded,verbose=0)\n",
        "\n",
        "        # para cada secuencia de validación\n",
        "        for start,end in self.info:\n",
        "\n",
        "          # en `probs` iremos guardando las probabilidades de los términos target\n",
        "          probs = [predictions[idx_seq,-1,idx_vocab] for idx_seq, idx_vocab in zip(range(start,end),self.target[start:end])]\n",
        "\n",
        "          # calculamos la perplejidad por medio de logaritmos\n",
        "          scores.append(np.exp(-np.sum(np.log(probs))/(end-start)))\n",
        "\n",
        "        # promediamos todos los scores e imprimimos el valor promedio\n",
        "        current_score = np.mean(scores)\n",
        "        history_ppl.append(current_score)\n",
        "        print(f'\\n mean perplexity: {current_score} \\n')\n",
        "\n",
        "        # chequeamos si tenemos que detener el entrenamiento\n",
        "        if current_score < self.min_score:\n",
        "          self.min_score = current_score\n",
        "          self.model.save(\"my_model_char\")\n",
        "          print(\"Saved new model!\")\n",
        "          self.patience_counter = 0\n",
        "        else:\n",
        "          self.patience_counter += 1\n",
        "          if self.patience_counter == self.patience:\n",
        "            print(\"Stopping training...\")\n",
        "            self.model.stop_training = True\n"
      ]
    },
    {
      "cell_type": "markdown",
      "metadata": {
        "id": "8HBZIwR0gruA"
      },
      "source": [
        "### Entrenamiento"
      ]
    },
    {
      "cell_type": "code",
      "execution_count": 25,
      "metadata": {
        "id": "oQq1PHDkxDvN"
      },
      "outputs": [
        {
          "name": "stdout",
          "output_type": "stream",
          "text": [
            "Epoch 1/20\n",
            "   3/1888 [..............................] - ETA: 1:54 - loss: 3.8834"
          ]
        },
        {
          "name": "stderr",
          "output_type": "stream",
          "text": [
            "2024-06-06 23:49:44.516097: I tensorflow/stream_executor/cuda/cuda_blas.cc:1614] TensorFloat-32 will be used for the matrix multiplication. This will only be logged once.\n"
          ]
        },
        {
          "name": "stdout",
          "output_type": "stream",
          "text": [
            "1887/1888 [============================>.] - ETA: 0s - loss: 2.0271"
          ]
        },
        {
          "name": "stderr",
          "output_type": "stream",
          "text": [
            "2024-06-06 23:52:11.208743: W tensorflow/core/framework/cpu_allocator_impl.cc:82] Allocation of 3583692000 exceeds 10% of free system memory.\n"
          ]
        },
        {
          "name": "stdout",
          "output_type": "stream",
          "text": [
            "\n",
            " mean perplexity: 5.058195365534271 \n",
            "\n",
            "INFO:tensorflow:Assets written to: my_model_char/assets\n",
            "Saved new model!\n",
            "1888/1888 [==============================] - 151s 79ms/step - loss: 2.0270\n",
            "Epoch 2/20\n",
            "1888/1888 [==============================] - ETA: 0s - loss: 1.7379"
          ]
        },
        {
          "name": "stderr",
          "output_type": "stream",
          "text": [
            "2024-06-06 23:54:48.726553: W tensorflow/core/framework/cpu_allocator_impl.cc:82] Allocation of 3583692000 exceeds 10% of free system memory.\n"
          ]
        },
        {
          "name": "stdout",
          "output_type": "stream",
          "text": [
            "\n",
            " mean perplexity: 4.570612076830947 \n",
            "\n",
            "INFO:tensorflow:Assets written to: my_model_char/assets\n",
            "Saved new model!\n",
            "1888/1888 [==============================] - 158s 84ms/step - loss: 1.7379\n",
            "Epoch 3/20\n",
            "1887/1888 [============================>.] - ETA: 0s - loss: 1.6840"
          ]
        },
        {
          "name": "stderr",
          "output_type": "stream",
          "text": [
            "2024-06-06 23:57:09.679982: W tensorflow/core/framework/cpu_allocator_impl.cc:82] Allocation of 3583692000 exceeds 10% of free system memory.\n"
          ]
        },
        {
          "name": "stdout",
          "output_type": "stream",
          "text": [
            "\n",
            " mean perplexity: 4.463606457296127 \n",
            "\n",
            "INFO:tensorflow:Assets written to: my_model_char/assets\n",
            "Saved new model!\n",
            "1888/1888 [==============================] - 141s 74ms/step - loss: 1.6840\n",
            "Epoch 4/20\n",
            "1888/1888 [==============================] - ETA: 0s - loss: 1.6609"
          ]
        },
        {
          "name": "stderr",
          "output_type": "stream",
          "text": [
            "2024-06-06 23:59:41.038486: W tensorflow/core/framework/cpu_allocator_impl.cc:82] Allocation of 3583692000 exceeds 10% of free system memory.\n"
          ]
        },
        {
          "name": "stdout",
          "output_type": "stream",
          "text": [
            "\n",
            " mean perplexity: 4.419148207488857 \n",
            "\n",
            "INFO:tensorflow:Assets written to: my_model_char/assets\n",
            "Saved new model!\n",
            "1888/1888 [==============================] - 151s 80ms/step - loss: 1.6609\n",
            "Epoch 5/20\n",
            "1888/1888 [==============================] - ETA: 0s - loss: 1.6467"
          ]
        },
        {
          "name": "stderr",
          "output_type": "stream",
          "text": [
            "2024-06-07 00:02:16.543461: W tensorflow/core/framework/cpu_allocator_impl.cc:82] Allocation of 3583692000 exceeds 10% of free system memory.\n"
          ]
        },
        {
          "name": "stdout",
          "output_type": "stream",
          "text": [
            "\n",
            " mean perplexity: 4.368722676071632 \n",
            "\n",
            "INFO:tensorflow:Assets written to: my_model_char/assets\n",
            "Saved new model!\n",
            "1888/1888 [==============================] - 156s 82ms/step - loss: 1.6467\n",
            "Epoch 6/20\n",
            "1888/1888 [==============================] - ETA: 0s - loss: 1.6373\n",
            " mean perplexity: 4.362087953232964 \n",
            "\n",
            "INFO:tensorflow:Assets written to: my_model_char/assets\n",
            "Saved new model!\n",
            "1888/1888 [==============================] - 150s 80ms/step - loss: 1.6373\n",
            "Epoch 7/20\n",
            "1888/1888 [==============================] - ETA: 0s - loss: 1.6305\n",
            " mean perplexity: 4.3647389637322815 \n",
            "\n",
            "1888/1888 [==============================] - 152s 80ms/step - loss: 1.6305\n",
            "Epoch 8/20\n",
            "1888/1888 [==============================] - ETA: 0s - loss: 1.6251\n",
            " mean perplexity: 4.350387962206919 \n",
            "\n",
            "INFO:tensorflow:Assets written to: my_model_char/assets\n",
            "Saved new model!\n",
            "1888/1888 [==============================] - 150s 80ms/step - loss: 1.6251\n",
            "Epoch 9/20\n",
            "1888/1888 [==============================] - ETA: 0s - loss: 1.6209\n",
            " mean perplexity: 4.399933713199059 \n",
            "\n",
            "1888/1888 [==============================] - 136s 72ms/step - loss: 1.6209\n",
            "Epoch 10/20\n",
            "1888/1888 [==============================] - ETA: 0s - loss: 1.6173\n",
            " mean perplexity: 4.333062497779524 \n",
            "\n",
            "INFO:tensorflow:Assets written to: my_model_char/assets\n",
            "Saved new model!\n",
            "1888/1888 [==============================] - 134s 71ms/step - loss: 1.6173\n",
            "Epoch 11/20\n",
            "1887/1888 [============================>.] - ETA: 0s - loss: 1.6142\n",
            " mean perplexity: 4.31175499237761 \n",
            "\n",
            "INFO:tensorflow:Assets written to: my_model_char/assets\n",
            "Saved new model!\n",
            "1888/1888 [==============================] - 148s 78ms/step - loss: 1.6142\n",
            "Epoch 12/20\n",
            "1888/1888 [==============================] - ETA: 0s - loss: 1.6115\n",
            " mean perplexity: 4.3247941360133115 \n",
            "\n",
            "1888/1888 [==============================] - 146s 77ms/step - loss: 1.6115\n",
            "Epoch 13/20\n",
            "1888/1888 [==============================] - ETA: 0s - loss: 1.6090\n",
            " mean perplexity: 4.321734732484984 \n",
            "\n",
            "1888/1888 [==============================] - 145s 77ms/step - loss: 1.6090\n",
            "Epoch 14/20\n",
            "1888/1888 [==============================] - ETA: 0s - loss: 1.6070\n",
            " mean perplexity: 4.29915505162474 \n",
            "\n",
            "INFO:tensorflow:Assets written to: my_model_char/assets\n",
            "Saved new model!\n",
            "1888/1888 [==============================] - 156s 83ms/step - loss: 1.6070\n",
            "Epoch 15/20\n",
            "1887/1888 [============================>.] - ETA: 0s - loss: 1.6053\n",
            " mean perplexity: 4.255695813297114 \n",
            "\n",
            "INFO:tensorflow:Assets written to: my_model_char/assets\n",
            "Saved new model!\n",
            "1888/1888 [==============================] - 146s 77ms/step - loss: 1.6053\n",
            "Epoch 16/20\n",
            "1887/1888 [============================>.] - ETA: 0s - loss: 1.6037\n",
            " mean perplexity: 4.251289616860059 \n",
            "\n",
            "INFO:tensorflow:Assets written to: my_model_char/assets\n",
            "Saved new model!\n",
            "1888/1888 [==============================] - 140s 74ms/step - loss: 1.6037\n",
            "Epoch 17/20\n",
            "1888/1888 [==============================] - ETA: 0s - loss: 1.6021\n",
            " mean perplexity: 4.22085663279426 \n",
            "\n",
            "INFO:tensorflow:Assets written to: my_model_char/assets\n",
            "Saved new model!\n",
            "1888/1888 [==============================] - 144s 76ms/step - loss: 1.6021\n",
            "Epoch 18/20\n",
            "1888/1888 [==============================] - ETA: 0s - loss: 1.6006\n",
            " mean perplexity: 4.225570802606022 \n",
            "\n",
            "1888/1888 [==============================] - 152s 80ms/step - loss: 1.6006\n",
            "Epoch 19/20\n",
            "1888/1888 [==============================] - ETA: 0s - loss: 1.5993\n",
            " mean perplexity: 4.201242112260518 \n",
            "\n",
            "INFO:tensorflow:Assets written to: my_model_char/assets\n",
            "Saved new model!\n",
            "1888/1888 [==============================] - 150s 79ms/step - loss: 1.5993\n",
            "Epoch 20/20\n",
            "1888/1888 [==============================] - ETA: 0s - loss: 1.5981\n",
            " mean perplexity: 4.209711266558272 \n",
            "\n",
            "1888/1888 [==============================] - 155s 82ms/step - loss: 1.5981\n"
          ]
        }
      ],
      "source": [
        "# fiteamos, nótese el agregado del callback con su inicialización. El batch_size lo podemos seleccionar a mano\n",
        "# en general, lo mejor es escoger el batch más grande posible que minimice el tiempo de cada época.\n",
        "# En la variable `history_ppl` se guardarán los valores de perplejidad para cada época.\n",
        "history_ppl = []\n",
        "hist = model.fit(X, y, epochs=20, callbacks=[PplCallback(tokenized_sentences_val,history_ppl)], batch_size=256)"
      ]
    },
    {
      "cell_type": "code",
      "execution_count": 26,
      "metadata": {
        "id": "K30JHB3Dv-mx"
      },
      "outputs": [
        {
          "data": {
            "image/png": "[encoded data removed]",
            "text/plain": [
              "<Figure size 640x480 with 1 Axes>"
            ]
          },
          "metadata": {},
          "output_type": "display_data"
        }
      ],
      "source": [
        "import matplotlib.pyplot as plt\n",
        "import seaborn as sns\n",
        "\n",
        "# Entrenamiento\n",
        "epoch_count = range(1, len(history_ppl) + 1)\n",
        "sns.lineplot(x=epoch_count,  y=history_ppl)\n",
        "plt.show()"
      ]
    },
    {
      "cell_type": "code",
      "execution_count": 27,
      "metadata": {
        "id": "Rhy5hZN38qfO"
      },
      "outputs": [],
      "source": [
        "# Cargamos el mejor modelo guardado del entrenamiento para hacer inferencia\n",
        "model = keras.models.load_model('my_model_char')"
      ]
    },
    {
      "cell_type": "markdown",
      "metadata": {
        "id": "KN6Fg_BsxJe6"
      },
      "source": [
        "\n",
        "### Predicción del próximo caracter"
      ]
    },
    {
      "cell_type": "code",
      "execution_count": 29,
      "metadata": {
        "id": "IBvKHFPmzpy2"
      },
      "outputs": [],
      "source": [
        "# Se puede usar gradio para probar el modelo\n",
        "# Gradio es una herramienta muy útil para crear interfaces para ensayar modelos\n",
        "# https://gradio.app/\n",
        "\n",
        "#!pip install -q gradio\n"
      ]
    },
    {
      "cell_type": "code",
      "execution_count": null,
      "metadata": {
        "id": "HNyBykvhzs7-"
      },
      "outputs": [],
      "source": [
        "import gradio as gr\n",
        "\n",
        "def model_response(human_text):\n",
        "\n",
        "    # Encodeamos\n",
        "    encoded = [char2idx[ch] for ch in human_text.lower() ]\n",
        "    # Si tienen distinto largo\n",
        "    encoded = pad_sequences([encoded], maxlen=max_context_size, padding='pre')\n",
        "\n",
        "    # Predicción softmax\n",
        "    y_hat = np.argmax(model.predict(encoded)[0,-1,:])\n",
        "\n",
        "\n",
        "    # Debemos buscar en el vocabulario el caracter\n",
        "    # que corresopnde al indice (y_hat) predicho por le modelo\n",
        "    out_word = ''\n",
        "    out_word = idx2char[y_hat]\n",
        "\n",
        "    # Agrego la palabra a la frase predicha\n",
        "    return human_text + out_word\n",
        "\n",
        "iface = gr.Interface(\n",
        "    fn=model_response,\n",
        "    inputs=[\"textbox\"],\n",
        "    outputs=\"text\")\n",
        "\n",
        "iface.launch(debug=True)"
      ]
    },
    {
      "cell_type": "markdown",
      "metadata": {
        "id": "mCeMWWupxN1-"
      },
      "source": [
        "### Generación de secuencias"
      ]
    },
    {
      "cell_type": "code",
      "execution_count": 30,
      "metadata": {
        "id": "bwbS_pfhxvB3"
      },
      "outputs": [],
      "source": [
        "def generate_seq(model, seed_text, max_length, n_words):\n",
        "    \"\"\"\n",
        "        Exec model sequence prediction\n",
        "\n",
        "        Args:\n",
        "            model (keras): modelo entrenado\n",
        "            seed_text (string): texto de entrada (input_seq)\n",
        "            max_length (int): máxima longitud de la sequencia de entrada\n",
        "            n_words (int): números de caracteres a agregar a la sequencia de entrada\n",
        "        returns:\n",
        "            output_text (string): sentencia con las \"n_words\" agregadas\n",
        "    \"\"\"\n",
        "    output_text = seed_text\n",
        "\t# generate a fixed number of words\n",
        "    for _ in range(n_words):\n",
        "\t\t# Encodeamos\n",
        "        encoded = [char2idx[ch] for ch in output_text.lower() ]\n",
        "\t\t# Si tienen distinto largo\n",
        "        encoded = pad_sequences([encoded], maxlen=max_length, padding='pre')\n",
        "\n",
        "\t\t# Predicción softmax\n",
        "        y_hat = np.argmax(model.predict(encoded,verbose=0)[0,-1,:])\n",
        "\t\t# Vamos concatenando las predicciones\n",
        "        out_word = ''\n",
        "\n",
        "        out_word = idx2char[y_hat]\n",
        "\n",
        "\t\t# Agrego las palabras a la frase predicha\n",
        "        output_text += out_word\n",
        "    return output_text"
      ]
    },
    {
      "cell_type": "code",
      "execution_count": 31,
      "metadata": {
        "id": "JoFqRC5pxzqS"
      },
      "outputs": [
        {
          "data": {
            "text/plain": [
              "'erase una vez más allá de la comarca de la '"
            ]
          },
          "execution_count": 31,
          "metadata": {},
          "output_type": "execute_result"
        }
      ],
      "source": [
        "input_text='erase una vez'\n",
        "\n",
        "generate_seq(model, input_text, max_length=max_context_size, n_words=30)"
      ]
    },
    {
      "cell_type": "markdown",
      "metadata": {
        "id": "drJ6xn5qW1Hl"
      },
      "source": [
        "###  Beam search y muestreo aleatorio"
      ]
    },
    {
      "cell_type": "code",
      "execution_count": 32,
      "metadata": {
        "id": "_vovn9XZW1Hl"
      },
      "outputs": [],
      "source": [
        "# funcionalidades para hacer encoding y decoding\n",
        "\n",
        "def encode(text,max_length=max_context_size):\n",
        "\n",
        "    encoded = [char2idx[ch] for ch in text]\n",
        "    encoded = pad_sequences([encoded], maxlen=max_length, padding='pre')\n",
        "\n",
        "    return encoded\n",
        "\n",
        "def decode(seq):\n",
        "    return ''.join([idx2char[ch] for ch in seq])"
      ]
    },
    {
      "cell_type": "code",
      "execution_count": 33,
      "metadata": {
        "id": "I_lZiQwkW1Hl"
      },
      "outputs": [],
      "source": [
        "from scipy.special import softmax\n",
        "\n",
        "# función que selecciona candidatos para el beam search\n",
        "def select_candidates(pred,num_beams,vocab_size,history_probs,history_tokens,temp,mode):\n",
        "\n",
        "  # colectar todas las probabilidades para la siguiente búsqueda\n",
        "  pred_large = []\n",
        "\n",
        "  for idx,pp in enumerate(pred):\n",
        "    pred_large.extend(np.log(pp+1E-10)+history_probs[idx])\n",
        "\n",
        "  pred_large = np.array(pred_large)\n",
        "\n",
        "  # criterio de selección\n",
        "  if mode == 'det':\n",
        "    idx_select = np.argsort(pred_large)[::-1][:num_beams] # beam search determinista\n",
        "  elif mode == 'sto':\n",
        "    idx_select = np.random.choice(np.arange(pred_large.shape[0]), num_beams, p=softmax(pred_large/temp)) # beam search con muestreo aleatorio\n",
        "  else:\n",
        "    raise ValueError(f'Wrong selection mode. {mode} was given. det and sto are supported.')\n",
        "\n",
        "  # traducir a índices de token en el vocabulario\n",
        "  new_history_tokens = np.concatenate((np.array(history_tokens)[idx_select//vocab_size],\n",
        "                        np.array([idx_select%vocab_size]).T),\n",
        "                      axis=1)\n",
        "\n",
        "  # devolver el producto de las probabilidades (log) y la secuencia de tokens seleccionados\n",
        "  return pred_large[idx_select.astype(int)], new_history_tokens.astype(int)\n",
        "\n",
        "\n",
        "def beam_search(model,num_beams,num_words,input,temp=1,mode='det'):\n",
        "\n",
        "    # first iteration\n",
        "\n",
        "    # encode\n",
        "    encoded = encode(input)\n",
        "\n",
        "    # first prediction\n",
        "    y_hat = model.predict(encoded,verbose=0)[0,-1,:]\n",
        "\n",
        "    # get vocabulary size\n",
        "    vocab_size = y_hat.shape[0]\n",
        "\n",
        "    # initialize history\n",
        "    history_probs = [0]*num_beams\n",
        "    history_tokens = [encoded[0]]*num_beams\n",
        "\n",
        "    # select num_beams candidates\n",
        "    history_probs, history_tokens = select_candidates([y_hat],\n",
        "                                        num_beams,\n",
        "                                        vocab_size,\n",
        "                                        history_probs,\n",
        "                                        history_tokens,\n",
        "                                        temp,\n",
        "                                        mode)\n",
        "\n",
        "    # beam search loop\n",
        "    for i in range(num_words-1):\n",
        "\n",
        "      preds = []\n",
        "\n",
        "      for hist in history_tokens:\n",
        "\n",
        "        # actualizar secuencia de tokens\n",
        "        input_update = np.array([hist[i+1:]]).copy()\n",
        "\n",
        "        # predicción\n",
        "        y_hat = model.predict(input_update,verbose=0)[0,-1,:]\n",
        "\n",
        "        preds.append(y_hat)\n",
        "\n",
        "      history_probs, history_tokens = select_candidates(preds,\n",
        "                                                        num_beams,\n",
        "                                                        vocab_size,\n",
        "                                                        history_probs,\n",
        "                                                        history_tokens,\n",
        "                                                        temp,\n",
        "                                                        mode)\n",
        "\n",
        "    return history_tokens"
      ]
    },
    {
      "cell_type": "code",
      "execution_count": 34,
      "metadata": {
        "id": "GeLqAoOYW1Hm"
      },
      "outputs": [],
      "source": [
        "# predicción con beam search\n",
        "salidas = beam_search(model,num_beams=10,num_words=20,input=\"erase una vez\")"
      ]
    },
    {
      "cell_type": "code",
      "execution_count": 35,
      "metadata": {
        "id": "P8HQoLhw-NYg"
      },
      "outputs": [
        {
          "data": {
            "text/plain": [
              "array([ 0,  0,  0,  0,  0,  0,  0,  0,  0,  0,  0,  0,  0,  0,  0,  0,  0,\n",
              "        0,  0,  0,  0,  0,  0,  0,  0,  0,  0,  0,  0,  0,  0,  0,  0,  0,\n",
              "        0,  0,  0,  0,  0,  0,  0,  0,  0,  0,  0,  0,  0,  0,  0,  0,  0,\n",
              "        0,  0,  0,  0,  0,  0,  0,  0,  0,  0,  0,  0,  0,  0,  0,  0,  0,\n",
              "        0,  0,  0,  0,  0,  0,  0,  0,  0,  0,  0,  0,  0,  0,  0,  0,  0,\n",
              "        0,  0, 50, 40, 61, 32, 50,  8, 62,  1, 61,  8, 28, 50, 35,  8, 26,\n",
              "       62, 50,  8, 57,  3, 32,  8, 55,  3, 15, 15, 44,  6, 32,  8, 51, 50,\n",
              "        8])"
            ]
          },
          "execution_count": 35,
          "metadata": {},
          "output_type": "execute_result"
        }
      ],
      "source": [
        "salidas[0]"
      ]
    },
    {
      "cell_type": "code",
      "execution_count": 36,
      "metadata": {
        "id": "2S3_I3S1W1Hm"
      },
      "outputs": [
        {
          "data": {
            "text/plain": [
              "':::::::::::::::::::::::::::::::::::::::::::::::::::::::::::::::::::::::::::::::::::::::erase una vez que los hobbits de '"
            ]
          },
          "execution_count": 36,
          "metadata": {},
          "output_type": "execute_result"
        }
      ],
      "source": [
        "# veamos las salidas\n",
        "decode(salidas[0])"
      ]
    },
    {
      "cell_type": "markdown",
      "metadata": {
        "id": "Q_LlqmtEW1Hn"
      },
      "source": []
    }
  ],
  "metadata": {
    "accelerator": "GPU",
    "colab": {
      "gpuType": "T4",
      "provenance": []
    },
    "kernelspec": {
      "display_name": "Python 3",
      "name": "python3"
    },
    "language_info": {
      "codemirror_mode": {
        "name": "ipython",
        "version": 3
      },
      "file_extension": ".py",
      "mimetype": "text/x-python",
      "name": "python",
      "nbconvert_exporter": "python",
      "pygments_lexer": "ipython3",
      "version": "3.9.-1"
    }
  },
  "nbformat": 4,
  "nbformat_minor": 0
}
