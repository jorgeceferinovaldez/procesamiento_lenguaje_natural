{
 "cells": [
  {
   "cell_type": "markdown",
   "metadata": {
    "id": "sZd5yLnnHOK0"
   },
   "source": [
    "# Procesamiento de lenguaje natural\n",
    "## Desafío 2\n"
   ]
  },
  {
   "cell_type": "markdown",
   "metadata": {
    "id": "vA7nqkumo9z9"
   },
   "source": [
    "### Objetivo\n",
    "El objetivo es utilizar documentos / corpus para crear embeddings de palabras basado en ese contexto. Se utilizará canciones de bandas para generar los embeddings, es decir, que los vectores tendrán la forma en función de como esa banda haya utilizado las palabras en sus canciones.\n",
    "\n",
    "- Crear sus propios vectores con Gensim basado en lo visto en clase con otro dataset.\n",
    "- Probar términos de interés y explicar similitudes en el espacio de embeddings (sacar conclusiones entre palabras similitudes y diferencias).\n",
    "- Graficarlos.\n",
    "- Obtener conclusiones."
   ]
  },
  {
   "cell_type": "code",
   "execution_count": 1,
   "metadata": {
    "id": "lFToQs5FK5uZ"
   },
   "outputs": [],
   "source": [
    "import os\n",
    "import pandas as pd\n",
    "import matplotlib.pyplot as plt\n",
    "import seaborn as sns\n",
    "\n",
    "import multiprocessing\n",
    "from gensim.models import Word2Vec"
   ]
  },
  {
   "cell_type": "markdown",
   "metadata": {
    "id": "g07zJxG7H9vG"
   },
   "source": [
    "### Datos\n",
    "Utilizaremos como dataset canciones de bandas de habla inglesa."
   ]
  },
  {
   "cell_type": "code",
   "execution_count": 2,
   "metadata": {
    "id": "mysGrIw9ljC2"
   },
   "outputs": [
    {
     "data": {
      "text/plain": [
       "['Fundacion.txt']"
      ]
     },
     "execution_count": 2,
     "metadata": {},
     "output_type": "execute_result"
    }
   ],
   "source": [
    "# Directorio de los dataset de libros\n",
    "os.listdir(\"./libros_dataset/\")"
   ]
  },
  {
   "cell_type": "code",
   "execution_count": 3,
   "metadata": {
    "id": "ticoqYD1Z3I7"
   },
   "outputs": [
    {
     "name": "stderr",
     "output_type": "stream",
     "text": [
      "/var/folders/tx/kndmxn0s0llcl9y65wfc6y_80000gn/T/ipykernel_8710/1480457263.py:2: ParserWarning: Falling back to the 'python' engine because the 'c' engine does not support regex separators (separators > 1 char and different from '\\s+' are interpreted as regex); you can avoid this warning by specifying engine='python'.\n",
      "  df = pd.read_csv('libros_dataset/Fundacion.txt', sep='/n', header=None)\n"
     ]
    },
    {
     "data": {
      "text/html": [
       "<div>\n",
       "<style scoped>\n",
       "    .dataframe tbody tr th:only-of-type {\n",
       "        vertical-align: middle;\n",
       "    }\n",
       "\n",
       "    .dataframe tbody tr th {\n",
       "        vertical-align: top;\n",
       "    }\n",
       "\n",
       "    .dataframe thead th {\n",
       "        text-align: right;\n",
       "    }\n",
       "</style>\n",
       "<table border=\"1\" class=\"dataframe\">\n",
       "  <thead>\n",
       "    <tr style=\"text-align: right;\">\n",
       "      <th></th>\n",
       "      <th>0</th>\n",
       "    </tr>\n",
       "  </thead>\n",
       "  <tbody>\n",
       "    <tr>\n",
       "      <th>0</th>\n",
       "      <td>TRILOGÍA DE LA FUNDACION</td>\n",
       "    </tr>\n",
       "    <tr>\n",
       "      <th>1</th>\n",
       "      <td>FUNDACIÓN</td>\n",
       "    </tr>\n",
       "    <tr>\n",
       "      <th>2</th>\n",
       "      <td>FUNDACIÓN E IMPERIO</td>\n",
       "    </tr>\n",
       "    <tr>\n",
       "      <th>3</th>\n",
       "      <td>SEGUNDA FUNDACIÓN</td>\n",
       "    </tr>\n",
       "    <tr>\n",
       "      <th>4</th>\n",
       "      <td>Reunión en un solo volumen de las tres novelas...</td>\n",
       "    </tr>\n",
       "  </tbody>\n",
       "</table>\n",
       "</div>"
      ],
      "text/plain": [
       "                                                   0\n",
       "0                           TRILOGÍA DE LA FUNDACION\n",
       "1                                          FUNDACIÓN\n",
       "2                                FUNDACIÓN E IMPERIO\n",
       "3                                  SEGUNDA FUNDACIÓN\n",
       "4  Reunión en un solo volumen de las tres novelas..."
      ]
     },
     "execution_count": 3,
     "metadata": {},
     "output_type": "execute_result"
    }
   ],
   "source": [
    "# Armar el dataset utilizando salto de línea para separar las oraciones/docs\n",
    "df = pd.read_csv('libros_dataset/Fundacion.txt', sep='/n', header=None)\n",
    "df.head()"
   ]
  },
  {
   "cell_type": "code",
   "execution_count": 4,
   "metadata": {
    "id": "LEpKubK9XzXN"
   },
   "outputs": [
    {
     "name": "stdout",
     "output_type": "stream",
     "text": [
      "Cantidad de documentos: 26966\n"
     ]
    }
   ],
   "source": [
    "print(\"Cantidad de documentos:\", df.shape[0])"
   ]
  },
  {
   "cell_type": "markdown",
   "metadata": {
    "id": "ab94qaFlrA1G"
   },
   "source": [
    "### 1 - Preprocesamiento"
   ]
  },
  {
   "cell_type": "code",
   "execution_count": 5,
   "metadata": {
    "id": "rIsmMWmjrDHd"
   },
   "outputs": [],
   "source": [
    "from keras.preprocessing.text import text_to_word_sequence\n",
    "\n",
    "sentence_tokens = []\n",
    "# Recorrer todas las filas y transformar las oraciones\n",
    "# en una secuencia de palabras (esto podría realizarse con NLTK o spaCy también)\n",
    "for _, row in df[:None].iterrows():\n",
    "    sentence_tokens.append(text_to_word_sequence(row[0]))"
   ]
  },
  {
   "cell_type": "code",
   "execution_count": 6,
   "metadata": {
    "id": "CHepi_DGrbhq"
   },
   "outputs": [
    {
     "data": {
      "text/plain": [
       "[['trilogía', 'de', 'la', 'fundacion'], ['fundación']]"
      ]
     },
     "execution_count": 6,
     "metadata": {},
     "output_type": "execute_result"
    }
   ],
   "source": [
    "# Demos un vistazo\n",
    "sentence_tokens[:2]"
   ]
  },
  {
   "cell_type": "markdown",
   "metadata": {
    "id": "BaXV6nlHr5Aa"
   },
   "source": [
    "### 2 - Crear los vectores (word2vec)"
   ]
  },
  {
   "cell_type": "code",
   "execution_count": 7,
   "metadata": {
    "id": "OSb0v7h8r7hK"
   },
   "outputs": [],
   "source": [
    "from gensim.models.callbacks import CallbackAny2Vec\n",
    "# Durante el entrenamiento gensim por defecto no informa el \"loss\" en cada época\n",
    "# Sobrecargamos el callback para poder tener esta información\n",
    "class callback(CallbackAny2Vec):\n",
    "    \"\"\"\n",
    "    Callback to print loss after each epoch\n",
    "    \"\"\"\n",
    "    def __init__(self):\n",
    "        self.epoch = 0\n",
    "\n",
    "    def on_epoch_end(self, model):\n",
    "        loss = model.get_latest_training_loss()\n",
    "        if self.epoch == 0:\n",
    "            print('Loss after epoch {}: {}'.format(self.epoch, loss))\n",
    "        else:\n",
    "            print('Loss after epoch {}: {}'.format(self.epoch, loss- self.loss_previous_step))\n",
    "        self.epoch += 1\n",
    "        self.loss_previous_step = loss"
   ]
  },
  {
   "cell_type": "code",
   "execution_count": 8,
   "metadata": {
    "id": "i0wnDdv9sJ47"
   },
   "outputs": [],
   "source": [
    "# Crearmos el modelo generador de vectores\n",
    "# En este caso utilizaremos la estructura modelo Skipgram\n",
    "w2v_model = Word2Vec(min_count=5,    # frecuencia mínima de palabra para incluirla en el vocabulario\n",
    "                     window=3,       # cant de palabras antes y desp de la predicha\n",
    "                     vector_size=300,       # dimensionalidad de los vectores \n",
    "                     negative=20,    # cantidad de negative samples... 0 es no se usa\n",
    "                     workers=12,      # si tienen más cores pueden cambiar este valor\n",
    "                     sg=1)           # modelo 0:CBOW  1:skipgram"
   ]
  },
  {
   "cell_type": "code",
   "execution_count": 9,
   "metadata": {
    "id": "5lTt8wErsf17"
   },
   "outputs": [],
   "source": [
    "# Obtener el vocabulario con los tokens\n",
    "w2v_model.build_vocab(sentence_tokens)"
   ]
  },
  {
   "cell_type": "code",
   "execution_count": 10,
   "metadata": {
    "id": "TNc9qt4os5AT"
   },
   "outputs": [
    {
     "name": "stdout",
     "output_type": "stream",
     "text": [
      "Cantidad de docs en el corpus: 26966\n"
     ]
    }
   ],
   "source": [
    "# Cantidad de filas/docs encontradas en el corpus\n",
    "print(\"Cantidad de docs en el corpus:\", w2v_model.corpus_count)"
   ]
  },
  {
   "cell_type": "code",
   "execution_count": 11,
   "metadata": {
    "id": "idw9cHF3tSMl"
   },
   "outputs": [
    {
     "name": "stdout",
     "output_type": "stream",
     "text": [
      "Cantidad de words distintas en el corpus: 4351\n"
     ]
    }
   ],
   "source": [
    "# Cantidad de words encontradas en el corpus\n",
    "print(\"Cantidad de words distintas en el corpus:\", len(w2v_model.wv.index_to_key))"
   ]
  },
  {
   "cell_type": "markdown",
   "metadata": {
    "id": "fC9mZ8DPk-UC"
   },
   "source": [
    "### 3 - Entrenar embeddings"
   ]
  },
  {
   "cell_type": "code",
   "execution_count": 12,
   "metadata": {
    "id": "QSp-x0PAsq56"
   },
   "outputs": [
    {
     "name": "stdout",
     "output_type": "stream",
     "text": [
      "Loss after epoch 0: 167605.859375\n",
      "Loss after epoch 1: 132496.140625\n",
      "Loss after epoch 2: 131799.6875\n",
      "Loss after epoch 3: 130045.0625\n",
      "Loss after epoch 4: 123827.6875\n",
      "Loss after epoch 5: 122599.8125\n",
      "Loss after epoch 6: 119896.125\n",
      "Loss after epoch 7: 117862.25\n",
      "Loss after epoch 8: 107620.375\n",
      "Loss after epoch 9: 105469.875\n",
      "Loss after epoch 10: 104578.625\n",
      "Loss after epoch 11: 103092.5\n",
      "Loss after epoch 12: 99024.5\n",
      "Loss after epoch 13: 102581.25\n",
      "Loss after epoch 14: 99652.5\n",
      "Loss after epoch 15: 99145.0\n",
      "Loss after epoch 16: 96760.25\n",
      "Loss after epoch 17: 96931.375\n",
      "Loss after epoch 18: 92959.125\n",
      "Loss after epoch 19: 87917.0\n",
      "Loss after epoch 20: 86486.75\n",
      "Loss after epoch 21: 86028.5\n",
      "Loss after epoch 22: 86384.5\n",
      "Loss after epoch 23: 86496.5\n",
      "Loss after epoch 24: 84356.5\n",
      "Loss after epoch 25: 82456.0\n",
      "Loss after epoch 26: 85448.75\n",
      "Loss after epoch 27: 81696.75\n",
      "Loss after epoch 28: 82041.25\n",
      "Loss after epoch 29: 82855.25\n",
      "Loss after epoch 30: 82735.75\n",
      "Loss after epoch 31: 81755.0\n",
      "Loss after epoch 32: 81540.5\n",
      "Loss after epoch 33: 80401.5\n",
      "Loss after epoch 34: 82125.75\n",
      "Loss after epoch 35: 81485.5\n",
      "Loss after epoch 36: 79198.75\n",
      "Loss after epoch 37: 77590.5\n",
      "Loss after epoch 38: 79963.0\n",
      "Loss after epoch 39: 78451.0\n",
      "Loss after epoch 40: 79338.0\n",
      "Loss after epoch 41: 78128.5\n",
      "Loss after epoch 42: 78506.5\n",
      "Loss after epoch 43: 77878.0\n",
      "Loss after epoch 44: 73521.5\n",
      "Loss after epoch 45: 71406.5\n",
      "Loss after epoch 46: 71109.0\n",
      "Loss after epoch 47: 70991.5\n",
      "Loss after epoch 48: 70451.0\n",
      "Loss after epoch 49: 71025.5\n"
     ]
    },
    {
     "data": {
      "text/plain": [
       "(6657559, 10737500)"
      ]
     },
     "execution_count": 12,
     "metadata": {},
     "output_type": "execute_result"
    }
   ],
   "source": [
    "# Entrenamos el modelo generador de vectores\n",
    "# Utilizamos nuestro callback\n",
    "w2v_model.train(sentence_tokens,\n",
    "                 total_examples=w2v_model.corpus_count,\n",
    "                 epochs=50,\n",
    "                 compute_loss = True,\n",
    "                 callbacks=[callback()]\n",
    "                 )"
   ]
  },
  {
   "cell_type": "markdown",
   "metadata": {
    "id": "ddT9NVuNlCAe"
   },
   "source": [
    "### 4 - Ensayar\n",
    "\n",
    "Ensayare el modelo usando las siguientes palabras:\n",
    "\n",
    "- Imperio.\n",
    "- Seldon.\n",
    "- Gaal\n",
    "- Fundación.\n",
    "- Psicohistoria.\n",
    "- Enciclopedia.\n",
    "- Mulo.\n",
    "- Términus.\n",
    "- Imperial.\n",
    "- Trántor"
   ]
  },
  {
   "cell_type": "markdown",
   "metadata": {},
   "source": [
    "### Similitudes\n",
    "\n",
    "Mostraré las 5 palabras mas similes."
   ]
  },
  {
   "cell_type": "code",
   "execution_count": 13,
   "metadata": {
    "id": "6cHN9xGLuPEm"
   },
   "outputs": [
    {
     "data": {
      "text/plain": [
       "[('humanidad', 0.4108303189277649),\n",
       " ('excesivamente', 0.41061973571777344),\n",
       " ('galáctico', 0.39687320590019226),\n",
       " ('suelta', 0.39265039563179016),\n",
       " ('destinada', 0.38818666338920593)]"
      ]
     },
     "execution_count": 13,
     "metadata": {},
     "output_type": "execute_result"
    }
   ],
   "source": [
    "# Palabras que MÁS se relacionan con \"Imperio\":\n",
    "w2v_model.wv.most_similar(positive=[\"imperio\"], topn=5)\n"
   ]
  },
  {
   "cell_type": "code",
   "execution_count": 14,
   "metadata": {},
   "outputs": [
    {
     "data": {
      "text/plain": [
       "[('hari', 0.5696995258331299),\n",
       " ('8', 0.4933924973011017),\n",
       " ('dornick', 0.4626477360725403),\n",
       " ('inminente', 0.42940810322761536),\n",
       " ('previó', 0.4185936152935028)]"
      ]
     },
     "execution_count": 14,
     "metadata": {},
     "output_type": "execute_result"
    }
   ],
   "source": [
    "# Palabras que MÁS se relacionan con \"Seldon\":\n",
    "w2v_model.wv.most_similar(positive=[\"seldon\"], topn=5)"
   ]
  },
  {
   "cell_type": "code",
   "execution_count": 15,
   "metadata": {},
   "outputs": [
    {
     "data": {
      "text/plain": [
       "[('dornick', 0.4138815701007843),\n",
       " ('8', 0.37677448987960815),\n",
       " ('aguardó', 0.3741309344768524),\n",
       " ('escrita', 0.37136903405189514),\n",
       " ('—riose', 0.3686164319515228)]"
      ]
     },
     "execution_count": 15,
     "metadata": {},
     "output_type": "execute_result"
    }
   ],
   "source": [
    "# Palabras que MÁS se relacionan con \"Gaal\":\n",
    "w2v_model.wv.most_similar(positive=[\"gaal\"], topn=5)"
   ]
  },
  {
   "cell_type": "code",
   "execution_count": 16,
   "metadata": {},
   "outputs": [
    {
     "data": {
      "text/plain": [
       "[('segunda', 0.47839033603668213),\n",
       " ('isaac', 0.4157848358154297),\n",
       " ('actualmente', 0.3846505880355835),\n",
       " ('convencido', 0.37542980909347534),\n",
       " ('protección', 0.3586493134498596)]"
      ]
     },
     "execution_count": 16,
     "metadata": {},
     "output_type": "execute_result"
    }
   ],
   "source": [
    "# Palabras que MÁS se relacionan con \"Fundación\":\n",
    "w2v_model.wv.most_similar(positive=[\"fundación\"], topn=5)"
   ]
  },
  {
   "cell_type": "code",
   "execution_count": 17,
   "metadata": {},
   "outputs": [
    {
     "data": {
      "text/plain": [
       "[('distintas', 0.4634544849395752),\n",
       " ('reacciones', 0.45407941937446594),\n",
       " ('predice', 0.44689813256263733),\n",
       " ('sociales', 0.43434205651283264),\n",
       " ('leyes', 0.4310802221298218)]"
      ]
     },
     "execution_count": 17,
     "metadata": {},
     "output_type": "execute_result"
    }
   ],
   "source": [
    "# Palabras que MÁS se relacionan con \"Psicohistoria\":\n",
    "w2v_model.wv.most_similar(positive=[\"psicohistoria\"], topn=5)"
   ]
  },
  {
   "cell_type": "code",
   "execution_count": 18,
   "metadata": {},
   "outputs": [
    {
     "data": {
      "text/plain": [
       "[('proceden', 0.48386141657829285),\n",
       " ('espiral', 0.46682462096214294),\n",
       " ('edición', 0.4345708191394806),\n",
       " ('f', 0.41842105984687805),\n",
       " ('7', 0.41689515113830566)]"
      ]
     },
     "execution_count": 18,
     "metadata": {},
     "output_type": "execute_result"
    }
   ],
   "source": [
    "# Palabras que MÁS se relacionan con \"Enciclopedia\":\n",
    "w2v_model.wv.most_similar(positive=[\"enciclopedia\"], topn=5)"
   ]
  },
  {
   "cell_type": "code",
   "execution_count": 19,
   "metadata": {},
   "outputs": [
    {
     "data": {
      "text/plain": [
       "[('tristes', 0.35085055232048035),\n",
       " ('mutación', 0.35059884190559387),\n",
       " ('maligno', 0.3385881781578064),\n",
       " ('—todavía', 0.3377206027507782),\n",
       " ('potencial', 0.33400189876556396)]"
      ]
     },
     "execution_count": 19,
     "metadata": {},
     "output_type": "execute_result"
    }
   ],
   "source": [
    "# Palabras que MÁS se relacionan con \"Mulo\":\n",
    "w2v_model.wv.most_similar(positive=[\"mulo\"], topn=5)"
   ]
  },
  {
   "cell_type": "code",
   "execution_count": 20,
   "metadata": {},
   "outputs": [
    {
     "data": {
      "text/plain": [
       "[('establecida', 0.37248238921165466),\n",
       " ('llegará', 0.3598547875881195),\n",
       " ('estableció', 0.3592778742313385),\n",
       " ('estados', 0.35245397686958313),\n",
       " ('docena', 0.3459130823612213)]"
      ]
     },
     "execution_count": 20,
     "metadata": {},
     "output_type": "execute_result"
    }
   ],
   "source": [
    "# Palabras que MÁS se relacionan con \"Términus\":\n",
    "w2v_model.wv.most_similar(positive=[\"términus\"], topn=5)"
   ]
  },
  {
   "cell_type": "code",
   "execution_count": 21,
   "metadata": {},
   "outputs": [
    {
     "data": {
      "text/plain": [
       "[('terrenos', 0.46898820996284485),\n",
       " ('etiqueta', 0.41755568981170654),\n",
       " ('biblioteca', 0.4109555780887604),\n",
       " ('majestad', 0.40965744853019714),\n",
       " ('cumplir', 0.39516037702560425)]"
      ]
     },
     "execution_count": 21,
     "metadata": {},
     "output_type": "execute_result"
    }
   ],
   "source": [
    "# Palabras que MÁS se relacionan con \"Imperial\":\n",
    "w2v_model.wv.most_similar(positive=[\"imperial\"], topn=5)"
   ]
  },
  {
   "cell_type": "code",
   "execution_count": 22,
   "metadata": {},
   "outputs": [
    {
     "data": {
      "text/plain": [
       "[('santanni', 0.4189485013484955),\n",
       " ('setenta', 0.35812363028526306),\n",
       " ('humanidad', 0.3569578230381012),\n",
       " ('8', 0.33783596754074097),\n",
       " ('agrícola', 0.33734655380249023)]"
      ]
     },
     "execution_count": 22,
     "metadata": {},
     "output_type": "execute_result"
    }
   ],
   "source": [
    "# Palabras que MÁS se relacionan con \"Trántor\":\n",
    "w2v_model.wv.most_similar(positive=[\"trántor\"], topn=5)"
   ]
  },
  {
   "cell_type": "markdown",
   "metadata": {},
   "source": [
    "### Diferencias\n",
    "\n",
    "Mostraré las 5 palabras mas diferentes."
   ]
  },
  {
   "cell_type": "code",
   "execution_count": 23,
   "metadata": {},
   "outputs": [
    {
     "data": {
      "text/plain": [
       "[('observó', 0.04553065821528435),\n",
       " ('parece', 0.04148180037736893),\n",
       " ('hacerle', 0.030859841033816338),\n",
       " ('incalificable', 0.028506506234407425),\n",
       " ('acerca', 0.027717841789126396)]"
      ]
     },
     "execution_count": 23,
     "metadata": {},
     "output_type": "execute_result"
    }
   ],
   "source": [
    "# Palabras que MENOS se relacionan con \"Imperio\":\n",
    "w2v_model.wv.most_similar(negative=[\"imperio\"], topn=5)"
   ]
  },
  {
   "cell_type": "code",
   "execution_count": 24,
   "metadata": {
    "id": "47HiU5gdkdMq"
   },
   "outputs": [
    {
     "data": {
      "text/plain": [
       "[('tus', 0.047680530697107315),\n",
       " ('dando', 0.040176574140787125),\n",
       " ('vestido', 0.02136993780732155),\n",
       " ('atómicos', 0.0211309976875782),\n",
       " ('parecían', 0.015290911309421062)]"
      ]
     },
     "execution_count": 24,
     "metadata": {},
     "output_type": "execute_result"
    }
   ],
   "source": [
    "# Palabras que MENOS se relacionan con \"Seldon\":\n",
    "w2v_model.wv.most_similar(negative=[\"seldon\"], topn=5)"
   ]
  },
  {
   "cell_type": "code",
   "execution_count": 25,
   "metadata": {
    "id": "DT4Rvno2mD65"
   },
   "outputs": [
    {
     "data": {
      "text/plain": [
       "[('además', 0.042299263179302216),\n",
       " ('cual', 0.030057383701205254),\n",
       " ('buena', 0.021691760048270226),\n",
       " ('casa', 0.021516995504498482),\n",
       " ('uno', 0.019355976954102516)]"
      ]
     },
     "execution_count": 25,
     "metadata": {},
     "output_type": "execute_result"
    }
   ],
   "source": [
    "# Palabras que MENOS se relacionan con \"Gaal\":\n",
    "w2v_model.wv.most_similar(negative=[\"gaal\"], topn=5)"
   ]
  },
  {
   "cell_type": "code",
   "execution_count": 26,
   "metadata": {
    "id": "XPLDPgzBmQXt"
   },
   "outputs": [
    {
     "data": {
      "text/plain": [
       "[('receptor', 0.05285129323601723),\n",
       " ('delgado', 0.02012752927839756),\n",
       " ('frío', 0.019343731924891472),\n",
       " ('ven', 0.014842206612229347),\n",
       " ('interrumpió', 0.00515055051073432)]"
      ]
     },
     "execution_count": 26,
     "metadata": {},
     "output_type": "execute_result"
    }
   ],
   "source": [
    "# Palabras que MENOS se relacionan con \"Fundación\":\n",
    "w2v_model.wv.most_similar(negative=[\"fundación\"], topn=5)"
   ]
  },
  {
   "cell_type": "code",
   "execution_count": 27,
   "metadata": {
    "id": "L_UvHPMMklOr"
   },
   "outputs": [
    {
     "data": {
      "text/plain": [
       "[('resto', 0.05289734527468681),\n",
       " ('muchacho', 0.04732118919491768),\n",
       " ('jardín', 0.012435169890522957),\n",
       " ('fugitivo', 0.004763633478432894),\n",
       " ('recibió', 0.004045072942972183)]"
      ]
     },
     "execution_count": 27,
     "metadata": {},
     "output_type": "execute_result"
    }
   ],
   "source": [
    "# Palabras que MENOS se relacionan con \"Psicohistoria\":\n",
    "w2v_model.wv.most_similar(negative=[\"psicohistoria\"], topn=5)"
   ]
  },
  {
   "cell_type": "code",
   "execution_count": 28,
   "metadata": {},
   "outputs": [
    {
     "data": {
      "text/plain": [
       "[('salto', 0.07689458876848221),\n",
       " ('repentina', 0.058484215289354324),\n",
       " ('cierta', 0.053846560418605804),\n",
       " ('contestó', 0.03409111499786377),\n",
       " ('atrás', 0.027404405176639557)]"
      ]
     },
     "execution_count": 28,
     "metadata": {},
     "output_type": "execute_result"
    }
   ],
   "source": [
    "# Palabras que MENOS se relacionan con \"Enciclopedia\":\n",
    "w2v_model.wv.most_similar(negative=[\"enciclopedia\"], topn=5)"
   ]
  },
  {
   "cell_type": "code",
   "execution_count": 29,
   "metadata": {},
   "outputs": [
    {
     "data": {
      "text/plain": [
       "[('lista', 0.040851544588804245),\n",
       " ('placer', 0.03344811871647835),\n",
       " ('compañía', 0.029159696772694588),\n",
       " ('recibir', 0.02559681050479412),\n",
       " ('mañana', 0.023112447932362556)]"
      ]
     },
     "execution_count": 29,
     "metadata": {},
     "output_type": "execute_result"
    }
   ],
   "source": [
    "# Palabras que MENOS se relacionan con \"Mulo\":\n",
    "w2v_model.wv.most_similar(negative=[\"mulo\"], topn=5)"
   ]
  },
  {
   "cell_type": "code",
   "execution_count": 30,
   "metadata": {},
   "outputs": [
    {
     "data": {
      "text/plain": [
       "[('exclamó', 0.041755370795726776),\n",
       " ('pesar', 0.041379936039447784),\n",
       " ('falta', 0.029171321541070938),\n",
       " ('barba', 0.029141239821910858),\n",
       " ('emociones', 0.02095438539981842)]"
      ]
     },
     "execution_count": 30,
     "metadata": {},
     "output_type": "execute_result"
    }
   ],
   "source": [
    "# Palabras que MENOS se relacionan con \"Términus\":\n",
    "w2v_model.wv.most_similar(negative=[\"términus\"], topn=5)"
   ]
  },
  {
   "cell_type": "code",
   "execution_count": 31,
   "metadata": {},
   "outputs": [
    {
     "data": {
      "text/plain": [
       "[('—una', 0.0493110828101635),\n",
       " ('buscar', 0.029083386063575745),\n",
       " ('fulham', 0.027314962819218636),\n",
       " ('preguntó', 0.026755427941679955),\n",
       " ('estrella', 0.022910205647349358)]"
      ]
     },
     "execution_count": 31,
     "metadata": {},
     "output_type": "execute_result"
    }
   ],
   "source": [
    "# Palabras que MENOS se relacionan con \"Imperial\":\n",
    "w2v_model.wv.most_similar(negative=[\"imperial\"], topn=5)"
   ]
  },
  {
   "cell_type": "code",
   "execution_count": 32,
   "metadata": {},
   "outputs": [
    {
     "data": {
      "text/plain": [
       "[('torpe', 0.048937730491161346),\n",
       " ('ansiedad', 0.04504131153225899),\n",
       " ('captó', 0.04076023027300835),\n",
       " ('leer', 0.038339197635650635),\n",
       " ('agente', 0.023380475118756294)]"
      ]
     },
     "execution_count": 32,
     "metadata": {},
     "output_type": "execute_result"
    }
   ],
   "source": [
    "# Palabras que MENOS se relacionan con \"Trántor\":\n",
    "w2v_model.wv.most_similar(negative=[\"trántor\"], topn=5)"
   ]
  },
  {
   "cell_type": "markdown",
   "metadata": {
    "id": "_g8UVWe6lFmh"
   },
   "source": [
    "### 5 - Visualizar agrupación de vectores"
   ]
  },
  {
   "cell_type": "code",
   "execution_count": 33,
   "metadata": {
    "id": "pDxEVXAivjr9"
   },
   "outputs": [],
   "source": [
    "from sklearn.decomposition import IncrementalPCA    \n",
    "from sklearn.manifold import TSNE                   \n",
    "import numpy as np                                  \n",
    "\n",
    "def reduce_dimensions(model, num_dimensions = 2 ):\n",
    "     \n",
    "    vectors = np.asarray(model.wv.vectors)\n",
    "    labels = np.asarray(model.wv.index_to_key)  \n",
    "\n",
    "    tsne = TSNE(n_components=num_dimensions, random_state=0)\n",
    "    vectors = tsne.fit_transform(vectors)\n",
    "\n",
    "    return vectors, labels"
   ]
  },
  {
   "cell_type": "code",
   "execution_count": 34,
   "metadata": {
    "id": "NCCXtDpcugmd"
   },
   "outputs": [
    {
     "data": {
      "application/vnd.plotly.v1+json": {
       "config": {
        "plotlyServerURL": "https://plot.ly"
       },
       "data": [
        {
         "hovertemplate": "x=%{x}<br>y=%{y}<br>text=%{text}<extra></extra>",
         "legendgroup": "",
         "marker": {
          "color": "#636efa",
          "symbol": "circle"
         },
         "mode": "markers+text",
         "name": "",
         "orientation": "v",
         "showlegend": false,
         "text": [
          "de",
          "la",
          "que",
          "y",
          "el",
          "en",
          "a",
          "no",
          "se",
          "un",
          "una",
          "los",
          "su",
          "con",
          "es",
          "lo",
          "del",
          "por",
          "las",
          "pero",
          "para",
          "al",
          "más",
          "le",
          "sus",
          "fundación",
          "era",
          "usted",
          "como",
          "ha",
          "si",
          "me",
          "había",
          "todo",
          "yo",
          "mulo",
          "mi",
          "dijo",
          "qué",
          "cuando",
          "él",
          "ya",
          "sin",
          "está",
          "ahora",
          "fue",
          "muy",
          "seldon",
          "sólo",
          "vez",
          "hombre",
          "o",
          "puede",
          "he",
          "sobre",
          "estaba",
          "dos",
          "ser",
          "nada",
          "esto",
          "eso",
          "imperio",
          "¿qué",
          "sí",
          "sido",
          "galaxia",
          "hay",
          "bien",
          "todos",
          "hasta",
          "nos",
          "segunda",
          "este",
          "años",
          "aquí",
          "mis",
          "algo",
          "entonces",
          "mismo",
          "son",
          "han",
          "hardin",
          "hacia",
          "hombres",
          "después",
          "hecho",
          "voz",
          "ojos",
          "tiene",
          "ni",
          "nave",
          "esta",
          "tiempo",
          "tan",
          "mallow",
          "durante",
          "bayta",
          "ella",
          "contra",
          "ellos",
          "gran",
          "entre",
          "señor",
          "tenía",
          "toran",
          "desde",
          "así",
          "uno",
          "otro",
          "nosotros",
          "mundo",
          "antes",
          "parte",
          "menos",
          "pritcher",
          "toda",
          "también",
          "porque",
          "hacer",
          "mientras",
          "casi",
          "hizo",
          "—no",
          "trántor",
          "e",
          "naves",
          "mano",
          "podía",
          "momento",
          "otra",
          "modo",
          "eran",
          "tal",
          "¿no",
          "primera",
          "primer",
          "kalgan",
          "darell",
          "arcadia",
          "hubiera",
          "hace",
          "channis",
          "cabeza",
          "espacio",
          "—dijo",
          "incluso",
          "les",
          "mejor",
          "nuevo",
          "ese",
          "aún",
          "poco",
          "nunca",
          "sé",
          "¿y",
          "¿por",
          "sabe",
          "estado",
          "pues",
          "barr",
          "mucho",
          "emperador",
          "plan",
          "general",
          "vida",
          "siempre",
          "decir",
          "términus",
          "bajo",
          "doctor",
          "guerra",
          "aquel",
          "nuestra",
          "hemos",
          "cosas",
          "planeta",
          "dicho",
          "—",
          "estoy",
          "podría",
          "palabras",
          "soy",
          "anacreonte",
          "tres",
          "donde",
          "capitán",
          "están",
          "ningún",
          "te",
          "miró",
          "será",
          "tengo",
          "mente",
          "punto",
          "todas",
          "fuera",
          "alcalde",
          "haber",
          "historia",
          "luz"
         ],
         "type": "scatter",
         "x": [
          5.6075663566589355,
          5.626183986663818,
          5.35736608505249,
          5.993193626403809,
          0.07787773013114929,
          6.252944469451904,
          5.28656530380249,
          -14.875981330871582,
          6.384702205657959,
          -0.37226927280426025,
          5.6229987144470215,
          10.1615629196167,
          5.5852766036987305,
          13.925621032714844,
          15.36948013305664,
          -8.15569019317627,
          1.120762825012207,
          5.331821918487549,
          8.03621768951416,
          -5.695030212402344,
          -2.321937322616577,
          -1.0128930807113647,
          16.352535247802734,
          -2.8748302459716797,
          8.811432838439941,
          1.589823603630066,
          11.930257797241211,
          -8.045105934143066,
          -12.170843124389648,
          -7.352022647857666,
          -9.364334106445312,
          -7.780006408691406,
          -6.634891510009766,
          -4.366525173187256,
          -8.334787368774414,
          13.197783470153809,
          -6.339969158172607,
          -6.117855548858643,
          -13.110579490661621,
          16.706451416015625,
          -7.488321781158447,
          -14.39193058013916,
          -11.695303916931152,
          -11.254939079284668,
          3.415675163269043,
          0.804368793964386,
          -4.704009056091309,
          4.144134521484375,
          13.893619537353516,
          -2.5979971885681152,
          -10.50131607055664,
          4.9828572273254395,
          0.09956742078065872,
          -7.417546272277832,
          5.413925647735596,
          -0.006478983908891678,
          12.328015327453613,
          2.361290454864502,
          -7.593235492706299,
          -3.8546674251556396,
          -10.589401245117188,
          2.0445823669433594,
          -13.087477684020996,
          -12.103211402893066,
          -5.37355899810791,
          8.274131774902344,
          -9.013311386108398,
          -9.575867652893066,
          -16.23359489440918,
          15.305983543395996,
          -5.121856689453125,
          -6.375608921051025,
          -1.7948485612869263,
          12.885306358337402,
          -8.006590843200684,
          -11.678723335266113,
          -3.4817352294921875,
          -9.60208797454834,
          1.0162111520767212,
          6.6639604568481445,
          -6.9141082763671875,
          -7.577287673950195,
          9.048556327819824,
          8.38818073272705,
          -0.10552795231342316,
          -4.009155750274658,
          -2.9753623008728027,
          8.583255767822266,
          -15.524045944213867,
          -10.661149978637695,
          -8.922029495239258,
          -7.165139198303223,
          1.036133885383606,
          -6.598398685455322,
          -6.990331172943115,
          11.99168586730957,
          -4.143038272857666,
          -6.805461883544922,
          11.483054161071777,
          8.198469161987305,
          -1.9274741411209106,
          3.637066125869751,
          11.828892707824707,
          -1.134339690208435,
          -0.412462443113327,
          12.000993728637695,
          -13.998160362243652,
          5.8076348304748535,
          -0.238981693983078,
          -4.889301776885986,
          -8.506317138671875,
          13.424283981323242,
          -1.5337942838668823,
          6.113770484924316,
          -5.596683979034424,
          -0.6382695436477661,
          4.354135036468506,
          -15.925702095031738,
          -9.967879295349121,
          -0.4977092742919922,
          -1.990012764930725,
          -2.598245143890381,
          -9.126663208007812,
          10.820055961608887,
          -1.008122205734253,
          7.965167045593262,
          2.846646785736084,
          -0.6947510838508606,
          13.972728729248047,
          -7.989532470703125,
          8.068740844726562,
          9.752897262573242,
          -2.2532551288604736,
          -14.215668678283691,
          -6.801096439361572,
          -3.9641947746276855,
          -3.998905897140503,
          -4.953275680541992,
          -5.032652854919434,
          -5.658199310302734,
          13.498191833496094,
          -5.895458221435547,
          -0.08029033988714218,
          4.225879192352295,
          -11.521151542663574,
          2.662322998046875,
          1.720607042312622,
          3.365438938140869,
          0.6172338128089905,
          0.4041031301021576,
          -14.079612731933594,
          -2.5869433879852295,
          -1.1944400072097778,
          -9.612323760986328,
          -11.514638900756836,
          -13.206066131591797,
          -8.207839965820312,
          -6.277685642242432,
          -6.280374050140381,
          1.9554363489151,
          7.178792476654053,
          5.202395915985107,
          3.6619832515716553,
          1.5952489376068115,
          -0.45273539423942566,
          -2.4061360359191895,
          -10.640729904174805,
          5.677851676940918,
          7.177245616912842,
          -14.695575714111328,
          -2.323842763900757,
          4.59429407119751,
          0.12455933541059494,
          -6.058065414428711,
          7.814549922943115,
          -2.9036009311676025,
          -6.072618007659912,
          -10.891756057739258,
          -11.090744018554688,
          -4.6072468757629395,
          6.712120532989502,
          -2.5257644653320312,
          1.2948288917541504,
          13.489394187927246,
          8.870209693908691,
          -0.3902103304862976,
          7.449517250061035,
          -2.678379774093628,
          -12.552578926086426,
          -4.444723129272461,
          -8.694892883300781,
          -15.865846633911133,
          -2.864412546157837,
          1.772283673286438,
          8.006043434143066,
          1.4789961576461792,
          -4.540447235107422,
          3.1734097003936768,
          5.733345031738281,
          4.607934474945068
         ],
         "xaxis": "x",
         "y": [
          10.374013900756836,
          10.538257598876953,
          10.466373443603516,
          10.331846237182617,
          -1.7452123165130615,
          10.519842147827148,
          10.343612670898438,
          0.7937237620353699,
          11.062304496765137,
          -1.7077306509017944,
          10.78631591796875,
          3.6760318279266357,
          11.127470016479492,
          -5.88330078125,
          -4.758120536804199,
          -0.31857970356941223,
          -1.8167163133621216,
          9.758527755737305,
          -0.51078861951828,
          -3.2284510135650635,
          5.1432271003723145,
          -1.5572099685668945,
          0.7044264078140259,
          13.385457992553711,
          -4.800750255584717,
          5.234673500061035,
          -6.3615570068359375,
          -0.17451955378055573,
          -5.612132549285889,
          13.8292875289917,
          4.010632038116455,
          2.237393379211426,
          13.534075736999512,
          2.345531463623047,
          2.3741915225982666,
          -5.872418403625488,
          3.0008606910705566,
          -11.662147521972656,
          -0.33776962757110596,
          -0.6584146022796631,
          -7.351340293884277,
          0.16576768457889557,
          12.962830543518066,
          3.720525026321411,
          15.20510196685791,
          -2.7623095512390137,
          -0.8428853154182434,
          -0.812461793422699,
          -0.2328796535730362,
          7.861019134521484,
          13.755349159240723,
          9.476029396057129,
          8.847919464111328,
          13.734810829162598,
          -8.69093132019043,
          -2.917775869369507,
          5.826447486877441,
          8.734617233276367,
          -0.8356596231460571,
          -1.5991960763931274,
          0.0028682525735348463,
          -0.0594356507062912,
          -0.08356043696403503,
          -2.5092380046844482,
          7.104366302490234,
          9.053450584411621,
          6.833155155181885,
          -1.5101958513259888,
          6.155999660491943,
          4.050521373748779,
          9.37771224975586,
          9.411153793334961,
          5.917175769805908,
          6.510842323303223,
          -0.7093464732170105,
          9.472750663757324,
          4.0913166999816895,
          -5.525638103485107,
          15.737541198730469,
          4.087714195251465,
          14.341826438903809,
          -10.561312675476074,
          -10.173891067504883,
          2.8260953426361084,
          16.3538818359375,
          3.3725762367248535,
          -10.079195976257324,
          -12.242436408996582,
          1.1704792976379395,
          15.703227996826172,
          -10.380765914916992,
          9.334770202636719,
          1.531599760055542,
          -2.049727201461792,
          -14.933277130126953,
          5.3343658447265625,
          -9.84321117401123,
          -1.2307909727096558,
          1.1295461654663086,
          6.274627685546875,
          -17.868724822998047,
          -0.5955365896224976,
          -10.90417766571045,
          -3.270634412765503,
          -9.423177719116211,
          -4.345047950744629,
          8.524393081665039,
          3.1099765300750732,
          7.610876560211182,
          10.762015342712402,
          15.728490829467773,
          8.704188346862793,
          10.735576629638672,
          14.195609092712402,
          -9.144306182861328,
          6.520962238311768,
          1.8620797395706177,
          2.7747933864593506,
          5.075213432312012,
          -11.296710968017578,
          -0.6621476411819458,
          -14.139710426330566,
          3.1893670558929443,
          -5.418059825897217,
          -5.828510761260986,
          1.1462301015853882,
          -9.766661643981934,
          -0.6657328009605408,
          -1.8723933696746826,
          8.106104850769043,
          2.2949037551879883,
          -1.0632206201553345,
          8.300877571105957,
          -1.5713989734649658,
          11.760706901550293,
          -2.4685020446777344,
          8.14847183227539,
          -13.611422538757324,
          -8.61139965057373,
          14.10127067565918,
          8.59583568572998,
          -4.2030205726623535,
          -13.459506034851074,
          10.431510925292969,
          -4.0787434577941895,
          0.3218754529953003,
          10.97476577758789,
          2.9529051780700684,
          -17.13565444946289,
          11.58225154876709,
          -5.94088888168335,
          -0.45116961002349854,
          7.456226348876953,
          0.8929768800735474,
          -0.6078212857246399,
          -0.2559460699558258,
          0.8019181489944458,
          1.7750616073608398,
          -0.4132648706436157,
          -16.188793182373047,
          -0.16527964174747467,
          -4.362948417663574,
          6.423077583312988,
          -2.965481758117676,
          0.4957748353481293,
          2.2499918937683105,
          3.7082369327545166,
          7.723033428192139,
          -2.5250017642974854,
          -4.191453456878662,
          9.835495948791504,
          12.942002296447754,
          4.36277437210083,
          13.735184669494629,
          0.9529088139533997,
          2.9911959171295166,
          2.743215560913086,
          -1.3172498941421509,
          3.6827757358551025,
          11.758732795715332,
          0.38533738255500793,
          -2.583888530731201,
          10.101264953613281,
          5.105136871337891,
          -6.026193141937256,
          -13.298232078552246,
          2.7843894958496094,
          2.0027811527252197,
          0.8357930183410645,
          -12.532482147216797,
          3.050523042678833,
          -4.84097957611084,
          11.499129295349121,
          10.057903289794922,
          0.13775934278964996,
          10.990200996398926,
          -6.998977184295654,
          5.066617965698242,
          8.474394798278809,
          -6.3733720779418945
         ],
         "yaxis": "y"
        }
       ],
       "layout": {
        "legend": {
         "tracegroupgap": 0
        },
        "margin": {
         "t": 60
        },
        "template": {
         "data": {
          "bar": [
           {
            "error_x": {
             "color": "#2a3f5f"
            },
            "error_y": {
             "color": "#2a3f5f"
            },
            "marker": {
             "line": {
              "color": "#E5ECF6",
              "width": 0.5
             },
             "pattern": {
              "fillmode": "overlay",
              "size": 10,
              "solidity": 0.2
             }
            },
            "type": "bar"
           }
          ],
          "barpolar": [
           {
            "marker": {
             "line": {
              "color": "#E5ECF6",
              "width": 0.5
             },
             "pattern": {
              "fillmode": "overlay",
              "size": 10,
              "solidity": 0.2
             }
            },
            "type": "barpolar"
           }
          ],
          "carpet": [
           {
            "aaxis": {
             "endlinecolor": "#2a3f5f",
             "gridcolor": "white",
             "linecolor": "white",
             "minorgridcolor": "white",
             "startlinecolor": "#2a3f5f"
            },
            "baxis": {
             "endlinecolor": "#2a3f5f",
             "gridcolor": "white",
             "linecolor": "white",
             "minorgridcolor": "white",
             "startlinecolor": "#2a3f5f"
            },
            "type": "carpet"
           }
          ],
          "choropleth": [
           {
            "colorbar": {
             "outlinewidth": 0,
             "ticks": ""
            },
            "type": "choropleth"
           }
          ],
          "contour": [
           {
            "colorbar": {
             "outlinewidth": 0,
             "ticks": ""
            },
            "colorscale": [
             [
              0,
              "#0d0887"
             ],
             [
              0.1111111111111111,
              "#46039f"
             ],
             [
              0.2222222222222222,
              "#7201a8"
             ],
             [
              0.3333333333333333,
              "#9c179e"
             ],
             [
              0.4444444444444444,
              "#bd3786"
             ],
             [
              0.5555555555555556,
              "#d8576b"
             ],
             [
              0.6666666666666666,
              "#ed7953"
             ],
             [
              0.7777777777777778,
              "#fb9f3a"
             ],
             [
              0.8888888888888888,
              "#fdca26"
             ],
             [
              1,
              "#f0f921"
             ]
            ],
            "type": "contour"
           }
          ],
          "contourcarpet": [
           {
            "colorbar": {
             "outlinewidth": 0,
             "ticks": ""
            },
            "type": "contourcarpet"
           }
          ],
          "heatmap": [
           {
            "colorbar": {
             "outlinewidth": 0,
             "ticks": ""
            },
            "colorscale": [
             [
              0,
              "#0d0887"
             ],
             [
              0.1111111111111111,
              "#46039f"
             ],
             [
              0.2222222222222222,
              "#7201a8"
             ],
             [
              0.3333333333333333,
              "#9c179e"
             ],
             [
              0.4444444444444444,
              "#bd3786"
             ],
             [
              0.5555555555555556,
              "#d8576b"
             ],
             [
              0.6666666666666666,
              "#ed7953"
             ],
             [
              0.7777777777777778,
              "#fb9f3a"
             ],
             [
              0.8888888888888888,
              "#fdca26"
             ],
             [
              1,
              "#f0f921"
             ]
            ],
            "type": "heatmap"
           }
          ],
          "heatmapgl": [
           {
            "colorbar": {
             "outlinewidth": 0,
             "ticks": ""
            },
            "colorscale": [
             [
              0,
              "#0d0887"
             ],
             [
              0.1111111111111111,
              "#46039f"
             ],
             [
              0.2222222222222222,
              "#7201a8"
             ],
             [
              0.3333333333333333,
              "#9c179e"
             ],
             [
              0.4444444444444444,
              "#bd3786"
             ],
             [
              0.5555555555555556,
              "#d8576b"
             ],
             [
              0.6666666666666666,
              "#ed7953"
             ],
             [
              0.7777777777777778,
              "#fb9f3a"
             ],
             [
              0.8888888888888888,
              "#fdca26"
             ],
             [
              1,
              "#f0f921"
             ]
            ],
            "type": "heatmapgl"
           }
          ],
          "histogram": [
           {
            "marker": {
             "pattern": {
              "fillmode": "overlay",
              "size": 10,
              "solidity": 0.2
             }
            },
            "type": "histogram"
           }
          ],
          "histogram2d": [
           {
            "colorbar": {
             "outlinewidth": 0,
             "ticks": ""
            },
            "colorscale": [
             [
              0,
              "#0d0887"
             ],
             [
              0.1111111111111111,
              "#46039f"
             ],
             [
              0.2222222222222222,
              "#7201a8"
             ],
             [
              0.3333333333333333,
              "#9c179e"
             ],
             [
              0.4444444444444444,
              "#bd3786"
             ],
             [
              0.5555555555555556,
              "#d8576b"
             ],
             [
              0.6666666666666666,
              "#ed7953"
             ],
             [
              0.7777777777777778,
              "#fb9f3a"
             ],
             [
              0.8888888888888888,
              "#fdca26"
             ],
             [
              1,
              "#f0f921"
             ]
            ],
            "type": "histogram2d"
           }
          ],
          "histogram2dcontour": [
           {
            "colorbar": {
             "outlinewidth": 0,
             "ticks": ""
            },
            "colorscale": [
             [
              0,
              "#0d0887"
             ],
             [
              0.1111111111111111,
              "#46039f"
             ],
             [
              0.2222222222222222,
              "#7201a8"
             ],
             [
              0.3333333333333333,
              "#9c179e"
             ],
             [
              0.4444444444444444,
              "#bd3786"
             ],
             [
              0.5555555555555556,
              "#d8576b"
             ],
             [
              0.6666666666666666,
              "#ed7953"
             ],
             [
              0.7777777777777778,
              "#fb9f3a"
             ],
             [
              0.8888888888888888,
              "#fdca26"
             ],
             [
              1,
              "#f0f921"
             ]
            ],
            "type": "histogram2dcontour"
           }
          ],
          "mesh3d": [
           {
            "colorbar": {
             "outlinewidth": 0,
             "ticks": ""
            },
            "type": "mesh3d"
           }
          ],
          "parcoords": [
           {
            "line": {
             "colorbar": {
              "outlinewidth": 0,
              "ticks": ""
             }
            },
            "type": "parcoords"
           }
          ],
          "pie": [
           {
            "automargin": true,
            "type": "pie"
           }
          ],
          "scatter": [
           {
            "fillpattern": {
             "fillmode": "overlay",
             "size": 10,
             "solidity": 0.2
            },
            "type": "scatter"
           }
          ],
          "scatter3d": [
           {
            "line": {
             "colorbar": {
              "outlinewidth": 0,
              "ticks": ""
             }
            },
            "marker": {
             "colorbar": {
              "outlinewidth": 0,
              "ticks": ""
             }
            },
            "type": "scatter3d"
           }
          ],
          "scattercarpet": [
           {
            "marker": {
             "colorbar": {
              "outlinewidth": 0,
              "ticks": ""
             }
            },
            "type": "scattercarpet"
           }
          ],
          "scattergeo": [
           {
            "marker": {
             "colorbar": {
              "outlinewidth": 0,
              "ticks": ""
             }
            },
            "type": "scattergeo"
           }
          ],
          "scattergl": [
           {
            "marker": {
             "colorbar": {
              "outlinewidth": 0,
              "ticks": ""
             }
            },
            "type": "scattergl"
           }
          ],
          "scattermapbox": [
           {
            "marker": {
             "colorbar": {
              "outlinewidth": 0,
              "ticks": ""
             }
            },
            "type": "scattermapbox"
           }
          ],
          "scatterpolar": [
           {
            "marker": {
             "colorbar": {
              "outlinewidth": 0,
              "ticks": ""
             }
            },
            "type": "scatterpolar"
           }
          ],
          "scatterpolargl": [
           {
            "marker": {
             "colorbar": {
              "outlinewidth": 0,
              "ticks": ""
             }
            },
            "type": "scatterpolargl"
           }
          ],
          "scatterternary": [
           {
            "marker": {
             "colorbar": {
              "outlinewidth": 0,
              "ticks": ""
             }
            },
            "type": "scatterternary"
           }
          ],
          "surface": [
           {
            "colorbar": {
             "outlinewidth": 0,
             "ticks": ""
            },
            "colorscale": [
             [
              0,
              "#0d0887"
             ],
             [
              0.1111111111111111,
              "#46039f"
             ],
             [
              0.2222222222222222,
              "#7201a8"
             ],
             [
              0.3333333333333333,
              "#9c179e"
             ],
             [
              0.4444444444444444,
              "#bd3786"
             ],
             [
              0.5555555555555556,
              "#d8576b"
             ],
             [
              0.6666666666666666,
              "#ed7953"
             ],
             [
              0.7777777777777778,
              "#fb9f3a"
             ],
             [
              0.8888888888888888,
              "#fdca26"
             ],
             [
              1,
              "#f0f921"
             ]
            ],
            "type": "surface"
           }
          ],
          "table": [
           {
            "cells": {
             "fill": {
              "color": "#EBF0F8"
             },
             "line": {
              "color": "white"
             }
            },
            "header": {
             "fill": {
              "color": "#C8D4E3"
             },
             "line": {
              "color": "white"
             }
            },
            "type": "table"
           }
          ]
         },
         "layout": {
          "annotationdefaults": {
           "arrowcolor": "#2a3f5f",
           "arrowhead": 0,
           "arrowwidth": 1
          },
          "autotypenumbers": "strict",
          "coloraxis": {
           "colorbar": {
            "outlinewidth": 0,
            "ticks": ""
           }
          },
          "colorscale": {
           "diverging": [
            [
             0,
             "#8e0152"
            ],
            [
             0.1,
             "#c51b7d"
            ],
            [
             0.2,
             "#de77ae"
            ],
            [
             0.3,
             "#f1b6da"
            ],
            [
             0.4,
             "#fde0ef"
            ],
            [
             0.5,
             "#f7f7f7"
            ],
            [
             0.6,
             "#e6f5d0"
            ],
            [
             0.7,
             "#b8e186"
            ],
            [
             0.8,
             "#7fbc41"
            ],
            [
             0.9,
             "#4d9221"
            ],
            [
             1,
             "#276419"
            ]
           ],
           "sequential": [
            [
             0,
             "#0d0887"
            ],
            [
             0.1111111111111111,
             "#46039f"
            ],
            [
             0.2222222222222222,
             "#7201a8"
            ],
            [
             0.3333333333333333,
             "#9c179e"
            ],
            [
             0.4444444444444444,
             "#bd3786"
            ],
            [
             0.5555555555555556,
             "#d8576b"
            ],
            [
             0.6666666666666666,
             "#ed7953"
            ],
            [
             0.7777777777777778,
             "#fb9f3a"
            ],
            [
             0.8888888888888888,
             "#fdca26"
            ],
            [
             1,
             "#f0f921"
            ]
           ],
           "sequentialminus": [
            [
             0,
             "#0d0887"
            ],
            [
             0.1111111111111111,
             "#46039f"
            ],
            [
             0.2222222222222222,
             "#7201a8"
            ],
            [
             0.3333333333333333,
             "#9c179e"
            ],
            [
             0.4444444444444444,
             "#bd3786"
            ],
            [
             0.5555555555555556,
             "#d8576b"
            ],
            [
             0.6666666666666666,
             "#ed7953"
            ],
            [
             0.7777777777777778,
             "#fb9f3a"
            ],
            [
             0.8888888888888888,
             "#fdca26"
            ],
            [
             1,
             "#f0f921"
            ]
           ]
          },
          "colorway": [
           "#636efa",
           "#EF553B",
           "#00cc96",
           "#ab63fa",
           "#FFA15A",
           "#19d3f3",
           "#FF6692",
           "#B6E880",
           "#FF97FF",
           "#FECB52"
          ],
          "font": {
           "color": "#2a3f5f"
          },
          "geo": {
           "bgcolor": "white",
           "lakecolor": "white",
           "landcolor": "#E5ECF6",
           "showlakes": true,
           "showland": true,
           "subunitcolor": "white"
          },
          "hoverlabel": {
           "align": "left"
          },
          "hovermode": "closest",
          "mapbox": {
           "style": "light"
          },
          "paper_bgcolor": "white",
          "plot_bgcolor": "#E5ECF6",
          "polar": {
           "angularaxis": {
            "gridcolor": "white",
            "linecolor": "white",
            "ticks": ""
           },
           "bgcolor": "#E5ECF6",
           "radialaxis": {
            "gridcolor": "white",
            "linecolor": "white",
            "ticks": ""
           }
          },
          "scene": {
           "xaxis": {
            "backgroundcolor": "#E5ECF6",
            "gridcolor": "white",
            "gridwidth": 2,
            "linecolor": "white",
            "showbackground": true,
            "ticks": "",
            "zerolinecolor": "white"
           },
           "yaxis": {
            "backgroundcolor": "#E5ECF6",
            "gridcolor": "white",
            "gridwidth": 2,
            "linecolor": "white",
            "showbackground": true,
            "ticks": "",
            "zerolinecolor": "white"
           },
           "zaxis": {
            "backgroundcolor": "#E5ECF6",
            "gridcolor": "white",
            "gridwidth": 2,
            "linecolor": "white",
            "showbackground": true,
            "ticks": "",
            "zerolinecolor": "white"
           }
          },
          "shapedefaults": {
           "line": {
            "color": "#2a3f5f"
           }
          },
          "ternary": {
           "aaxis": {
            "gridcolor": "white",
            "linecolor": "white",
            "ticks": ""
           },
           "baxis": {
            "gridcolor": "white",
            "linecolor": "white",
            "ticks": ""
           },
           "bgcolor": "#E5ECF6",
           "caxis": {
            "gridcolor": "white",
            "linecolor": "white",
            "ticks": ""
           }
          },
          "title": {
           "x": 0.05
          },
          "xaxis": {
           "automargin": true,
           "gridcolor": "white",
           "linecolor": "white",
           "ticks": "",
           "title": {
            "standoff": 15
           },
           "zerolinecolor": "white",
           "zerolinewidth": 2
          },
          "yaxis": {
           "automargin": true,
           "gridcolor": "white",
           "linecolor": "white",
           "ticks": "",
           "title": {
            "standoff": 15
           },
           "zerolinecolor": "white",
           "zerolinewidth": 2
          }
         }
        },
        "xaxis": {
         "anchor": "y",
         "domain": [
          0,
          1
         ],
         "title": {
          "text": "x"
         }
        },
        "yaxis": {
         "anchor": "x",
         "domain": [
          0,
          1
         ],
         "title": {
          "text": "y"
         }
        }
       }
      }
     },
     "metadata": {},
     "output_type": "display_data"
    }
   ],
   "source": [
    "# Graficar los embedddings en 2D\n",
    "import plotly.graph_objects as go\n",
    "import plotly.express as px\n",
    "\n",
    "vecs, labels = reduce_dimensions(w2v_model)\n",
    "\n",
    "MAX_WORDS=200\n",
    "fig = px.scatter(x=vecs[:MAX_WORDS,0], y=vecs[:MAX_WORDS,1], text=labels[:MAX_WORDS])\n",
    "#fig.show(renderer=\"colab\") # esto para plotly en colab\n",
    "fig.show()"
   ]
  },
  {
   "cell_type": "code",
   "execution_count": 35,
   "metadata": {},
   "outputs": [
    {
     "data": {
      "application/vnd.plotly.v1+json": {
       "config": {
        "plotlyServerURL": "https://plot.ly"
       },
       "data": [
        {
         "hovertemplate": "x=%{x}<br>y=%{y}<br>z=%{z}<br>text=%{text}<extra></extra>",
         "legendgroup": "",
         "marker": {
          "color": "#636efa",
          "size": 2,
          "symbol": "circle"
         },
         "mode": "markers+text",
         "name": "",
         "scene": "scene",
         "showlegend": false,
         "text": [
          "de",
          "la",
          "que",
          "y",
          "el",
          "en",
          "a",
          "no",
          "se",
          "un",
          "una",
          "los",
          "su",
          "con",
          "es",
          "lo",
          "del",
          "por",
          "las",
          "pero",
          "para",
          "al",
          "más",
          "le",
          "sus",
          "fundación",
          "era",
          "usted",
          "como",
          "ha",
          "si",
          "me",
          "había",
          "todo",
          "yo",
          "mulo",
          "mi",
          "dijo",
          "qué",
          "cuando",
          "él",
          "ya",
          "sin",
          "está",
          "ahora",
          "fue",
          "muy",
          "seldon",
          "sólo",
          "vez",
          "hombre",
          "o",
          "puede",
          "he",
          "sobre",
          "estaba",
          "dos",
          "ser",
          "nada",
          "esto",
          "eso",
          "imperio",
          "¿qué",
          "sí",
          "sido",
          "galaxia",
          "hay",
          "bien",
          "todos",
          "hasta",
          "nos",
          "segunda",
          "este",
          "años",
          "aquí",
          "mis",
          "algo",
          "entonces",
          "mismo",
          "son",
          "han",
          "hardin",
          "hacia",
          "hombres",
          "después",
          "hecho",
          "voz",
          "ojos",
          "tiene",
          "ni",
          "nave",
          "esta",
          "tiempo",
          "tan",
          "mallow",
          "durante",
          "bayta",
          "ella",
          "contra",
          "ellos",
          "gran",
          "entre",
          "señor",
          "tenía",
          "toran",
          "desde",
          "así",
          "uno",
          "otro",
          "nosotros",
          "mundo",
          "antes",
          "parte",
          "menos",
          "pritcher",
          "toda",
          "también",
          "porque",
          "hacer",
          "mientras",
          "casi",
          "hizo",
          "—no",
          "trántor",
          "e",
          "naves",
          "mano",
          "podía",
          "momento",
          "otra",
          "modo",
          "eran",
          "tal",
          "¿no",
          "primera",
          "primer",
          "kalgan",
          "darell",
          "arcadia",
          "hubiera",
          "hace",
          "channis",
          "cabeza",
          "espacio",
          "—dijo",
          "incluso",
          "les",
          "mejor",
          "nuevo",
          "ese",
          "aún",
          "poco",
          "nunca",
          "sé",
          "¿y",
          "¿por",
          "sabe",
          "estado",
          "pues",
          "barr",
          "mucho",
          "emperador",
          "plan",
          "general",
          "vida",
          "siempre",
          "decir",
          "términus",
          "bajo",
          "doctor",
          "guerra",
          "aquel",
          "nuestra",
          "hemos",
          "cosas",
          "planeta",
          "dicho",
          "—",
          "estoy",
          "podría",
          "palabras",
          "soy",
          "anacreonte",
          "tres",
          "donde",
          "capitán",
          "están",
          "ningún",
          "te",
          "miró",
          "será",
          "tengo",
          "mente",
          "punto",
          "todas",
          "fuera",
          "alcalde",
          "haber",
          "historia",
          "luz"
         ],
         "type": "scatter3d",
         "x": [
          39.627899169921875,
          39.38386917114258,
          34.2927131652832,
          46.70772933959961,
          -17.071590423583984,
          48.88197326660156,
          55.43456268310547,
          37.622100830078125,
          44.50965118408203,
          -24.059192657470703,
          38.279685974121094,
          -0.3655945658683777,
          40.302146911621094,
          -12.202234268188477,
          6.9378662109375,
          30.90716552734375,
          -13.222099304199219,
          51.048797607421875,
          -4.089061260223389,
          37.1247673034668,
          37.11381149291992,
          -13.528491020202637,
          26.3531494140625,
          40.12590026855469,
          -15.817773818969727,
          35.684810638427734,
          -24.882715225219727,
          27.28577423095703,
          -13.687414169311523,
          14.407577514648438,
          34.875850677490234,
          15.346315383911133,
          22.44700813293457,
          25.625381469726562,
          20.412477493286133,
          -12.421278953552246,
          6.18751335144043,
          -40.06019973754883,
          6.754733562469482,
          -22.085063934326172,
          -11.145856857299805,
          17.222389221191406,
          18.105314254760742,
          13.216609001159668,
          15.608044624328613,
          -7.930088043212891,
          -14.220551490783691,
          -12.766322135925293,
          18.46369171142578,
          6.992035865783691,
          -42.21171188354492,
          24.212390899658203,
          37.80850601196289,
          17.999177932739258,
          -33.98255157470703,
          -28.50600242614746,
          7.12587308883667,
          27.916772842407227,
          15.010762214660645,
          -13.531288146972656,
          24.588171005249023,
          12.335710525512695,
          7.476891040802002,
          -12.496001243591309,
          25.236379623413086,
          62.47088623046875,
          41.339744567871094,
          -0.8890262246131897,
          27.923067092895508,
          -6.920981407165527,
          50.94155502319336,
          37.538394927978516,
          37.59547424316406,
          13.426857948303223,
          32.40407180786133,
          -9.511096000671387,
          13.364341735839844,
          -26.577821731567383,
          3.6729934215545654,
          3.422860860824585,
          16.702314376831055,
          -41.85738754272461,
          -10.781447410583496,
          -4.757585525512695,
          -7.665475845336914,
          44.65092468261719,
          -36.13937759399414,
          -23.179323196411133,
          38.6436653137207,
          55.78618621826172,
          -13.637323379516602,
          37.102752685546875,
          -0.6219882369041443,
          -9.858450889587402,
          -41.15070343017578,
          6.4680962562561035,
          -25.16724967956543,
          -7.900527477264404,
          -22.753576278686523,
          20.903079986572266,
          -31.319669723510742,
          0.9524973630905151,
          -27.003355026245117,
          -31.15003776550293,
          -29.346317291259766,
          -4.617923259735107,
          -9.542379379272461,
          -0.15440957248210907,
          32.21442413330078,
          26.917409896850586,
          8.98518180847168,
          4.294353008270264,
          13.687278747558594,
          33.70973205566406,
          -22.65231704711914,
          51.64632797241211,
          8.837514877319336,
          -6.508578777313232,
          31.74411392211914,
          -51.39832305908203,
          -2.757452964782715,
          -53.899662017822266,
          15.996849060058594,
          1.3178067207336426,
          -15.17939281463623,
          7.4298577308654785,
          -31.728450775146484,
          -0.7338262796401978,
          3.6408450603485107,
          36.08726119995117,
          -3.8771426677703857,
          -9.835715293884277,
          11.169408798217773,
          12.181477546691895,
          14.67286205291748,
          -21.51358985900879,
          1.0903626680374146,
          -40.12254333496094,
          -20.734262466430664,
          16.425172805786133,
          -20.680206298828125,
          -21.074304580688477,
          -44.606040954589844,
          34.94346237182617,
          -19.100772857666016,
          -11.376274108886719,
          31.48569107055664,
          11.263148307800293,
          -57.11384582519531,
          7.375918388366699,
          52.441043853759766,
          3.6669859886169434,
          5.0658416748046875,
          28.18365478515625,
          3.1409034729003906,
          4.330881595611572,
          23.534072875976562,
          1.8390246629714966,
          -19.582340240478516,
          -47.065975189208984,
          -5.2438225746154785,
          -24.294267654418945,
          41.53449249267578,
          -35.747920989990234,
          -3.567474126815796,
          10.485057830810547,
          17.741100311279297,
          3.2641799449920654,
          -14.018692970275879,
          20.183025360107422,
          48.5323371887207,
          1.576789140701294,
          36.68342971801758,
          21.90998649597168,
          1.282731056213379,
          2.000659704208374,
          1.6633141040802002,
          -7.017320156097412,
          10.139445304870605,
          29.184364318847656,
          -6.09257698059082,
          -6.119014739990234,
          48.40119934082031,
          -0.038757555186748505,
          -10.243304252624512,
          -47.7808723449707,
          6.68260383605957,
          3.1929738521575928,
          7.911285400390625,
          -44.29988098144531,
          11.93561840057373,
          4.7379889488220215,
          23.458534240722656,
          8.357357025146484,
          4.4550042152404785,
          6.015936851501465,
          -24.299768447875977,
          24.00065040588379,
          29.40959358215332,
          -14.283244132995605
         ],
         "y": [
          1.597443699836731,
          4.99179220199585,
          31.68097496032715,
          2.220471143722534,
          -0.8508156538009644,
          -5.976057052612305,
          -26.099637985229492,
          25.75726318359375,
          10.93472957611084,
          -19.44827651977539,
          8.178909301757812,
          -54.907081604003906,
          -3.816763401031494,
          13.55156421661377,
          50.74847412109375,
          25.999177932739258,
          -25.271198272705078,
          7.432446002960205,
          -24.719818115234375,
          36.320167541503906,
          0.7512866854667664,
          -31.71965217590332,
          -44.95021057128906,
          -46.83515930175781,
          -38.89923095703125,
          38.39807891845703,
          13.053228378295898,
          24.27650260925293,
          16.752328872680664,
          45.06718444824219,
          18.98273468017578,
          24.299070358276367,
          51.420352935791016,
          10.179497718811035,
          28.1767520904541,
          -29.015344619750977,
          33.704402923583984,
          21.1029109954834,
          37.55855941772461,
          -27.477224349975586,
          -50.41086196899414,
          35.52348327636719,
          48.821598052978516,
          4.649152755737305,
          4.019950866699219,
          30.773052215576172,
          15.913056373596191,
          -34.400779724121094,
          -10.668607711791992,
          -15.961973190307617,
          -23.59281349182129,
          -53.14647674560547,
          38.84007263183594,
          46.14378356933594,
          0.33530446887016296,
          43.721092224121094,
          -35.00034713745117,
          -26.050493240356445,
          19.075525283813477,
          25.52078628540039,
          32.88469696044922,
          -10.906394004821777,
          27.940034866333008,
          17.79401969909668,
          27.513593673706055,
          -12.472987174987793,
          -3.2975244522094727,
          39.830135345458984,
          -2.9414737224578857,
          -50.34487533569336,
          15.953485488891602,
          34.9870719909668,
          -12.4100923538208,
          -43.116241455078125,
          24.33987808227539,
          5.868050575256348,
          -50.650718688964844,
          26.661762237548828,
          -1.0234158039093018,
          0.40722838044166565,
          56.871315002441406,
          32.77119064331055,
          16.202449798583984,
          -36.905765533447266,
          -41.6107292175293,
          28.48173713684082,
          18.01166343688965,
          -23.800901412963867,
          15.385397911071777,
          24.217391967773438,
          43.2418098449707,
          38.36629867553711,
          -26.045705795288086,
          6.970643043518066,
          38.97459411621094,
          -34.559967041015625,
          14.607489585876465,
          6.922367572784424,
          35.507320404052734,
          -11.163116455078125,
          35.73124694824219,
          -1.5741846561431885,
          42.41957473754883,
          -42.550537109375,
          6.143050193786621,
          47.00358581542969,
          49.099609375,
          -36.5284423828125,
          -53.71558380126953,
          -11.008974075317383,
          18.037094116210938,
          -47.995750427246094,
          -27.33761978149414,
          -21.775354385375977,
          7.568871974945068,
          -10.72624683380127,
          59.98644256591797,
          -24.155004501342773,
          -0.24379906058311462,
          18.379884719848633,
          22.433183670043945,
          18.351112365722656,
          14.386549949645996,
          -36.14552307128906,
          0.3424602150917053,
          -24.6502628326416,
          -13.193381309509277,
          -48.86833190917969,
          -43.958282470703125,
          -13.346213340759277,
          -40.150726318359375,
          -31.139015197753906,
          -17.332551956176758,
          37.80105972290039,
          18.53146743774414,
          31.225685119628906,
          38.50188064575195,
          8.98399543762207,
          2.853365421295166,
          45.800819396972656,
          10.892472267150879,
          23.66876792907715,
          4.071187496185303,
          -46.35468673706055,
          21.212989807128906,
          4.492580890655518,
          43.436309814453125,
          1.3941706418991089,
          -13.824533462524414,
          -57.72346878051758,
          -13.319174766540527,
          -23.65095329284668,
          18.465442657470703,
          19.131423950195312,
          27.235811233520508,
          34.955352783203125,
          21.625064849853516,
          19.23008155822754,
          32.6669807434082,
          -11.647247314453125,
          -27.354604721069336,
          -26.787918090820312,
          -26.414751052856445,
          48.401390075683594,
          -51.4055290222168,
          20.253875732421875,
          4.057577133178711,
          18.260032653808594,
          9.352177619934082,
          -1.9831633567810059,
          10.248760223388672,
          9.292909622192383,
          11.035640716552734,
          41.78323745727539,
          -10.584420204162598,
          42.86815643310547,
          35.61420440673828,
          13.050841331481934,
          1.4509106874465942,
          35.34736251831055,
          -14.671856880187988,
          -12.207270622253418,
          -21.497331619262695,
          -48.73591995239258,
          7.266603469848633,
          9.957260131835938,
          7.153811454772949,
          50.21744918823242,
          16.17522621154785,
          -2.732067108154297,
          -7.962926387786865,
          53.7084846496582,
          -46.570133209228516,
          2.3252105712890625,
          -30.921886444091797,
          52.9754638671875,
          27.60481834411621,
          42.740108489990234,
          14.408275604248047,
          -23.958484649658203
         ],
         "z": [
          43.6949462890625,
          44.3420524597168,
          -38.4179801940918,
          44.61027526855469,
          60.23396301269531,
          40.45516586303711,
          -16.09595489501953,
          -38.2532844543457,
          42.50400924682617,
          56.06190490722656,
          47.56538772583008,
          -31.860984802246094,
          46.87797927856445,
          60.544471740722656,
          36.2174186706543,
          -34.51866912841797,
          56.854042053222656,
          36.13185119628906,
          -8.045506477355957,
          -35.73078536987305,
          -5.047923564910889,
          -24.025617599487305,
          -33.01153564453125,
          -4.040615081787109,
          7.075451850891113,
          23.46666717529297,
          54.483577728271484,
          -41.136016845703125,
          -57.016727447509766,
          -6.729769706726074,
          -36.69612503051758,
          -18.39310646057129,
          -0.9940078854560852,
          -14.997751235961914,
          -16.98981285095215,
          -51.08056640625,
          -10.32612419128418,
          -29.043867111206055,
          -32.94245147705078,
          -51.39714050292969,
          -31.632932662963867,
          -20.86854362487793,
          18.587671279907227,
          -46.85967254638672,
          -60.44447708129883,
          51.25504684448242,
          -17.806163787841797,
          -18.28119468688965,
          -60.22896957397461,
          -45.292110443115234,
          -36.03163146972656,
          -3.4685051441192627,
          -15.46227741241455,
          -11.304335594177246,
          43.34157180786133,
          27.84758949279785,
          14.679167747497559,
          -25.842042922973633,
          -56.602237701416016,
          -10.124473571777344,
          -37.26819610595703,
          40.48158264160156,
          -49.699527740478516,
          -40.76478958129883,
          4.8506622314453125,
          8.107463836669922,
          -24.318525314331055,
          -26.19114112854004,
          -51.452552795410156,
          6.251659870147705,
          -3.3541345596313477,
          19.313190460205078,
          -19.41143226623535,
          22.565202713012695,
          -46.109466552734375,
          -13.589884757995605,
          -16.746339797973633,
          -20.705232620239258,
          -51.5069465637207,
          -9.744139671325684,
          -1.2972214221954346,
          -6.157040596008301,
          10.832719802856445,
          -4.736631870269775,
          -34.08694839477539,
          -14.891768455505371,
          -6.104156494140625,
          -12.148707389831543,
          -45.633262634277344,
          13.905937194824219,
          21.56131935119629,
          13.496637344360352,
          47.3653564453125,
          -58.84979248046875,
          -13.870598793029785,
          21.78438949584961,
          -17.431419372558594,
          -7.295711040496826,
          19.733308792114258,
          -13.144854545593262,
          22.942848205566406,
          35.79560852050781,
          -3.9269497394561768,
          -20.658796310424805,
          2.5315394401550293,
          38.83366012573242,
          1.023192048072815,
          -9.5984468460083,
          -0.82683926820755,
          -30.368343353271484,
          21.56108856201172,
          -3.581573724746704,
          45.65199279785156,
          -27.569347381591797,
          -16.416872024536133,
          5.300057888031006,
          16.12557601928711,
          -56.19016647338867,
          -35.619895935058594,
          21.700897216796875,
          13.547185897827148,
          -1.7380774021148682,
          -20.548011779785156,
          32.39262390136719,
          -1.5879982709884644,
          3.9345455169677734,
          3.5373144149780273,
          30.067981719970703,
          25.56646728515625,
          -12.720229148864746,
          -0.3428895175457001,
          -5.870601654052734,
          -39.70163345336914,
          -46.2380256652832,
          49.9504280090332,
          -1.983399510383606,
          15.071883201599121,
          -34.8681640625,
          -20.470935821533203,
          6.614695072174072,
          -47.33738708496094,
          -7.836511135101318,
          -1.088843822479248,
          3.0099077224731445,
          -38.07029724121094,
          0.1530592441558838,
          18.3787784576416,
          -15.87612533569336,
          20.077320098876953,
          -19.222904205322266,
          -31.25320053100586,
          -29.717966079711914,
          1.9167778491973877,
          -35.641422271728516,
          -41.79180908203125,
          -31.605480194091797,
          -7.247925281524658,
          -7.164364814758301,
          -16.165010452270508,
          -22.099149703979492,
          -13.824623107910156,
          -23.353057861328125,
          -2.2818808555603027,
          -8.134347915649414,
          16.371253967285156,
          35.09043502807617,
          -43.05137634277344,
          37.959197998046875,
          30.38019561767578,
          -56.57542419433594,
          27.849456787109375,
          56.282875061035156,
          26.851703643798828,
          -5.808724403381348,
          -3.1694231033325195,
          28.197689056396484,
          -2.714289426803589,
          -51.04460525512695,
          -42.73050308227539,
          -3.7812514305114746,
          -13.669123649597168,
          -49.77422332763672,
          29.421907424926758,
          3.222571849822998,
          14.08931827545166,
          2.861670970916748,
          7.653368949890137,
          28.548246383666992,
          -41.82467269897461,
          -25.646684646606445,
          -44.022010803222656,
          -31.846458435058594,
          -6.978708744049072,
          56.83697509765625,
          -7.2833757400512695,
          18.173086166381836,
          -13.702723503112793,
          15.887664794921875,
          1.2412149906158447,
          24.39622688293457
         ]
        }
       ],
       "layout": {
        "legend": {
         "tracegroupgap": 0
        },
        "margin": {
         "t": 60
        },
        "scene": {
         "domain": {
          "x": [
           0,
           1
          ],
          "y": [
           0,
           1
          ]
         },
         "xaxis": {
          "title": {
           "text": "x"
          }
         },
         "yaxis": {
          "title": {
           "text": "y"
          }
         },
         "zaxis": {
          "title": {
           "text": "z"
          }
         }
        },
        "template": {
         "data": {
          "bar": [
           {
            "error_x": {
             "color": "#2a3f5f"
            },
            "error_y": {
             "color": "#2a3f5f"
            },
            "marker": {
             "line": {
              "color": "#E5ECF6",
              "width": 0.5
             },
             "pattern": {
              "fillmode": "overlay",
              "size": 10,
              "solidity": 0.2
             }
            },
            "type": "bar"
           }
          ],
          "barpolar": [
           {
            "marker": {
             "line": {
              "color": "#E5ECF6",
              "width": 0.5
             },
             "pattern": {
              "fillmode": "overlay",
              "size": 10,
              "solidity": 0.2
             }
            },
            "type": "barpolar"
           }
          ],
          "carpet": [
           {
            "aaxis": {
             "endlinecolor": "#2a3f5f",
             "gridcolor": "white",
             "linecolor": "white",
             "minorgridcolor": "white",
             "startlinecolor": "#2a3f5f"
            },
            "baxis": {
             "endlinecolor": "#2a3f5f",
             "gridcolor": "white",
             "linecolor": "white",
             "minorgridcolor": "white",
             "startlinecolor": "#2a3f5f"
            },
            "type": "carpet"
           }
          ],
          "choropleth": [
           {
            "colorbar": {
             "outlinewidth": 0,
             "ticks": ""
            },
            "type": "choropleth"
           }
          ],
          "contour": [
           {
            "colorbar": {
             "outlinewidth": 0,
             "ticks": ""
            },
            "colorscale": [
             [
              0,
              "#0d0887"
             ],
             [
              0.1111111111111111,
              "#46039f"
             ],
             [
              0.2222222222222222,
              "#7201a8"
             ],
             [
              0.3333333333333333,
              "#9c179e"
             ],
             [
              0.4444444444444444,
              "#bd3786"
             ],
             [
              0.5555555555555556,
              "#d8576b"
             ],
             [
              0.6666666666666666,
              "#ed7953"
             ],
             [
              0.7777777777777778,
              "#fb9f3a"
             ],
             [
              0.8888888888888888,
              "#fdca26"
             ],
             [
              1,
              "#f0f921"
             ]
            ],
            "type": "contour"
           }
          ],
          "contourcarpet": [
           {
            "colorbar": {
             "outlinewidth": 0,
             "ticks": ""
            },
            "type": "contourcarpet"
           }
          ],
          "heatmap": [
           {
            "colorbar": {
             "outlinewidth": 0,
             "ticks": ""
            },
            "colorscale": [
             [
              0,
              "#0d0887"
             ],
             [
              0.1111111111111111,
              "#46039f"
             ],
             [
              0.2222222222222222,
              "#7201a8"
             ],
             [
              0.3333333333333333,
              "#9c179e"
             ],
             [
              0.4444444444444444,
              "#bd3786"
             ],
             [
              0.5555555555555556,
              "#d8576b"
             ],
             [
              0.6666666666666666,
              "#ed7953"
             ],
             [
              0.7777777777777778,
              "#fb9f3a"
             ],
             [
              0.8888888888888888,
              "#fdca26"
             ],
             [
              1,
              "#f0f921"
             ]
            ],
            "type": "heatmap"
           }
          ],
          "heatmapgl": [
           {
            "colorbar": {
             "outlinewidth": 0,
             "ticks": ""
            },
            "colorscale": [
             [
              0,
              "#0d0887"
             ],
             [
              0.1111111111111111,
              "#46039f"
             ],
             [
              0.2222222222222222,
              "#7201a8"
             ],
             [
              0.3333333333333333,
              "#9c179e"
             ],
             [
              0.4444444444444444,
              "#bd3786"
             ],
             [
              0.5555555555555556,
              "#d8576b"
             ],
             [
              0.6666666666666666,
              "#ed7953"
             ],
             [
              0.7777777777777778,
              "#fb9f3a"
             ],
             [
              0.8888888888888888,
              "#fdca26"
             ],
             [
              1,
              "#f0f921"
             ]
            ],
            "type": "heatmapgl"
           }
          ],
          "histogram": [
           {
            "marker": {
             "pattern": {
              "fillmode": "overlay",
              "size": 10,
              "solidity": 0.2
             }
            },
            "type": "histogram"
           }
          ],
          "histogram2d": [
           {
            "colorbar": {
             "outlinewidth": 0,
             "ticks": ""
            },
            "colorscale": [
             [
              0,
              "#0d0887"
             ],
             [
              0.1111111111111111,
              "#46039f"
             ],
             [
              0.2222222222222222,
              "#7201a8"
             ],
             [
              0.3333333333333333,
              "#9c179e"
             ],
             [
              0.4444444444444444,
              "#bd3786"
             ],
             [
              0.5555555555555556,
              "#d8576b"
             ],
             [
              0.6666666666666666,
              "#ed7953"
             ],
             [
              0.7777777777777778,
              "#fb9f3a"
             ],
             [
              0.8888888888888888,
              "#fdca26"
             ],
             [
              1,
              "#f0f921"
             ]
            ],
            "type": "histogram2d"
           }
          ],
          "histogram2dcontour": [
           {
            "colorbar": {
             "outlinewidth": 0,
             "ticks": ""
            },
            "colorscale": [
             [
              0,
              "#0d0887"
             ],
             [
              0.1111111111111111,
              "#46039f"
             ],
             [
              0.2222222222222222,
              "#7201a8"
             ],
             [
              0.3333333333333333,
              "#9c179e"
             ],
             [
              0.4444444444444444,
              "#bd3786"
             ],
             [
              0.5555555555555556,
              "#d8576b"
             ],
             [
              0.6666666666666666,
              "#ed7953"
             ],
             [
              0.7777777777777778,
              "#fb9f3a"
             ],
             [
              0.8888888888888888,
              "#fdca26"
             ],
             [
              1,
              "#f0f921"
             ]
            ],
            "type": "histogram2dcontour"
           }
          ],
          "mesh3d": [
           {
            "colorbar": {
             "outlinewidth": 0,
             "ticks": ""
            },
            "type": "mesh3d"
           }
          ],
          "parcoords": [
           {
            "line": {
             "colorbar": {
              "outlinewidth": 0,
              "ticks": ""
             }
            },
            "type": "parcoords"
           }
          ],
          "pie": [
           {
            "automargin": true,
            "type": "pie"
           }
          ],
          "scatter": [
           {
            "fillpattern": {
             "fillmode": "overlay",
             "size": 10,
             "solidity": 0.2
            },
            "type": "scatter"
           }
          ],
          "scatter3d": [
           {
            "line": {
             "colorbar": {
              "outlinewidth": 0,
              "ticks": ""
             }
            },
            "marker": {
             "colorbar": {
              "outlinewidth": 0,
              "ticks": ""
             }
            },
            "type": "scatter3d"
           }
          ],
          "scattercarpet": [
           {
            "marker": {
             "colorbar": {
              "outlinewidth": 0,
              "ticks": ""
             }
            },
            "type": "scattercarpet"
           }
          ],
          "scattergeo": [
           {
            "marker": {
             "colorbar": {
              "outlinewidth": 0,
              "ticks": ""
             }
            },
            "type": "scattergeo"
           }
          ],
          "scattergl": [
           {
            "marker": {
             "colorbar": {
              "outlinewidth": 0,
              "ticks": ""
             }
            },
            "type": "scattergl"
           }
          ],
          "scattermapbox": [
           {
            "marker": {
             "colorbar": {
              "outlinewidth": 0,
              "ticks": ""
             }
            },
            "type": "scattermapbox"
           }
          ],
          "scatterpolar": [
           {
            "marker": {
             "colorbar": {
              "outlinewidth": 0,
              "ticks": ""
             }
            },
            "type": "scatterpolar"
           }
          ],
          "scatterpolargl": [
           {
            "marker": {
             "colorbar": {
              "outlinewidth": 0,
              "ticks": ""
             }
            },
            "type": "scatterpolargl"
           }
          ],
          "scatterternary": [
           {
            "marker": {
             "colorbar": {
              "outlinewidth": 0,
              "ticks": ""
             }
            },
            "type": "scatterternary"
           }
          ],
          "surface": [
           {
            "colorbar": {
             "outlinewidth": 0,
             "ticks": ""
            },
            "colorscale": [
             [
              0,
              "#0d0887"
             ],
             [
              0.1111111111111111,
              "#46039f"
             ],
             [
              0.2222222222222222,
              "#7201a8"
             ],
             [
              0.3333333333333333,
              "#9c179e"
             ],
             [
              0.4444444444444444,
              "#bd3786"
             ],
             [
              0.5555555555555556,
              "#d8576b"
             ],
             [
              0.6666666666666666,
              "#ed7953"
             ],
             [
              0.7777777777777778,
              "#fb9f3a"
             ],
             [
              0.8888888888888888,
              "#fdca26"
             ],
             [
              1,
              "#f0f921"
             ]
            ],
            "type": "surface"
           }
          ],
          "table": [
           {
            "cells": {
             "fill": {
              "color": "#EBF0F8"
             },
             "line": {
              "color": "white"
             }
            },
            "header": {
             "fill": {
              "color": "#C8D4E3"
             },
             "line": {
              "color": "white"
             }
            },
            "type": "table"
           }
          ]
         },
         "layout": {
          "annotationdefaults": {
           "arrowcolor": "#2a3f5f",
           "arrowhead": 0,
           "arrowwidth": 1
          },
          "autotypenumbers": "strict",
          "coloraxis": {
           "colorbar": {
            "outlinewidth": 0,
            "ticks": ""
           }
          },
          "colorscale": {
           "diverging": [
            [
             0,
             "#8e0152"
            ],
            [
             0.1,
             "#c51b7d"
            ],
            [
             0.2,
             "#de77ae"
            ],
            [
             0.3,
             "#f1b6da"
            ],
            [
             0.4,
             "#fde0ef"
            ],
            [
             0.5,
             "#f7f7f7"
            ],
            [
             0.6,
             "#e6f5d0"
            ],
            [
             0.7,
             "#b8e186"
            ],
            [
             0.8,
             "#7fbc41"
            ],
            [
             0.9,
             "#4d9221"
            ],
            [
             1,
             "#276419"
            ]
           ],
           "sequential": [
            [
             0,
             "#0d0887"
            ],
            [
             0.1111111111111111,
             "#46039f"
            ],
            [
             0.2222222222222222,
             "#7201a8"
            ],
            [
             0.3333333333333333,
             "#9c179e"
            ],
            [
             0.4444444444444444,
             "#bd3786"
            ],
            [
             0.5555555555555556,
             "#d8576b"
            ],
            [
             0.6666666666666666,
             "#ed7953"
            ],
            [
             0.7777777777777778,
             "#fb9f3a"
            ],
            [
             0.8888888888888888,
             "#fdca26"
            ],
            [
             1,
             "#f0f921"
            ]
           ],
           "sequentialminus": [
            [
             0,
             "#0d0887"
            ],
            [
             0.1111111111111111,
             "#46039f"
            ],
            [
             0.2222222222222222,
             "#7201a8"
            ],
            [
             0.3333333333333333,
             "#9c179e"
            ],
            [
             0.4444444444444444,
             "#bd3786"
            ],
            [
             0.5555555555555556,
             "#d8576b"
            ],
            [
             0.6666666666666666,
             "#ed7953"
            ],
            [
             0.7777777777777778,
             "#fb9f3a"
            ],
            [
             0.8888888888888888,
             "#fdca26"
            ],
            [
             1,
             "#f0f921"
            ]
           ]
          },
          "colorway": [
           "#636efa",
           "#EF553B",
           "#00cc96",
           "#ab63fa",
           "#FFA15A",
           "#19d3f3",
           "#FF6692",
           "#B6E880",
           "#FF97FF",
           "#FECB52"
          ],
          "font": {
           "color": "#2a3f5f"
          },
          "geo": {
           "bgcolor": "white",
           "lakecolor": "white",
           "landcolor": "#E5ECF6",
           "showlakes": true,
           "showland": true,
           "subunitcolor": "white"
          },
          "hoverlabel": {
           "align": "left"
          },
          "hovermode": "closest",
          "mapbox": {
           "style": "light"
          },
          "paper_bgcolor": "white",
          "plot_bgcolor": "#E5ECF6",
          "polar": {
           "angularaxis": {
            "gridcolor": "white",
            "linecolor": "white",
            "ticks": ""
           },
           "bgcolor": "#E5ECF6",
           "radialaxis": {
            "gridcolor": "white",
            "linecolor": "white",
            "ticks": ""
           }
          },
          "scene": {
           "xaxis": {
            "backgroundcolor": "#E5ECF6",
            "gridcolor": "white",
            "gridwidth": 2,
            "linecolor": "white",
            "showbackground": true,
            "ticks": "",
            "zerolinecolor": "white"
           },
           "yaxis": {
            "backgroundcolor": "#E5ECF6",
            "gridcolor": "white",
            "gridwidth": 2,
            "linecolor": "white",
            "showbackground": true,
            "ticks": "",
            "zerolinecolor": "white"
           },
           "zaxis": {
            "backgroundcolor": "#E5ECF6",
            "gridcolor": "white",
            "gridwidth": 2,
            "linecolor": "white",
            "showbackground": true,
            "ticks": "",
            "zerolinecolor": "white"
           }
          },
          "shapedefaults": {
           "line": {
            "color": "#2a3f5f"
           }
          },
          "ternary": {
           "aaxis": {
            "gridcolor": "white",
            "linecolor": "white",
            "ticks": ""
           },
           "baxis": {
            "gridcolor": "white",
            "linecolor": "white",
            "ticks": ""
           },
           "bgcolor": "#E5ECF6",
           "caxis": {
            "gridcolor": "white",
            "linecolor": "white",
            "ticks": ""
           }
          },
          "title": {
           "x": 0.05
          },
          "xaxis": {
           "automargin": true,
           "gridcolor": "white",
           "linecolor": "white",
           "ticks": "",
           "title": {
            "standoff": 15
           },
           "zerolinecolor": "white",
           "zerolinewidth": 2
          },
          "yaxis": {
           "automargin": true,
           "gridcolor": "white",
           "linecolor": "white",
           "ticks": "",
           "title": {
            "standoff": 15
           },
           "zerolinecolor": "white",
           "zerolinewidth": 2
          }
         }
        }
       }
      }
     },
     "metadata": {},
     "output_type": "display_data"
    }
   ],
   "source": [
    "# Graficar los embedddings en 3D\n",
    "\n",
    "vecs, labels = reduce_dimensions(w2v_model,3)\n",
    "\n",
    "fig = px.scatter_3d(x=vecs[:MAX_WORDS,0], y=vecs[:MAX_WORDS,1], z=vecs[:MAX_WORDS,2],text=labels[:MAX_WORDS])\n",
    "fig.update_traces(marker_size = 2)\n",
    "#fig.show(renderer=\"colab\") # esto para plotly en colab\n",
    "fig.show() # esto para plotly en colab"
   ]
  },
  {
   "cell_type": "code",
   "execution_count": 36,
   "metadata": {},
   "outputs": [],
   "source": [
    "# También se pueden guardar los vectores y labels como tsv para graficar en\n",
    "# http://projector.tensorflow.org/\n",
    "\n",
    "\n",
    "vectors = np.asarray(w2v_model.wv.vectors)\n",
    "labels = list(w2v_model.wv.index_to_key)\n",
    "\n",
    "np.savetxt(\"vectors.tsv\", vectors, delimiter=\"\\t\")\n",
    "\n",
    "with open(\"labels.tsv\", \"w\") as fp:\n",
    "    for item in labels:\n",
    "        fp.write(\"%s\\n\" % item)"
   ]
  }
 ],
 "metadata": {
  "colab": {
   "collapsed_sections": [],
   "provenance": []
  },
  "kernelspec": {
   "display_name": "Python 3 (ipykernel)",
   "language": "python",
   "name": "python3"
  },
  "language_info": {
   "codemirror_mode": {
    "name": "ipython",
    "version": 3
   },
   "file_extension": ".py",
   "mimetype": "text/x-python",
   "name": "python",
   "nbconvert_exporter": "python",
   "pygments_lexer": "ipython3",
   "version": "3.10.13"
  }
 },
 "nbformat": 4,
 "nbformat_minor": 4
}
