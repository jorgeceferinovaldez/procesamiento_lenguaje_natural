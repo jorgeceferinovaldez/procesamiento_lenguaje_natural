{
 "cells": [
  {
   "cell_type": "markdown",
   "metadata": {
    "id": "sZd5yLnnHOK0"
   },
   "source": [
    "# Procesamiento de lenguaje natural\n",
    "## Desafío 2\n"
   ]
  },
  {
   "cell_type": "markdown",
   "metadata": {
    "id": "vA7nqkumo9z9"
   },
   "source": [
    "### Objetivo\n",
    "El objetivo es utilizar documentos / corpus para crear embeddings de palabras basado en ese contexto. Se utilizará canciones de bandas para generar los embeddings, es decir, que los vectores tendrán la forma en función de como esa banda haya utilizado las palabras en sus canciones.\n",
    "\n",
    "- Crear sus propios vectores con Gensim basado en lo visto en clase con otro dataset.\n",
    "- Probar términos de interés y explicar similitudes en el espacio de embeddings (sacar conclusiones entre palabras similitudes y diferencias).\n",
    "- Graficarlos.\n",
    "- Obtener conclusiones."
   ]
  },
  {
   "cell_type": "code",
   "execution_count": 1,
   "metadata": {
    "id": "lFToQs5FK5uZ"
   },
   "outputs": [],
   "source": [
    "import os\n",
    "import pandas as pd\n",
    "import matplotlib.pyplot as plt\n",
    "import seaborn as sns\n",
    "\n",
    "import multiprocessing\n",
    "from gensim.models import Word2Vec"
   ]
  },
  {
   "cell_type": "markdown",
   "metadata": {
    "id": "g07zJxG7H9vG"
   },
   "source": [
    "### Datos\n",
    "Utilizaremos como dataset canciones de bandas de habla inglesa."
   ]
  },
  {
   "cell_type": "code",
   "execution_count": 2,
   "metadata": {
    "id": "mysGrIw9ljC2"
   },
   "outputs": [
    {
     "data": {
      "text/plain": [
       "['Fundacion.txt']"
      ]
     },
     "execution_count": 2,
     "metadata": {},
     "output_type": "execute_result"
    }
   ],
   "source": [
    "# Directorio de los dataset de libros\n",
    "os.listdir(\"./libros_dataset/\")"
   ]
  },
  {
   "cell_type": "code",
   "execution_count": 3,
   "metadata": {
    "id": "ticoqYD1Z3I7"
   },
   "outputs": [
    {
     "name": "stderr",
     "output_type": "stream",
     "text": [
      "/tmp/ipykernel_21115/1480457263.py:2: ParserWarning: Falling back to the 'python' engine because the 'c' engine does not support regex separators (separators > 1 char and different from '\\s+' are interpreted as regex); you can avoid this warning by specifying engine='python'.\n",
      "  df = pd.read_csv('libros_dataset/Fundacion.txt', sep='/n', header=None)\n"
     ]
    },
    {
     "data": {
      "text/html": [
       "<div>\n",
       "<style scoped>\n",
       "    .dataframe tbody tr th:only-of-type {\n",
       "        vertical-align: middle;\n",
       "    }\n",
       "\n",
       "    .dataframe tbody tr th {\n",
       "        vertical-align: top;\n",
       "    }\n",
       "\n",
       "    .dataframe thead th {\n",
       "        text-align: right;\n",
       "    }\n",
       "</style>\n",
       "<table border=\"1\" class=\"dataframe\">\n",
       "  <thead>\n",
       "    <tr style=\"text-align: right;\">\n",
       "      <th></th>\n",
       "      <th>0</th>\n",
       "    </tr>\n",
       "  </thead>\n",
       "  <tbody>\n",
       "    <tr>\n",
       "      <th>0</th>\n",
       "      <td>TRILOGÍA DE LA FUNDACION</td>\n",
       "    </tr>\n",
       "    <tr>\n",
       "      <th>1</th>\n",
       "      <td>FUNDACIÓN</td>\n",
       "    </tr>\n",
       "    <tr>\n",
       "      <th>2</th>\n",
       "      <td>FUNDACIÓN E IMPERIO</td>\n",
       "    </tr>\n",
       "    <tr>\n",
       "      <th>3</th>\n",
       "      <td>SEGUNDA FUNDACIÓN</td>\n",
       "    </tr>\n",
       "    <tr>\n",
       "      <th>4</th>\n",
       "      <td>Reunión en un solo volumen de las tres novelas...</td>\n",
       "    </tr>\n",
       "  </tbody>\n",
       "</table>\n",
       "</div>"
      ],
      "text/plain": [
       "                                                   0\n",
       "0                           TRILOGÍA DE LA FUNDACION\n",
       "1                                          FUNDACIÓN\n",
       "2                                FUNDACIÓN E IMPERIO\n",
       "3                                  SEGUNDA FUNDACIÓN\n",
       "4  Reunión en un solo volumen de las tres novelas..."
      ]
     },
     "execution_count": 3,
     "metadata": {},
     "output_type": "execute_result"
    }
   ],
   "source": [
    "# Armar el dataset utilizando salto de línea para separar las oraciones/docs\n",
    "df = pd.read_csv('libros_dataset/Fundacion.txt', sep='/n', header=None)\n",
    "df.head()"
   ]
  },
  {
   "cell_type": "code",
   "execution_count": 4,
   "metadata": {
    "id": "LEpKubK9XzXN"
   },
   "outputs": [
    {
     "name": "stdout",
     "output_type": "stream",
     "text": [
      "Cantidad de documentos: 26966\n"
     ]
    }
   ],
   "source": [
    "print(\"Cantidad de documentos:\", df.shape[0])"
   ]
  },
  {
   "cell_type": "markdown",
   "metadata": {
    "id": "ab94qaFlrA1G"
   },
   "source": [
    "### 1 - Preprocesamiento"
   ]
  },
  {
   "cell_type": "code",
   "execution_count": 5,
   "metadata": {
    "id": "rIsmMWmjrDHd"
   },
   "outputs": [
    {
     "name": "stderr",
     "output_type": "stream",
     "text": [
      "2024-05-08 19:10:09.668943: I tensorflow/core/platform/cpu_feature_guard.cc:193] This TensorFlow binary is optimized with oneAPI Deep Neural Network Library (oneDNN) to use the following CPU instructions in performance-critical operations:  AVX2 FMA\n",
      "To enable them in other operations, rebuild TensorFlow with the appropriate compiler flags.\n",
      "2024-05-08 19:10:09.760220: E tensorflow/stream_executor/cuda/cuda_blas.cc:2981] Unable to register cuBLAS factory: Attempting to register factory for plugin cuBLAS when one has already been registered\n",
      "2024-05-08 19:10:10.153063: W tensorflow/stream_executor/platform/default/dso_loader.cc:64] Could not load dynamic library 'libnvinfer.so.7'; dlerror: libnvinfer.so.7: cannot open shared object file: No such file or directory; LD_LIBRARY_PATH: :/home/jorge/miniconda3/envs/tensorflow/lib/:/home/jorge/miniconda3/envs/tensorflow/lib/python3.9/site-packages/tensorrt/\n",
      "2024-05-08 19:10:10.153131: W tensorflow/stream_executor/platform/default/dso_loader.cc:64] Could not load dynamic library 'libnvinfer_plugin.so.7'; dlerror: libnvinfer_plugin.so.7: cannot open shared object file: No such file or directory; LD_LIBRARY_PATH: :/home/jorge/miniconda3/envs/tensorflow/lib/:/home/jorge/miniconda3/envs/tensorflow/lib/python3.9/site-packages/tensorrt/\n",
      "2024-05-08 19:10:10.153137: W tensorflow/compiler/tf2tensorrt/utils/py_utils.cc:38] TF-TRT Warning: Cannot dlopen some TensorRT libraries. If you would like to use Nvidia GPU with TensorRT, please make sure the missing libraries mentioned above are installed properly.\n"
     ]
    }
   ],
   "source": [
    "from keras.preprocessing.text import text_to_word_sequence\n",
    "\n",
    "sentence_tokens = []\n",
    "# Recorrer todas las filas y transformar las oraciones\n",
    "# en una secuencia de palabras (esto podría realizarse con NLTK o spaCy también)\n",
    "for _, row in df[:None].iterrows():\n",
    "    sentence_tokens.append(text_to_word_sequence(row[0]))"
   ]
  },
  {
   "cell_type": "code",
   "execution_count": 6,
   "metadata": {
    "id": "CHepi_DGrbhq"
   },
   "outputs": [
    {
     "data": {
      "text/plain": [
       "[['trilogía', 'de', 'la', 'fundacion'], ['fundación']]"
      ]
     },
     "execution_count": 6,
     "metadata": {},
     "output_type": "execute_result"
    }
   ],
   "source": [
    "# Demos un vistazo\n",
    "sentence_tokens[:2]"
   ]
  },
  {
   "cell_type": "markdown",
   "metadata": {
    "id": "BaXV6nlHr5Aa"
   },
   "source": [
    "### 2 - Crear los vectores (word2vec)"
   ]
  },
  {
   "cell_type": "code",
   "execution_count": 7,
   "metadata": {
    "id": "OSb0v7h8r7hK"
   },
   "outputs": [],
   "source": [
    "from gensim.models.callbacks import CallbackAny2Vec\n",
    "# Durante el entrenamiento gensim por defecto no informa el \"loss\" en cada época\n",
    "# Sobrecargamos el callback para poder tener esta información\n",
    "class callback(CallbackAny2Vec):\n",
    "    \"\"\"\n",
    "    Callback to print loss after each epoch\n",
    "    \"\"\"\n",
    "    def __init__(self):\n",
    "        self.epoch = 0\n",
    "\n",
    "    def on_epoch_end(self, model):\n",
    "        loss = model.get_latest_training_loss()\n",
    "        if self.epoch == 0:\n",
    "            print('Loss after epoch {}: {}'.format(self.epoch, loss))\n",
    "        else:\n",
    "            print('Loss after epoch {}: {}'.format(self.epoch, loss- self.loss_previous_step))\n",
    "        self.epoch += 1\n",
    "        self.loss_previous_step = loss"
   ]
  },
  {
   "cell_type": "code",
   "execution_count": 8,
   "metadata": {
    "id": "i0wnDdv9sJ47"
   },
   "outputs": [],
   "source": [
    "# Crearmos el modelo generador de vectores\n",
    "# En este caso utilizaremos la estructura modelo Skipgram\n",
    "w2v_model = Word2Vec(min_count=5,    # frecuencia mínima de palabra para incluirla en el vocabulario\n",
    "                     window=3,       # cant de palabras antes y desp de la predicha\n",
    "                     vector_size=300,       # dimensionalidad de los vectores \n",
    "                     negative=20,    # cantidad de negative samples... 0 es no se usa\n",
    "                     workers=12,      # si tienen más cores pueden cambiar este valor\n",
    "                     sg=1)           # modelo 0:CBOW  1:skipgram"
   ]
  },
  {
   "cell_type": "code",
   "execution_count": 9,
   "metadata": {
    "id": "5lTt8wErsf17"
   },
   "outputs": [],
   "source": [
    "# Obtener el vocabulario con los tokens\n",
    "w2v_model.build_vocab(sentence_tokens)"
   ]
  },
  {
   "cell_type": "code",
   "execution_count": 10,
   "metadata": {
    "id": "TNc9qt4os5AT"
   },
   "outputs": [
    {
     "name": "stdout",
     "output_type": "stream",
     "text": [
      "Cantidad de docs en el corpus: 26966\n"
     ]
    }
   ],
   "source": [
    "# Cantidad de filas/docs encontradas en el corpus\n",
    "print(\"Cantidad de docs en el corpus:\", w2v_model.corpus_count)"
   ]
  },
  {
   "cell_type": "code",
   "execution_count": 11,
   "metadata": {
    "id": "idw9cHF3tSMl"
   },
   "outputs": [
    {
     "name": "stdout",
     "output_type": "stream",
     "text": [
      "Cantidad de words distintas en el corpus: 4351\n"
     ]
    }
   ],
   "source": [
    "# Cantidad de words encontradas en el corpus\n",
    "print(\"Cantidad de words distintas en el corpus:\", len(w2v_model.wv.index_to_key))"
   ]
  },
  {
   "cell_type": "markdown",
   "metadata": {
    "id": "fC9mZ8DPk-UC"
   },
   "source": [
    "### 3 - Entrenar embeddings"
   ]
  },
  {
   "cell_type": "code",
   "execution_count": 12,
   "metadata": {
    "id": "QSp-x0PAsq56"
   },
   "outputs": [
    {
     "name": "stdout",
     "output_type": "stream",
     "text": [
      "Loss after epoch 0: 154946.59375\n",
      "Loss after epoch 1: 133281.59375\n",
      "Loss after epoch 2: 130434.1875\n",
      "Loss after epoch 3: 126205.375\n",
      "Loss after epoch 4: 124449.6875\n",
      "Loss after epoch 5: 122004.5\n",
      "Loss after epoch 6: 118234.8125\n",
      "Loss after epoch 7: 117018.0\n",
      "Loss after epoch 8: 107289.25\n",
      "Loss after epoch 9: 103792.125\n",
      "Loss after epoch 10: 105683.5\n",
      "Loss after epoch 11: 103053.75\n",
      "Loss after epoch 12: 101733.75\n",
      "Loss after epoch 13: 99318.375\n",
      "Loss after epoch 14: 99180.75\n",
      "Loss after epoch 15: 99254.5\n",
      "Loss after epoch 16: 97193.875\n",
      "Loss after epoch 17: 95754.0\n",
      "Loss after epoch 18: 94694.625\n",
      "Loss after epoch 19: 86641.25\n",
      "Loss after epoch 20: 89180.0\n",
      "Loss after epoch 21: 87788.25\n",
      "Loss after epoch 22: 86088.25\n",
      "Loss after epoch 23: 85850.0\n",
      "Loss after epoch 24: 84232.75\n",
      "Loss after epoch 25: 84884.25\n",
      "Loss after epoch 26: 85684.25\n",
      "Loss after epoch 27: 81805.75\n",
      "Loss after epoch 28: 83967.25\n",
      "Loss after epoch 29: 82673.5\n",
      "Loss after epoch 30: 80931.0\n",
      "Loss after epoch 31: 80825.25\n",
      "Loss after epoch 32: 80187.0\n",
      "Loss after epoch 33: 81174.5\n",
      "Loss after epoch 34: 82014.5\n",
      "Loss after epoch 35: 80754.0\n",
      "Loss after epoch 36: 80085.25\n",
      "Loss after epoch 37: 79600.0\n",
      "Loss after epoch 38: 79710.75\n",
      "Loss after epoch 39: 77242.25\n",
      "Loss after epoch 40: 78168.5\n",
      "Loss after epoch 41: 76885.25\n",
      "Loss after epoch 42: 76613.0\n",
      "Loss after epoch 43: 76365.5\n",
      "Loss after epoch 44: 72539.0\n",
      "Loss after epoch 45: 69671.0\n",
      "Loss after epoch 46: 72000.0\n",
      "Loss after epoch 47: 72667.0\n",
      "Loss after epoch 48: 69941.5\n",
      "Loss after epoch 49: 70408.5\n"
     ]
    },
    {
     "data": {
      "text/plain": [
       "(6656422, 10737500)"
      ]
     },
     "execution_count": 12,
     "metadata": {},
     "output_type": "execute_result"
    }
   ],
   "source": [
    "# Entrenamos el modelo generador de vectores\n",
    "# Utilizamos nuestro callback\n",
    "w2v_model.train(sentence_tokens,\n",
    "                 total_examples=w2v_model.corpus_count,\n",
    "                 epochs=50,\n",
    "                 compute_loss = True,\n",
    "                 callbacks=[callback()]\n",
    "                 )"
   ]
  },
  {
   "cell_type": "markdown",
   "metadata": {
    "id": "ddT9NVuNlCAe"
   },
   "source": [
    "### 4 - Ensayar\n",
    "\n",
    "Ensayare el modelo usando las siguientes palabras:\n",
    "\n",
    "- Imperio.\n",
    "- Seldon.\n",
    "- Gaal\n",
    "- Fundación.\n",
    "- Psicohistoria.\n",
    "- Enciclopedia.\n",
    "- Mulo.\n",
    "- Términus.\n",
    "- Imperial.\n",
    "- Trántor"
   ]
  },
  {
   "cell_type": "markdown",
   "metadata": {},
   "source": [
    "### Similitudes\n",
    "\n",
    "Mostraré las 5 palabras mas similes."
   ]
  },
  {
   "cell_type": "code",
   "execution_count": 13,
   "metadata": {
    "id": "6cHN9xGLuPEm"
   },
   "outputs": [
    {
     "data": {
      "text/plain": [
       "[('humanidad', 0.4227783679962158),\n",
       " ('excesivamente', 0.4138237535953522),\n",
       " ('existido', 0.3911753296852112),\n",
       " ('comenzado', 0.3872603178024292),\n",
       " ('galáctico', 0.3863332271575928)]"
      ]
     },
     "execution_count": 13,
     "metadata": {},
     "output_type": "execute_result"
    }
   ],
   "source": [
    "# Palabras que MÁS se relacionan con \"Imperio\":\n",
    "w2v_model.wv.most_similar(positive=[\"imperio\"], topn=5)\n"
   ]
  },
  {
   "cell_type": "code",
   "execution_count": 14,
   "metadata": {},
   "outputs": [
    {
     "data": {
      "text/plain": [
       "[('hari', 0.5614129900932312),\n",
       " ('8', 0.47081875801086426),\n",
       " ('dornick', 0.44619622826576233),\n",
       " ('previó', 0.4159797132015228),\n",
       " ('inminente', 0.4141344428062439)]"
      ]
     },
     "execution_count": 14,
     "metadata": {},
     "output_type": "execute_result"
    }
   ],
   "source": [
    "# Palabras que MÁS se relacionan con \"Seldon\":\n",
    "w2v_model.wv.most_similar(positive=[\"seldon\"], topn=5)"
   ]
  },
  {
   "cell_type": "code",
   "execution_count": 15,
   "metadata": {},
   "outputs": [
    {
     "data": {
      "text/plain": [
       "[('dornick', 0.42411357164382935),\n",
       " ('escrita', 0.3889870047569275),\n",
       " ('8', 0.38569343090057373),\n",
       " ('aguardó', 0.37411415576934814),\n",
       " ('—riose', 0.3728770613670349)]"
      ]
     },
     "execution_count": 15,
     "metadata": {},
     "output_type": "execute_result"
    }
   ],
   "source": [
    "# Palabras que MÁS se relacionan con \"Gaal\":\n",
    "w2v_model.wv.most_similar(positive=[\"gaal\"], topn=5)"
   ]
  },
  {
   "cell_type": "code",
   "execution_count": 16,
   "metadata": {},
   "outputs": [
    {
     "data": {
      "text/plain": [
       "[('segunda', 0.47963017225265503),\n",
       " ('isaac', 0.41617897152900696),\n",
       " ('actualmente', 0.38129740953445435),\n",
       " ('convencido', 0.36477819085121155),\n",
       " ('paradero', 0.3636091947555542)]"
      ]
     },
     "execution_count": 16,
     "metadata": {},
     "output_type": "execute_result"
    }
   ],
   "source": [
    "# Palabras que MÁS se relacionan con \"Fundación\":\n",
    "w2v_model.wv.most_similar(positive=[\"fundación\"], topn=5)"
   ]
  },
  {
   "cell_type": "code",
   "execution_count": 17,
   "metadata": {},
   "outputs": [
    {
     "data": {
      "text/plain": [
       "[('distintas', 0.47944939136505127),\n",
       " ('previó', 0.4661312997341156),\n",
       " ('predice', 0.459117591381073),\n",
       " ('reacciones', 0.44807684421539307),\n",
       " ('sociales', 0.4464583992958069)]"
      ]
     },
     "execution_count": 17,
     "metadata": {},
     "output_type": "execute_result"
    }
   ],
   "source": [
    "# Palabras que MÁS se relacionan con \"Psicohistoria\":\n",
    "w2v_model.wv.most_similar(positive=[\"psicohistoria\"], topn=5)"
   ]
  },
  {
   "cell_type": "code",
   "execution_count": 18,
   "metadata": {},
   "outputs": [
    {
     "data": {
      "text/plain": [
       "[('proceden', 0.491924524307251),\n",
       " ('espiral', 0.47742587327957153),\n",
       " ('edición', 0.4708521068096161),\n",
       " ('7', 0.426017701625824),\n",
       " ('hagdin', 0.415183961391449)]"
      ]
     },
     "execution_count": 18,
     "metadata": {},
     "output_type": "execute_result"
    }
   ],
   "source": [
    "# Palabras que MÁS se relacionan con \"Enciclopedia\":\n",
    "w2v_model.wv.most_similar(positive=[\"enciclopedia\"], topn=5)"
   ]
  },
  {
   "cell_type": "code",
   "execution_count": 19,
   "metadata": {},
   "outputs": [
    {
     "data": {
      "text/plain": [
       "[('definitiva', 0.3691677153110504),\n",
       " ('mutación', 0.33885031938552856),\n",
       " ('potencial', 0.3327149450778961),\n",
       " ('veloces', 0.3323534429073334),\n",
       " ('maligno', 0.32774582505226135)]"
      ]
     },
     "execution_count": 19,
     "metadata": {},
     "output_type": "execute_result"
    }
   ],
   "source": [
    "# Palabras que MÁS se relacionan con \"Mulo\":\n",
    "w2v_model.wv.most_similar(positive=[\"mulo\"], topn=5)"
   ]
  },
  {
   "cell_type": "code",
   "execution_count": 20,
   "metadata": {},
   "outputs": [
    {
     "data": {
      "text/plain": [
       "[('establecida', 0.37652823328971863),\n",
       " ('indefensos', 0.36423400044441223),\n",
       " ('áreas', 0.3573697805404663),\n",
       " ('periódicos', 0.3554331958293915),\n",
       " ('llegará', 0.35110142827033997)]"
      ]
     },
     "execution_count": 20,
     "metadata": {},
     "output_type": "execute_result"
    }
   ],
   "source": [
    "# Palabras que MÁS se relacionan con \"Términus\":\n",
    "w2v_model.wv.most_similar(positive=[\"términus\"], topn=5)"
   ]
  },
  {
   "cell_type": "code",
   "execution_count": 21,
   "metadata": {},
   "outputs": [
    {
     "data": {
      "text/plain": [
       "[('terrenos', 0.4944378733634949),\n",
       " ('biblioteca', 0.4473087191581726),\n",
       " ('majestad', 0.41380083560943604),\n",
       " ('etiqueta', 0.399430513381958),\n",
       " ('excesivamente', 0.3835916817188263)]"
      ]
     },
     "execution_count": 21,
     "metadata": {},
     "output_type": "execute_result"
    }
   ],
   "source": [
    "# Palabras que MÁS se relacionan con \"Imperial\":\n",
    "w2v_model.wv.most_similar(positive=[\"imperial\"], topn=5)"
   ]
  },
  {
   "cell_type": "code",
   "execution_count": 22,
   "metadata": {},
   "outputs": [
    {
     "data": {
      "text/plain": [
       "[('santanni', 0.40551358461380005),\n",
       " ('setenta', 0.3521673381328583),\n",
       " ('humanidad', 0.34293192625045776),\n",
       " ('enemiga', 0.3413773775100708),\n",
       " ('agrícola', 0.34000030159950256)]"
      ]
     },
     "execution_count": 22,
     "metadata": {},
     "output_type": "execute_result"
    }
   ],
   "source": [
    "# Palabras que MÁS se relacionan con \"Trántor\":\n",
    "w2v_model.wv.most_similar(positive=[\"trántor\"], topn=5)"
   ]
  },
  {
   "cell_type": "markdown",
   "metadata": {},
   "source": [
    "### Diferencias\n",
    "\n",
    "Mostraré las 5 palabras mas diferentes."
   ]
  },
  {
   "cell_type": "code",
   "execution_count": 23,
   "metadata": {},
   "outputs": [
    {
     "data": {
      "text/plain": [
       "[('observó', 0.08237320184707642),\n",
       " ('tratando', 0.024252666160464287),\n",
       " ('glacial', 0.017111940309405327),\n",
       " ('acerca', 0.016870904713869095),\n",
       " ('leer', 0.0156650822609663)]"
      ]
     },
     "execution_count": 23,
     "metadata": {},
     "output_type": "execute_result"
    }
   ],
   "source": [
    "# Palabras que MENOS se relacionan con \"Imperio\":\n",
    "w2v_model.wv.most_similar(negative=[\"imperio\"], topn=5)"
   ]
  },
  {
   "cell_type": "code",
   "execution_count": 24,
   "metadata": {
    "id": "47HiU5gdkdMq"
   },
   "outputs": [
    {
     "data": {
      "text/plain": [
       "[('vestido', 0.04233042150735855),\n",
       " ('dando', 0.04131508246064186),\n",
       " ('tus', 0.023455817252397537),\n",
       " ('memoria', 0.01902143284678459),\n",
       " ('extraordinario', 0.015026352368295193)]"
      ]
     },
     "execution_count": 24,
     "metadata": {},
     "output_type": "execute_result"
    }
   ],
   "source": [
    "# Palabras que MENOS se relacionan con \"Seldon\":\n",
    "w2v_model.wv.most_similar(negative=[\"seldon\"], topn=5)"
   ]
  },
  {
   "cell_type": "code",
   "execution_count": 25,
   "metadata": {
    "id": "DT4Rvno2mD65"
   },
   "outputs": [
    {
     "data": {
      "text/plain": [
       "[('flota', 0.04958363249897957),\n",
       " ('cuerpo', 0.048968587070703506),\n",
       " ('además', 0.048146408051252365),\n",
       " ('haga', 0.03858568146824837),\n",
       " ('pobre', 0.028668737038969994)]"
      ]
     },
     "execution_count": 25,
     "metadata": {},
     "output_type": "execute_result"
    }
   ],
   "source": [
    "# Palabras que MENOS se relacionan con \"Gaal\":\n",
    "w2v_model.wv.most_similar(negative=[\"gaal\"], topn=5)"
   ]
  },
  {
   "cell_type": "code",
   "execution_count": 26,
   "metadata": {
    "id": "XPLDPgzBmQXt"
   },
   "outputs": [
    {
     "data": {
      "text/plain": [
       "[('delgado', 0.03525850549340248),\n",
       " ('frío', 0.03269113972783089),\n",
       " ('receptor', 0.031765516847372055),\n",
       " ('saltar', 0.02349809743463993),\n",
       " ('apareció', 0.01957077719271183)]"
      ]
     },
     "execution_count": 26,
     "metadata": {},
     "output_type": "execute_result"
    }
   ],
   "source": [
    "# Palabras que MENOS se relacionan con \"Fundación\":\n",
    "w2v_model.wv.most_similar(negative=[\"fundación\"], topn=5)"
   ]
  },
  {
   "cell_type": "code",
   "execution_count": 27,
   "metadata": {
    "id": "L_UvHPMMklOr"
   },
   "outputs": [
    {
     "data": {
      "text/plain": [
       "[('muchacho', 0.03969757258892059),\n",
       " ('tus', 0.032281264662742615),\n",
       " ('fugitivo', 0.0319315604865551),\n",
       " ('habitación', 0.024393867701292038),\n",
       " ('llevar', 0.013972575776278973)]"
      ]
     },
     "execution_count": 27,
     "metadata": {},
     "output_type": "execute_result"
    }
   ],
   "source": [
    "# Palabras que MENOS se relacionan con \"Psicohistoria\":\n",
    "w2v_model.wv.most_similar(negative=[\"psicohistoria\"], topn=5)"
   ]
  },
  {
   "cell_type": "code",
   "execution_count": 28,
   "metadata": {},
   "outputs": [
    {
     "data": {
      "text/plain": [
       "[('cierta', 0.04042782634496689),\n",
       " ('salto', 0.03727056831121445),\n",
       " ('murmullo', 0.03212190419435501),\n",
       " ('repentina', 0.027919702231884003),\n",
       " ('bayta', 0.025989489629864693)]"
      ]
     },
     "execution_count": 28,
     "metadata": {},
     "output_type": "execute_result"
    }
   ],
   "source": [
    "# Palabras que MENOS se relacionan con \"Enciclopedia\":\n",
    "w2v_model.wv.most_similar(negative=[\"enciclopedia\"], topn=5)"
   ]
  },
  {
   "cell_type": "code",
   "execution_count": 29,
   "metadata": {},
   "outputs": [
    {
     "data": {
      "text/plain": [
       "[('lista', 0.03869973495602608),\n",
       " ('ausencia', 0.033957649022340775),\n",
       " ('particular', 0.029606662690639496),\n",
       " ('ciudad', 0.019026415422558784),\n",
       " ('placer', 0.01889760047197342)]"
      ]
     },
     "execution_count": 29,
     "metadata": {},
     "output_type": "execute_result"
    }
   ],
   "source": [
    "# Palabras que MENOS se relacionan con \"Mulo\":\n",
    "w2v_model.wv.most_similar(negative=[\"mulo\"], topn=5)"
   ]
  },
  {
   "cell_type": "code",
   "execution_count": 30,
   "metadata": {},
   "outputs": [
    {
     "data": {
      "text/plain": [
       "[('general', 0.04690992087125778),\n",
       " ('acaso', 0.03627822920680046),\n",
       " ('sangre', 0.03137945383787155),\n",
       " ('falta', 0.031003184616565704),\n",
       " ('bajó', 0.03025730326771736)]"
      ]
     },
     "execution_count": 30,
     "metadata": {},
     "output_type": "execute_result"
    }
   ],
   "source": [
    "# Palabras que MENOS se relacionan con \"Términus\":\n",
    "w2v_model.wv.most_similar(negative=[\"términus\"], topn=5)"
   ]
  },
  {
   "cell_type": "code",
   "execution_count": 31,
   "metadata": {},
   "outputs": [
    {
     "data": {
      "text/plain": [
       "[('reflexionó', 0.05053584650158882),\n",
       " ('elemento', 0.04028680920600891),\n",
       " ('improviso', 0.028240686282515526),\n",
       " ('tono', 0.023824721574783325),\n",
       " ('oído', 0.021191732957959175)]"
      ]
     },
     "execution_count": 31,
     "metadata": {},
     "output_type": "execute_result"
    }
   ],
   "source": [
    "# Palabras que MENOS se relacionan con \"Imperial\":\n",
    "w2v_model.wv.most_similar(negative=[\"imperial\"], topn=5)"
   ]
  },
  {
   "cell_type": "code",
   "execution_count": 32,
   "metadata": {},
   "outputs": [
    {
     "data": {
      "text/plain": [
       "[('torpe', 0.03754197061061859),\n",
       " ('leer', 0.037362970411777496),\n",
       " ('forma', 0.03433249890804291),\n",
       " ('ansiedad', 0.031703293323516846),\n",
       " ('captó', 0.02561851777136326)]"
      ]
     },
     "execution_count": 32,
     "metadata": {},
     "output_type": "execute_result"
    }
   ],
   "source": [
    "# Palabras que MENOS se relacionan con \"Trántor\":\n",
    "w2v_model.wv.most_similar(negative=[\"trántor\"], topn=5)"
   ]
  },
  {
   "cell_type": "markdown",
   "metadata": {
    "id": "_g8UVWe6lFmh"
   },
   "source": [
    "### 5 - Visualizar agrupación de vectores"
   ]
  },
  {
   "cell_type": "code",
   "execution_count": 33,
   "metadata": {
    "id": "pDxEVXAivjr9"
   },
   "outputs": [],
   "source": [
    "from sklearn.decomposition import IncrementalPCA    \n",
    "from sklearn.manifold import TSNE                   \n",
    "import numpy as np                                  \n",
    "\n",
    "def reduce_dimensions(model, num_dimensions = 2 ):\n",
    "     \n",
    "    vectors = np.asarray(model.wv.vectors)\n",
    "    labels = np.asarray(model.wv.index_to_key)  \n",
    "\n",
    "    tsne = TSNE(n_components=num_dimensions, random_state=0)\n",
    "    vectors = tsne.fit_transform(vectors)\n",
    "\n",
    "    return vectors, labels"
   ]
  },
  {
   "cell_type": "code",
   "execution_count": 34,
   "metadata": {
    "id": "NCCXtDpcugmd"
   },
   "outputs": [
    {
     "data": {
      "application/vnd.plotly.v1+json": {
       "config": {
        "plotlyServerURL": "https://plot.ly"
       },
       "data": [
        {
         "hovertemplate": "x=%{x}<br>y=%{y}<br>text=%{text}<extra></extra>",
         "legendgroup": "",
         "marker": {
          "color": "#636efa",
          "symbol": "circle"
         },
         "mode": "markers+text",
         "name": "",
         "orientation": "v",
         "showlegend": false,
         "text": [
          "de",
          "la",
          "que",
          "y",
          "el",
          "en",
          "a",
          "no",
          "se",
          "un",
          "una",
          "los",
          "su",
          "con",
          "es",
          "lo",
          "del",
          "por",
          "las",
          "pero",
          "para",
          "al",
          "más",
          "le",
          "sus",
          "fundación",
          "era",
          "usted",
          "como",
          "ha",
          "si",
          "me",
          "había",
          "todo",
          "yo",
          "mulo",
          "mi",
          "dijo",
          "qué",
          "cuando",
          "él",
          "ya",
          "sin",
          "está",
          "ahora",
          "fue",
          "muy",
          "seldon",
          "sólo",
          "vez",
          "hombre",
          "o",
          "puede",
          "he",
          "sobre",
          "estaba",
          "dos",
          "ser",
          "nada",
          "esto",
          "eso",
          "imperio",
          "¿qué",
          "sí",
          "sido",
          "galaxia",
          "hay",
          "bien",
          "todos",
          "hasta",
          "nos",
          "segunda",
          "este",
          "años",
          "aquí",
          "mis",
          "algo",
          "entonces",
          "mismo",
          "son",
          "han",
          "hardin",
          "hacia",
          "hombres",
          "después",
          "hecho",
          "voz",
          "ojos",
          "tiene",
          "ni",
          "nave",
          "esta",
          "tiempo",
          "tan",
          "mallow",
          "durante",
          "bayta",
          "ella",
          "contra",
          "ellos",
          "gran",
          "entre",
          "señor",
          "tenía",
          "toran",
          "desde",
          "así",
          "uno",
          "otro",
          "nosotros",
          "mundo",
          "antes",
          "parte",
          "menos",
          "pritcher",
          "toda",
          "también",
          "porque",
          "hacer",
          "mientras",
          "casi",
          "hizo",
          "—no",
          "trántor",
          "e",
          "naves",
          "mano",
          "podía",
          "momento",
          "otra",
          "modo",
          "eran",
          "tal",
          "¿no",
          "primera",
          "primer",
          "kalgan",
          "darell",
          "arcadia",
          "hubiera",
          "hace",
          "channis",
          "cabeza",
          "espacio",
          "—dijo",
          "incluso",
          "les",
          "mejor",
          "nuevo",
          "ese",
          "aún",
          "poco",
          "nunca",
          "sé",
          "¿y",
          "¿por",
          "sabe",
          "estado",
          "pues",
          "barr",
          "mucho",
          "emperador",
          "plan",
          "general",
          "vida",
          "siempre",
          "decir",
          "términus",
          "bajo",
          "doctor",
          "guerra",
          "aquel",
          "nuestra",
          "hemos",
          "cosas",
          "planeta",
          "dicho",
          "—",
          "estoy",
          "podría",
          "palabras",
          "soy",
          "anacreonte",
          "tres",
          "donde",
          "capitán",
          "están",
          "ningún",
          "te",
          "miró",
          "será",
          "tengo",
          "mente",
          "punto",
          "todas",
          "fuera",
          "alcalde",
          "haber",
          "historia",
          "luz"
         ],
         "type": "scatter",
         "x": [
          -1.8644399642944336,
          -1.724537968635559,
          -2.3769853115081787,
          -9.300564765930176,
          5.2232818603515625,
          -12.142160415649414,
          -14.70256519317627,
          -2.3589375019073486,
          -9.797581672668457,
          5.328572750091553,
          -17.176280975341797,
          -6.094680309295654,
          13.057867050170898,
          -8.9970703125,
          5.450447082519531,
          -1.8152681589126587,
          -8.506281852722168,
          -2.103548049926758,
          -11.346381187438965,
          -8.950040817260742,
          -0.3906899094581604,
          -8.973185539245605,
          -11.68592357635498,
          -8.57599925994873,
          -8.182245254516602,
          -13.014307975769043,
          7.721823692321777,
          -1.8462457656860352,
          15.000324249267578,
          -8.117566108703613,
          -0.08678494393825531,
          -2.69579815864563,
          -8.071714401245117,
          0.9844681024551392,
          -2.9296414852142334,
          12.154221534729004,
          7.762090682983398,
          9.161664009094238,
          -2.522352695465088,
          16.320655822753906,
          0.24470283091068268,
          -3.1567747592926025,
          9.13016128540039,
          -5.379371166229248,
          3.427919626235962,
          11.729389190673828,
          9.601937294006348,
          -1.5364251136779785,
          -16.354923248291016,
          6.564564228057861,
          9.176193237304688,
          11.315606117248535,
          -8.115482330322266,
          -7.443389892578125,
          -4.116933822631836,
          0.8020836114883423,
          -10.743757247924805,
          10.533991813659668,
          -2.808950424194336,
          9.060595512390137,
          -3.5767886638641357,
          0.52896648645401,
          -2.2100436687469482,
          1.443255066871643,
          6.75132942199707,
          -3.4638078212738037,
          5.20733642578125,
          -2.521022319793701,
          -14.164448738098145,
          0.3300783634185791,
          4.001714706420898,
          -13.091577529907227,
          -2.623198986053467,
          -10.505877494812012,
          -2.737192153930664,
          -5.787038326263428,
          5.087486743927002,
          -3.0780422687530518,
          -8.069899559020996,
          -8.654854774475098,
          -8.623664855957031,
          9.006989479064941,
          -4.494905948638916,
          -7.190407752990723,
          -4.065263748168945,
          -1.3078110218048096,
          7.360927581787109,
          -5.183892726898193,
          3.5378034114837646,
          -12.894790649414062,
          -10.242228507995605,
          1.2105375528335571,
          4.62048864364624,
          4.188015460968018,
          3.7330219745635986,
          -9.726826667785645,
          5.085902690887451,
          0.7226313948631287,
          -7.246912479400635,
          -7.650465488433838,
          14.258660316467285,
          -5.324095726013184,
          12.964558601379395,
          7.866881370544434,
          3.978243350982666,
          3.138763189315796,
          6.418526649475098,
          -6.564525604248047,
          1.489438533782959,
          -7.661505699157715,
          13.998100280761719,
          -4.58802604675293,
          2.650048017501831,
          -0.9697969555854797,
          9.318102836608887,
          8.879534721374512,
          -7.036192893981934,
          8.634878158569336,
          0.2724396288394928,
          -4.545072555541992,
          -3.207105875015259,
          6.794321537017822,
          -3.644681930541992,
          -2.9542384147644043,
          -0.7303379774093628,
          -11.87828254699707,
          -0.17996174097061157,
          6.133406162261963,
          8.313874244689941,
          0.6129006147384644,
          7.813900947570801,
          -9.09679126739502,
          6.329251766204834,
          2.2402665615081787,
          -1.806724190711975,
          10.425525665283203,
          2.0343663692474365,
          10.076591491699219,
          9.633562088012695,
          -8.38286304473877,
          -4.619404315948486,
          6.432474136352539,
          4.156519412994385,
          4.168063640594482,
          1.8906553983688354,
          0.1022254005074501,
          -7.119917869567871,
          -3.671294927597046,
          0.26947498321533203,
          11.21833324432373,
          -5.8292012214660645,
          8.231037139892578,
          -5.773533344268799,
          -1.1689610481262207,
          0.08009657263755798,
          -2.593937873840332,
          -4.8892364501953125,
          -5.559488773345947,
          5.040988922119141,
          7.819293975830078,
          -11.11695671081543,
          -4.388394355773926,
          -1.465091586112976,
          10.424086570739746,
          6.229272842407227,
          3.7146925926208496,
          1.1093071699142456,
          -10.864517211914062,
          -11.026636123657227,
          0.12839347124099731,
          0.7417891621589661,
          3.7819271087646484,
          -1.4399878978729248,
          -7.451367378234863,
          -12.149537086486816,
          10.97523021697998,
          -4.33409309387207,
          -1.438011884689331,
          2.0194058418273926,
          1.4801256656646729,
          -11.279788970947266,
          11.70229434967041,
          -3.6064839363098145,
          -10.632782936096191,
          -0.1631440818309784,
          4.363227844238281,
          -12.316865921020508,
          -14.380308151245117,
          -2.128547430038452,
          0.4087841808795929,
          4.4691033363342285,
          5.3284478187561035,
          3.2732443809509277,
          7.071021556854248,
          -11.030181884765625,
          -1.6433756351470947,
          -0.9442498087882996,
          -3.1111340522766113,
          -7.700741291046143,
          1.2256518602371216
         ],
         "xaxis": "x",
         "y": [
          0.4514729976654053,
          0.4173756539821625,
          -6.992707252502441,
          11.866682052612305,
          0.9811133146286011,
          11.414243698120117,
          8.541685104370117,
          -8.759997367858887,
          12.742959022521973,
          0.7927626371383667,
          5.096778869628906,
          1.5257699489593506,
          1.884621262550354,
          12.74370288848877,
          0.5974915027618408,
          -8.11587142944336,
          11.53080940246582,
          0.0071066380478441715,
          1.8042774200439453,
          -10.683416366577148,
          -4.555506229400635,
          14.526357650756836,
          10.783406257629395,
          -13.808504104614258,
          5.697568416595459,
          -8.411760330200195,
          2.5338692665100098,
          -8.594371795654297,
          -2.0720317363739014,
          -12.376848220825195,
          -9.241772651672363,
          -9.393479347229004,
          -11.743393898010254,
          -8.592308044433594,
          -10.381648063659668,
          -4.377958297729492,
          -13.991859436035156,
          15.062433242797852,
          -14.731475830078125,
          5.61359167098999,
          -2.563074827194214,
          -10.353607177734375,
          -15.130667686462402,
          -15.010217666625977,
          -12.760567665100098,
          3.5903398990631104,
          -4.922823429107666,
          4.323527812957764,
          3.8716955184936523,
          -11.127837181091309,
          0.36528444290161133,
          -11.806891441345215,
          -8.09616756439209,
          -11.827821731567383,
          10.786754608154297,
          19.363595962524414,
          6.005213737487793,
          -8.218667030334473,
          -8.450767517089844,
          -3.2714357376098633,
          -13.270280838012695,
          2.959975242614746,
          -14.553473472595215,
          -15.373177528381348,
          -8.510693550109863,
          1.2745890617370605,
          -16.378061294555664,
          -16.478063583374023,
          -10.085131645202637,
          -6.050111770629883,
          -6.006536483764648,
          -8.359139442443848,
          -4.458914756774902,
          7.1702985763549805,
          -7.113532066345215,
          -2.8984122276306152,
          -7.37110710144043,
          -8.601367950439453,
          -6.300946235656738,
          -1.57572340965271,
          -12.031729698181152,
          13.55030632019043,
          14.57473373413086,
          1.8597344160079956,
          -1.916577935218811,
          -4.616527557373047,
          10.36856460571289,
          12.780230522155762,
          -5.559873580932617,
          -14.16411304473877,
          -14.206780433654785,
          -8.106186866760254,
          3.142941951751709,
          0.11736322194337845,
          8.9353666305542,
          6.568603515625,
          10.266300201416016,
          -8.062792778015137,
          5.272621154785156,
          -4.476686000823975,
          6.183725357055664,
          1.2122483253479004,
          0.18467922508716583,
          2.92642879486084,
          10.097208976745605,
          2.2816953659057617,
          -15.972420692443848,
          2.094576120376587,
          -2.450777292251587,
          -4.485168933868408,
          -6.329208850860596,
          -1.1213656663894653,
          -4.306639194488525,
          6.60239315032959,
          9.611409187316895,
          -7.622917652130127,
          -7.101402759552002,
          -8.497706413269043,
          -10.094457626342773,
          15.626699447631836,
          5.25706148147583,
          14.608266830444336,
          -10.19113540649414,
          4.32424259185791,
          7.379080295562744,
          1.0337210893630981,
          10.775139808654785,
          -1.331266164779663,
          -0.7983630895614624,
          -5.895686149597168,
          -5.588742256164551,
          2.418391466140747,
          -11.265909194946289,
          -17.066675186157227,
          -1.1130698919296265,
          -2.9173293113708496,
          -4.846909999847412,
          13.731444358825684,
          8.754077911376953,
          -10.299921989440918,
          -1.0129456520080566,
          -5.779817581176758,
          14.387267112731934,
          2.3539276123046875,
          -16.093101501464844,
          3.5302398204803467,
          -6.964456558227539,
          -3.152472972869873,
          6.140663146972656,
          -0.029235610738396645,
          -6.031483173370361,
          4.852077484130859,
          -7.12564754486084,
          -8.609423637390137,
          -14.606812477111816,
          -14.79245662689209,
          -11.92982292175293,
          -10.48797607421875,
          -9.598987579345703,
          17.105445861816406,
          -6.837265491485596,
          11.93211841583252,
          4.197080135345459,
          -0.5688159465789795,
          6.298973560333252,
          -4.7739949226379395,
          -10.794832229614258,
          -8.234609603881836,
          3.9031870365142822,
          -8.809999465942383,
          -4.861896991729736,
          2.9045112133026123,
          -2.1145026683807373,
          -11.06375789642334,
          0.5605272650718689,
          -3.6062002182006836,
          -9.99717903137207,
          -17.675880432128906,
          -11.662424087524414,
          -0.07846955209970474,
          0.0650603249669075,
          -1.7678834199905396,
          2.9228310585021973,
          6.496298313140869,
          5.123402118682861,
          14.562561988830566,
          -3.2062103748321533,
          -8.824193954467773,
          -12.567161560058594,
          15.736410140991211,
          -11.05040168762207,
          -14.092823028564453,
          -0.16568312048912048,
          -4.1735615730285645,
          1.9873249530792236,
          -4.553429126739502,
          5.953375816345215,
          -0.7979077100753784,
          -2.7260024547576904,
          7.8427934646606445
         ],
         "yaxis": "y"
        }
       ],
       "layout": {
        "legend": {
         "tracegroupgap": 0
        },
        "margin": {
         "t": 60
        },
        "template": {
         "data": {
          "bar": [
           {
            "error_x": {
             "color": "#2a3f5f"
            },
            "error_y": {
             "color": "#2a3f5f"
            },
            "marker": {
             "line": {
              "color": "#E5ECF6",
              "width": 0.5
             },
             "pattern": {
              "fillmode": "overlay",
              "size": 10,
              "solidity": 0.2
             }
            },
            "type": "bar"
           }
          ],
          "barpolar": [
           {
            "marker": {
             "line": {
              "color": "#E5ECF6",
              "width": 0.5
             },
             "pattern": {
              "fillmode": "overlay",
              "size": 10,
              "solidity": 0.2
             }
            },
            "type": "barpolar"
           }
          ],
          "carpet": [
           {
            "aaxis": {
             "endlinecolor": "#2a3f5f",
             "gridcolor": "white",
             "linecolor": "white",
             "minorgridcolor": "white",
             "startlinecolor": "#2a3f5f"
            },
            "baxis": {
             "endlinecolor": "#2a3f5f",
             "gridcolor": "white",
             "linecolor": "white",
             "minorgridcolor": "white",
             "startlinecolor": "#2a3f5f"
            },
            "type": "carpet"
           }
          ],
          "choropleth": [
           {
            "colorbar": {
             "outlinewidth": 0,
             "ticks": ""
            },
            "type": "choropleth"
           }
          ],
          "contour": [
           {
            "colorbar": {
             "outlinewidth": 0,
             "ticks": ""
            },
            "colorscale": [
             [
              0,
              "#0d0887"
             ],
             [
              0.1111111111111111,
              "#46039f"
             ],
             [
              0.2222222222222222,
              "#7201a8"
             ],
             [
              0.3333333333333333,
              "#9c179e"
             ],
             [
              0.4444444444444444,
              "#bd3786"
             ],
             [
              0.5555555555555556,
              "#d8576b"
             ],
             [
              0.6666666666666666,
              "#ed7953"
             ],
             [
              0.7777777777777778,
              "#fb9f3a"
             ],
             [
              0.8888888888888888,
              "#fdca26"
             ],
             [
              1,
              "#f0f921"
             ]
            ],
            "type": "contour"
           }
          ],
          "contourcarpet": [
           {
            "colorbar": {
             "outlinewidth": 0,
             "ticks": ""
            },
            "type": "contourcarpet"
           }
          ],
          "heatmap": [
           {
            "colorbar": {
             "outlinewidth": 0,
             "ticks": ""
            },
            "colorscale": [
             [
              0,
              "#0d0887"
             ],
             [
              0.1111111111111111,
              "#46039f"
             ],
             [
              0.2222222222222222,
              "#7201a8"
             ],
             [
              0.3333333333333333,
              "#9c179e"
             ],
             [
              0.4444444444444444,
              "#bd3786"
             ],
             [
              0.5555555555555556,
              "#d8576b"
             ],
             [
              0.6666666666666666,
              "#ed7953"
             ],
             [
              0.7777777777777778,
              "#fb9f3a"
             ],
             [
              0.8888888888888888,
              "#fdca26"
             ],
             [
              1,
              "#f0f921"
             ]
            ],
            "type": "heatmap"
           }
          ],
          "heatmapgl": [
           {
            "colorbar": {
             "outlinewidth": 0,
             "ticks": ""
            },
            "colorscale": [
             [
              0,
              "#0d0887"
             ],
             [
              0.1111111111111111,
              "#46039f"
             ],
             [
              0.2222222222222222,
              "#7201a8"
             ],
             [
              0.3333333333333333,
              "#9c179e"
             ],
             [
              0.4444444444444444,
              "#bd3786"
             ],
             [
              0.5555555555555556,
              "#d8576b"
             ],
             [
              0.6666666666666666,
              "#ed7953"
             ],
             [
              0.7777777777777778,
              "#fb9f3a"
             ],
             [
              0.8888888888888888,
              "#fdca26"
             ],
             [
              1,
              "#f0f921"
             ]
            ],
            "type": "heatmapgl"
           }
          ],
          "histogram": [
           {
            "marker": {
             "pattern": {
              "fillmode": "overlay",
              "size": 10,
              "solidity": 0.2
             }
            },
            "type": "histogram"
           }
          ],
          "histogram2d": [
           {
            "colorbar": {
             "outlinewidth": 0,
             "ticks": ""
            },
            "colorscale": [
             [
              0,
              "#0d0887"
             ],
             [
              0.1111111111111111,
              "#46039f"
             ],
             [
              0.2222222222222222,
              "#7201a8"
             ],
             [
              0.3333333333333333,
              "#9c179e"
             ],
             [
              0.4444444444444444,
              "#bd3786"
             ],
             [
              0.5555555555555556,
              "#d8576b"
             ],
             [
              0.6666666666666666,
              "#ed7953"
             ],
             [
              0.7777777777777778,
              "#fb9f3a"
             ],
             [
              0.8888888888888888,
              "#fdca26"
             ],
             [
              1,
              "#f0f921"
             ]
            ],
            "type": "histogram2d"
           }
          ],
          "histogram2dcontour": [
           {
            "colorbar": {
             "outlinewidth": 0,
             "ticks": ""
            },
            "colorscale": [
             [
              0,
              "#0d0887"
             ],
             [
              0.1111111111111111,
              "#46039f"
             ],
             [
              0.2222222222222222,
              "#7201a8"
             ],
             [
              0.3333333333333333,
              "#9c179e"
             ],
             [
              0.4444444444444444,
              "#bd3786"
             ],
             [
              0.5555555555555556,
              "#d8576b"
             ],
             [
              0.6666666666666666,
              "#ed7953"
             ],
             [
              0.7777777777777778,
              "#fb9f3a"
             ],
             [
              0.8888888888888888,
              "#fdca26"
             ],
             [
              1,
              "#f0f921"
             ]
            ],
            "type": "histogram2dcontour"
           }
          ],
          "mesh3d": [
           {
            "colorbar": {
             "outlinewidth": 0,
             "ticks": ""
            },
            "type": "mesh3d"
           }
          ],
          "parcoords": [
           {
            "line": {
             "colorbar": {
              "outlinewidth": 0,
              "ticks": ""
             }
            },
            "type": "parcoords"
           }
          ],
          "pie": [
           {
            "automargin": true,
            "type": "pie"
           }
          ],
          "scatter": [
           {
            "fillpattern": {
             "fillmode": "overlay",
             "size": 10,
             "solidity": 0.2
            },
            "type": "scatter"
           }
          ],
          "scatter3d": [
           {
            "line": {
             "colorbar": {
              "outlinewidth": 0,
              "ticks": ""
             }
            },
            "marker": {
             "colorbar": {
              "outlinewidth": 0,
              "ticks": ""
             }
            },
            "type": "scatter3d"
           }
          ],
          "scattercarpet": [
           {
            "marker": {
             "colorbar": {
              "outlinewidth": 0,
              "ticks": ""
             }
            },
            "type": "scattercarpet"
           }
          ],
          "scattergeo": [
           {
            "marker": {
             "colorbar": {
              "outlinewidth": 0,
              "ticks": ""
             }
            },
            "type": "scattergeo"
           }
          ],
          "scattergl": [
           {
            "marker": {
             "colorbar": {
              "outlinewidth": 0,
              "ticks": ""
             }
            },
            "type": "scattergl"
           }
          ],
          "scattermapbox": [
           {
            "marker": {
             "colorbar": {
              "outlinewidth": 0,
              "ticks": ""
             }
            },
            "type": "scattermapbox"
           }
          ],
          "scatterpolar": [
           {
            "marker": {
             "colorbar": {
              "outlinewidth": 0,
              "ticks": ""
             }
            },
            "type": "scatterpolar"
           }
          ],
          "scatterpolargl": [
           {
            "marker": {
             "colorbar": {
              "outlinewidth": 0,
              "ticks": ""
             }
            },
            "type": "scatterpolargl"
           }
          ],
          "scatterternary": [
           {
            "marker": {
             "colorbar": {
              "outlinewidth": 0,
              "ticks": ""
             }
            },
            "type": "scatterternary"
           }
          ],
          "surface": [
           {
            "colorbar": {
             "outlinewidth": 0,
             "ticks": ""
            },
            "colorscale": [
             [
              0,
              "#0d0887"
             ],
             [
              0.1111111111111111,
              "#46039f"
             ],
             [
              0.2222222222222222,
              "#7201a8"
             ],
             [
              0.3333333333333333,
              "#9c179e"
             ],
             [
              0.4444444444444444,
              "#bd3786"
             ],
             [
              0.5555555555555556,
              "#d8576b"
             ],
             [
              0.6666666666666666,
              "#ed7953"
             ],
             [
              0.7777777777777778,
              "#fb9f3a"
             ],
             [
              0.8888888888888888,
              "#fdca26"
             ],
             [
              1,
              "#f0f921"
             ]
            ],
            "type": "surface"
           }
          ],
          "table": [
           {
            "cells": {
             "fill": {
              "color": "#EBF0F8"
             },
             "line": {
              "color": "white"
             }
            },
            "header": {
             "fill": {
              "color": "#C8D4E3"
             },
             "line": {
              "color": "white"
             }
            },
            "type": "table"
           }
          ]
         },
         "layout": {
          "annotationdefaults": {
           "arrowcolor": "#2a3f5f",
           "arrowhead": 0,
           "arrowwidth": 1
          },
          "autotypenumbers": "strict",
          "coloraxis": {
           "colorbar": {
            "outlinewidth": 0,
            "ticks": ""
           }
          },
          "colorscale": {
           "diverging": [
            [
             0,
             "#8e0152"
            ],
            [
             0.1,
             "#c51b7d"
            ],
            [
             0.2,
             "#de77ae"
            ],
            [
             0.3,
             "#f1b6da"
            ],
            [
             0.4,
             "#fde0ef"
            ],
            [
             0.5,
             "#f7f7f7"
            ],
            [
             0.6,
             "#e6f5d0"
            ],
            [
             0.7,
             "#b8e186"
            ],
            [
             0.8,
             "#7fbc41"
            ],
            [
             0.9,
             "#4d9221"
            ],
            [
             1,
             "#276419"
            ]
           ],
           "sequential": [
            [
             0,
             "#0d0887"
            ],
            [
             0.1111111111111111,
             "#46039f"
            ],
            [
             0.2222222222222222,
             "#7201a8"
            ],
            [
             0.3333333333333333,
             "#9c179e"
            ],
            [
             0.4444444444444444,
             "#bd3786"
            ],
            [
             0.5555555555555556,
             "#d8576b"
            ],
            [
             0.6666666666666666,
             "#ed7953"
            ],
            [
             0.7777777777777778,
             "#fb9f3a"
            ],
            [
             0.8888888888888888,
             "#fdca26"
            ],
            [
             1,
             "#f0f921"
            ]
           ],
           "sequentialminus": [
            [
             0,
             "#0d0887"
            ],
            [
             0.1111111111111111,
             "#46039f"
            ],
            [
             0.2222222222222222,
             "#7201a8"
            ],
            [
             0.3333333333333333,
             "#9c179e"
            ],
            [
             0.4444444444444444,
             "#bd3786"
            ],
            [
             0.5555555555555556,
             "#d8576b"
            ],
            [
             0.6666666666666666,
             "#ed7953"
            ],
            [
             0.7777777777777778,
             "#fb9f3a"
            ],
            [
             0.8888888888888888,
             "#fdca26"
            ],
            [
             1,
             "#f0f921"
            ]
           ]
          },
          "colorway": [
           "#636efa",
           "#EF553B",
           "#00cc96",
           "#ab63fa",
           "#FFA15A",
           "#19d3f3",
           "#FF6692",
           "#B6E880",
           "#FF97FF",
           "#FECB52"
          ],
          "font": {
           "color": "#2a3f5f"
          },
          "geo": {
           "bgcolor": "white",
           "lakecolor": "white",
           "landcolor": "#E5ECF6",
           "showlakes": true,
           "showland": true,
           "subunitcolor": "white"
          },
          "hoverlabel": {
           "align": "left"
          },
          "hovermode": "closest",
          "mapbox": {
           "style": "light"
          },
          "paper_bgcolor": "white",
          "plot_bgcolor": "#E5ECF6",
          "polar": {
           "angularaxis": {
            "gridcolor": "white",
            "linecolor": "white",
            "ticks": ""
           },
           "bgcolor": "#E5ECF6",
           "radialaxis": {
            "gridcolor": "white",
            "linecolor": "white",
            "ticks": ""
           }
          },
          "scene": {
           "xaxis": {
            "backgroundcolor": "#E5ECF6",
            "gridcolor": "white",
            "gridwidth": 2,
            "linecolor": "white",
            "showbackground": true,
            "ticks": "",
            "zerolinecolor": "white"
           },
           "yaxis": {
            "backgroundcolor": "#E5ECF6",
            "gridcolor": "white",
            "gridwidth": 2,
            "linecolor": "white",
            "showbackground": true,
            "ticks": "",
            "zerolinecolor": "white"
           },
           "zaxis": {
            "backgroundcolor": "#E5ECF6",
            "gridcolor": "white",
            "gridwidth": 2,
            "linecolor": "white",
            "showbackground": true,
            "ticks": "",
            "zerolinecolor": "white"
           }
          },
          "shapedefaults": {
           "line": {
            "color": "#2a3f5f"
           }
          },
          "ternary": {
           "aaxis": {
            "gridcolor": "white",
            "linecolor": "white",
            "ticks": ""
           },
           "baxis": {
            "gridcolor": "white",
            "linecolor": "white",
            "ticks": ""
           },
           "bgcolor": "#E5ECF6",
           "caxis": {
            "gridcolor": "white",
            "linecolor": "white",
            "ticks": ""
           }
          },
          "title": {
           "x": 0.05
          },
          "xaxis": {
           "automargin": true,
           "gridcolor": "white",
           "linecolor": "white",
           "ticks": "",
           "title": {
            "standoff": 15
           },
           "zerolinecolor": "white",
           "zerolinewidth": 2
          },
          "yaxis": {
           "automargin": true,
           "gridcolor": "white",
           "linecolor": "white",
           "ticks": "",
           "title": {
            "standoff": 15
           },
           "zerolinecolor": "white",
           "zerolinewidth": 2
          }
         }
        },
        "xaxis": {
         "anchor": "y",
         "domain": [
          0,
          1
         ],
         "title": {
          "text": "x"
         }
        },
        "yaxis": {
         "anchor": "x",
         "domain": [
          0,
          1
         ],
         "title": {
          "text": "y"
         }
        }
       }
      }
     },
     "metadata": {},
     "output_type": "display_data"
    }
   ],
   "source": [
    "# Graficar los embedddings en 2D\n",
    "import plotly.graph_objects as go\n",
    "import plotly.express as px\n",
    "\n",
    "vecs, labels = reduce_dimensions(w2v_model)\n",
    "\n",
    "MAX_WORDS=200\n",
    "fig = px.scatter(x=vecs[:MAX_WORDS,0], y=vecs[:MAX_WORDS,1], text=labels[:MAX_WORDS])\n",
    "#fig.show(renderer=\"colab\") # esto para plotly en colab\n",
    "fig.show()"
   ]
  },
  {
   "cell_type": "code",
   "execution_count": 35,
   "metadata": {},
   "outputs": [
    {
     "data": {
      "application/vnd.plotly.v1+json": {
       "config": {
        "plotlyServerURL": "https://plot.ly"
       },
       "data": [
        {
         "hovertemplate": "x=%{x}<br>y=%{y}<br>z=%{z}<br>text=%{text}<extra></extra>",
         "legendgroup": "",
         "marker": {
          "color": "#636efa",
          "size": 2,
          "symbol": "circle"
         },
         "mode": "markers+text",
         "name": "",
         "scene": "scene",
         "showlegend": false,
         "text": [
          "de",
          "la",
          "que",
          "y",
          "el",
          "en",
          "a",
          "no",
          "se",
          "un",
          "una",
          "los",
          "su",
          "con",
          "es",
          "lo",
          "del",
          "por",
          "las",
          "pero",
          "para",
          "al",
          "más",
          "le",
          "sus",
          "fundación",
          "era",
          "usted",
          "como",
          "ha",
          "si",
          "me",
          "había",
          "todo",
          "yo",
          "mulo",
          "mi",
          "dijo",
          "qué",
          "cuando",
          "él",
          "ya",
          "sin",
          "está",
          "ahora",
          "fue",
          "muy",
          "seldon",
          "sólo",
          "vez",
          "hombre",
          "o",
          "puede",
          "he",
          "sobre",
          "estaba",
          "dos",
          "ser",
          "nada",
          "esto",
          "eso",
          "imperio",
          "¿qué",
          "sí",
          "sido",
          "galaxia",
          "hay",
          "bien",
          "todos",
          "hasta",
          "nos",
          "segunda",
          "este",
          "años",
          "aquí",
          "mis",
          "algo",
          "entonces",
          "mismo",
          "son",
          "han",
          "hardin",
          "hacia",
          "hombres",
          "después",
          "hecho",
          "voz",
          "ojos",
          "tiene",
          "ni",
          "nave",
          "esta",
          "tiempo",
          "tan",
          "mallow",
          "durante",
          "bayta",
          "ella",
          "contra",
          "ellos",
          "gran",
          "entre",
          "señor",
          "tenía",
          "toran",
          "desde",
          "así",
          "uno",
          "otro",
          "nosotros",
          "mundo",
          "antes",
          "parte",
          "menos",
          "pritcher",
          "toda",
          "también",
          "porque",
          "hacer",
          "mientras",
          "casi",
          "hizo",
          "—no",
          "trántor",
          "e",
          "naves",
          "mano",
          "podía",
          "momento",
          "otra",
          "modo",
          "eran",
          "tal",
          "¿no",
          "primera",
          "primer",
          "kalgan",
          "darell",
          "arcadia",
          "hubiera",
          "hace",
          "channis",
          "cabeza",
          "espacio",
          "—dijo",
          "incluso",
          "les",
          "mejor",
          "nuevo",
          "ese",
          "aún",
          "poco",
          "nunca",
          "sé",
          "¿y",
          "¿por",
          "sabe",
          "estado",
          "pues",
          "barr",
          "mucho",
          "emperador",
          "plan",
          "general",
          "vida",
          "siempre",
          "decir",
          "términus",
          "bajo",
          "doctor",
          "guerra",
          "aquel",
          "nuestra",
          "hemos",
          "cosas",
          "planeta",
          "dicho",
          "—",
          "estoy",
          "podría",
          "palabras",
          "soy",
          "anacreonte",
          "tres",
          "donde",
          "capitán",
          "están",
          "ningún",
          "te",
          "miró",
          "será",
          "tengo",
          "mente",
          "punto",
          "todas",
          "fuera",
          "alcalde",
          "haber",
          "historia",
          "luz"
         ],
         "type": "scatter3d",
         "x": [
          -48.007781982421875,
          -49.94691848754883,
          8.910499572753906,
          -44.55669021606445,
          20.283828735351562,
          -35.4549446105957,
          -40.09029769897461,
          3.7299444675445557,
          -40.90531539916992,
          22.27825355529785,
          -54.33379364013672,
          -8.685781478881836,
          -18.583805084228516,
          -33.283634185791016,
          -23.521305084228516,
          27.101171493530273,
          21.999589920043945,
          -26.521169662475586,
          4.3461079597473145,
          29.350181579589844,
          -12.493184089660645,
          -49.754878997802734,
          41.87687683105469,
          -37.74934005737305,
          5.869801998138428,
          -38.28944778442383,
          22.264875411987305,
          33.72412109375,
          12.72810173034668,
          -18.943317413330078,
          21.397418975830078,
          -21.7048282623291,
          -8.041848182678223,
          3.77579927444458,
          -10.9976167678833,
          29.006389617919922,
          6.157080173492432,
          -14.922863960266113,
          -16.39027214050293,
          24.067481994628906,
          -52.65818405151367,
          -17.21744728088379,
          55.67387771606445,
          50.56830978393555,
          21.699359893798828,
          9.317669868469238,
          32.291221618652344,
          33.629737854003906,
          -17.05215835571289,
          33.7451171875,
          16.855894088745117,
          -18.874784469604492,
          -43.27764129638672,
          -15.014182090759277,
          45.74375915527344,
          -20.593612670898438,
          -4.086896896362305,
          35.198829650878906,
          -2.700901508331299,
          23.332197189331055,
          -21.67921257019043,
          20.96111297607422,
          -16.544527053833008,
          -0.9105074405670166,
          -8.381428718566895,
          31.003158569335938,
          13.031521797180176,
          1.9189810752868652,
          8.676970481872559,
          14.624833106994629,
          -32.5990104675293,
          -9.853175163269043,
          -25.390769958496094,
          2.819786787033081,
          -29.961071014404297,
          25.57703399658203,
          6.4969587326049805,
          -15.255885124206543,
          6.060466289520264,
          -20.239835739135742,
          -11.842854499816895,
          -17.095245361328125,
          42.75375747680664,
          -6.571502685546875,
          -27.377717971801758,
          10.728700637817383,
          -8.511540412902832,
          33.93342590332031,
          29.51152992248535,
          -13.337906837463379,
          -43.37479019165039,
          -14.554729461669922,
          10.33792495727539,
          50.21223831176758,
          14.465494155883789,
          6.024780750274658,
          -8.748923301696777,
          9.432146072387695,
          12.134737014770508,
          3.409224510192871,
          23.675222396850586,
          -16.617971420288086,
          20.681270599365234,
          54.220523834228516,
          -7.551658630371094,
          22.762451171875,
          -15.382645606994629,
          14.820820808410645,
          -35.878807067871094,
          -3.3808305263519287,
          5.454038143157959,
          33.35590362548828,
          -8.129404067993164,
          41.6856575012207,
          -33.699981689453125,
          -19.771331787109375,
          -20.96090316772461,
          4.103757381439209,
          15.08590316772461,
          18.887792587280273,
          38.81226348876953,
          -18.13898468017578,
          -7.799250602722168,
          34.41397476196289,
          47.113460540771484,
          -12.015368461608887,
          16.801515579223633,
          51.334842681884766,
          24.519798278808594,
          16.652761459350586,
          -25.115530014038086,
          5.708376407623291,
          33.37071990966797,
          48.258541107177734,
          -10.420358657836914,
          38.74516677856445,
          -11.824949264526367,
          0.24483738839626312,
          -5.949670314788818,
          -11.184295654296875,
          28.679365158081055,
          -0.28883013129234314,
          6.707064628601074,
          14.010917663574219,
          4.185543060302734,
          18.37862777709961,
          -26.537322998046875,
          16.799129486083984,
          56.84796142578125,
          17.574676513671875,
          12.075714111328125,
          40.08901596069336,
          -8.686320304870605,
          15.01305866241455,
          -11.280372619628906,
          -17.739456176757812,
          -13.827560424804688,
          -7.933237552642822,
          1.3674910068511963,
          21.75294303894043,
          36.11750030517578,
          27.049339294433594,
          31.782690048217773,
          18.588193893432617,
          -0.7808610796928406,
          -14.306756019592285,
          9.816061973571777,
          -51.11371612548828,
          -18.334735870361328,
          26.078733444213867,
          -43.18403625488281,
          -19.858970642089844,
          -36.88779067993164,
          -10.048352241516113,
          -12.426997184753418,
          6.16106653213501,
          -9.57374095916748,
          -27.941198348999023,
          19.824716567993164,
          1.4571685791015625,
          0.2915813624858856,
          46.265594482421875,
          -40.9738655090332,
          -1.4393755197525024,
          42.19184875488281,
          3.8904671669006348,
          -11.018179893493652,
          -49.65306854248047,
          -6.128487586975098,
          19.659040451049805,
          27.775678634643555,
          27.653594970703125,
          -34.442935943603516,
          50.590187072753906,
          -4.25868558883667,
          -24.589889526367188,
          10.152397155761719,
          -28.608856201171875,
          -29.61747169494629,
          -5.492896556854248
         ],
         "y": [
          -18.88089942932129,
          -20.984304428100586,
          12.085710525512695,
          -20.060686111450195,
          28.114728927612305,
          15.889161109924316,
          -29.12773323059082,
          9.38432788848877,
          -45.750247955322266,
          39.47883605957031,
          -18.00996971130371,
          -43.20684814453125,
          -61.26841735839844,
          -51.12474822998047,
          55.22767639160156,
          -47.90163040161133,
          -52.08340835571289,
          27.120328903198242,
          -3.764488458633423,
          35.63349151611328,
          31.825916290283203,
          31.47736167907715,
          -39.02178192138672,
          -29.900894165039062,
          -33.266971588134766,
          31.423503875732422,
          -47.84709930419922,
          -30.623249053955078,
          -22.639080047607422,
          47.39122009277344,
          -44.729618072509766,
          -12.090852737426758,
          44.33551025390625,
          13.773177146911621,
          -8.528207778930664,
          43.725101470947266,
          7.7481689453125,
          -19.90639877319336,
          -29.193069458007812,
          -52.747947692871094,
          -0.5441708564758301,
          -7.523958206176758,
          -8.009236335754395,
          -29.96555519104004,
          -16.513885498046875,
          57.11843490600586,
          15.446030616760254,
          -15.084782600402832,
          -48.59602355957031,
          -10.107954025268555,
          -15.392765045166016,
          -58.20998764038086,
          26.185121536254883,
          42.865020751953125,
          13.20871353149414,
          42.960994720458984,
          -26.709259033203125,
          25.659875869750977,
          7.078724384307861,
          6.1691484451293945,
          -7.792582988739014,
          8.737936973571777,
          -35.19834518432617,
          -28.532665252685547,
          11.234015464782715,
          -18.713871002197266,
          -48.06719970703125,
          -48.056846618652344,
          -30.438051223754883,
          -8.331787109375,
          -2.1145622730255127,
          24.21998405456543,
          -0.2299029529094696,
          -44.71908187866211,
          -29.64423370361328,
          -40.704952239990234,
          21.895662307739258,
          -10.881916046142578,
          -50.91230010986328,
          -27.439966201782227,
          51.5103874206543,
          -14.846938133239746,
          -26.66694450378418,
          -23.309127807617188,
          -51.61273193359375,
          28.139404296875,
          5.286044597625732,
          -3.9912502765655518,
          -36.10487365722656,
          40.61678695678711,
          12.653783798217773,
          19.15629005432129,
          38.670494079589844,
          -17.293243408203125,
          -21.94443702697754,
          -30.059371948242188,
          4.152714729309082,
          14.334283828735352,
          -23.541242599487305,
          -37.00373458862305,
          -28.178213119506836,
          -39.33735656738281,
          52.240028381347656,
          0.36747971177101135,
          11.888031959533691,
          19.239341735839844,
          -38.956092834472656,
          -33.54170608520508,
          -37.68830490112305,
          -36.2502555847168,
          16.430095672607422,
          5.5714311599731445,
          27.09040641784668,
          -26.948604583740234,
          0.5795503258705139,
          24.412757873535156,
          -5.279795169830322,
          57.79033660888672,
          -25.95122528076172,
          -13.864948272705078,
          -23.874568939208984,
          -7.230033874511719,
          -4.875319957733154,
          -11.477388381958008,
          -1.5711677074432373,
          -14.076713562011719,
          7.202208042144775,
          -4.105332374572754,
          16.93103790283203,
          -4.804015159606934,
          -51.1913948059082,
          -8.197436332702637,
          -13.949929237365723,
          -14.513360023498535,
          24.624313354492188,
          -24.774354934692383,
          21.128124237060547,
          -20.871662139892578,
          -6.301105976104736,
          36.926414489746094,
          1.5694769620895386,
          18.103981018066406,
          8.676560401916504,
          29.40580177307129,
          -25.26339340209961,
          -12.822270393371582,
          -2.2823398113250732,
          -2.7704405784606934,
          -11.608154296875,
          44.42792892456055,
          33.837284088134766,
          18.112703323364258,
          -4.708688259124756,
          -32.837337493896484,
          -39.77888870239258,
          -26.104778289794922,
          -15.571233749389648,
          -15.657512664794922,
          9.32366943359375,
          -3.2779464721679688,
          -15.331124305725098,
          -11.267549514770508,
          -11.089177131652832,
          33.20639419555664,
          36.399993896484375,
          11.642609596252441,
          -23.41094398498535,
          4.218637466430664,
          13.032920837402344,
          -36.31589126586914,
          9.250245094299316,
          36.18475341796875,
          9.632417678833008,
          38.459102630615234,
          -13.17195987701416,
          25.0153865814209,
          -6.110575199127197,
          -22.832612991333008,
          -17.739004135131836,
          16.006269454956055,
          2.998229742050171,
          4.221888065338135,
          -36.88130569458008,
          -38.69756317138672,
          -30.67596435546875,
          12.617530822753906,
          -37.81537628173828,
          32.7317008972168,
          -15.019246101379395,
          -4.526778697967529,
          -16.562606811523438,
          -41.258056640625,
          50.70094680786133,
          4.596572399139404,
          -7.196047782897949,
          -9.669275283813477,
          -21.64248275756836,
          8.179426193237305,
          -29.748600006103516,
          28.36408805847168
         ],
         "z": [
          -22.458667755126953,
          -20.044702529907227,
          -59.35291290283203,
          -34.55080032348633,
          -38.720272064208984,
          -46.7684440612793,
          -35.09291458129883,
          -62.3735237121582,
          -3.980315685272217,
          -35.80967712402344,
          -16.819503784179688,
          -27.057632446289062,
          6.3625688552856445,
          -1.8101516962051392,
          -14.4532470703125,
          9.445232391357422,
          -26.544710159301758,
          -49.4432487487793,
          -40.69472885131836,
          -33.96219253540039,
          -46.48351287841797,
          -21.996213912963867,
          -14.182765007019043,
          39.01879119873047,
          -13.216184616088867,
          -32.25603103637695,
          25.191465377807617,
          0.6974541544914246,
          34.77562713623047,
          -21.062843322753906,
          4.383378982543945,
          7.798232078552246,
          -22.151662826538086,
          -30.389081954956055,
          9.766769409179688,
          -30.46347427368164,
          -5.032429218292236,
          41.18061065673828,
          16.34837532043457,
          -13.697702407836914,
          27.606523513793945,
          7.0860419273376465,
          -16.9395694732666,
          0.40423518419265747,
          3.7312817573547363,
          17.527507781982422,
          -3.350849151611328,
          -20.756803512573242,
          -18.24759292602539,
          -5.896202087402344,
          48.141929626464844,
          -4.59111213684082,
          -36.96156311035156,
          -12.25941276550293,
          20.682607650756836,
          35.8918571472168,
          -37.053199768066406,
          -31.604013442993164,
          8.533321380615234,
          -5.819311141967773,
          17.819189071655273,
          -22.27012825012207,
          16.608083724975586,
          29.469316482543945,
          -9.099658012390137,
          -31.68986701965332,
          11.552743911743164,
          21.834716796875,
          -9.02183723449707,
          -2.1808481216430664,
          0.18549048900604248,
          -7.858300685882568,
          10.233088493347168,
          -38.49092483520508,
          1.5076837539672852,
          12.507669448852539,
          2.719480514526367,
          21.097042083740234,
          13.925787925720215,
          -14.47783088684082,
          -23.200454711914062,
          45.15133285522461,
          1.4305464029312134,
          -19.187644958496094,
          5.791444301605225,
          -38.41543197631836,
          40.088584899902344,
          34.954498291015625,
          -5.484116077423096,
          -42.69742202758789,
          23.919851303100586,
          -4.680145263671875,
          -19.626609802246094,
          11.750696182250977,
          52.96377182006836,
          -36.101043701171875,
          29.265853881835938,
          -29.47211456298828,
          -10.074366569519043,
          -8.887030601501465,
          46.949867248535156,
          -10.511373519897461,
          -7.368649959564209,
          14.032953262329102,
          28.700103759765625,
          -28.018129348754883,
          -1.4920165538787842,
          -13.099654197692871,
          9.627666473388672,
          -8.702526092529297,
          -42.169124603271484,
          -44.61491394042969,
          -3.267486572265625,
          -18.43060302734375,
          43.58313751220703,
          -23.97379493713379,
          -11.61368179321289,
          -18.637939453125,
          -4.783904075622559,
          55.46792984008789,
          -35.20811462402344,
          47.203102111816406,
          8.6138916015625,
          -30.49273109436035,
          28.716798782348633,
          -44.337921142578125,
          22.42772102355957,
          -6.128238677978516,
          -21.67141342163086,
          -7.0508713722229,
          -17.53971290588379,
          -54.5953369140625,
          -10.260993003845215,
          -2.916159152984619,
          -14.755291938781738,
          17.100847244262695,
          3.1692631244659424,
          46.924137115478516,
          25.835941314697266,
          -31.584840774536133,
          -47.49892044067383,
          5.648408889770508,
          41.53836441040039,
          -30.281843185424805,
          35.47779083251953,
          -15.047558784484863,
          -1.9736809730529785,
          -17.944501876831055,
          17.548261642456055,
          -12.668756484985352,
          -49.466278076171875,
          11.3452787399292,
          -11.131858825683594,
          14.430005073547363,
          20.30996322631836,
          16.500818252563477,
          -1.851470708847046,
          -3.2628345489501953,
          12.598745346069336,
          59.84886169433594,
          -36.91703414916992,
          29.551774978637695,
          -16.864734649658203,
          -12.974637031555176,
          4.690955638885498,
          8.487082481384277,
          5.58263635635376,
          2.980879068374634,
          -46.08646011352539,
          20.588117599487305,
          6.609652996063232,
          21.058534622192383,
          0.7359856963157654,
          -22.904296875,
          -39.2218132019043,
          -6.756700038909912,
          3.9580888748168945,
          23.559711456298828,
          13.153666496276855,
          -15.396468162536621,
          -33.606754302978516,
          -0.01763906702399254,
          -2.7137062549591064,
          -36.007938385009766,
          -11.389960289001465,
          45.321102142333984,
          -25.185070037841797,
          9.022865295410156,
          17.732746124267578,
          48.98289108276367,
          -0.23430252075195312,
          3.7149851322174072,
          2.6149675846099854,
          -16.41202163696289,
          -41.72755813598633,
          2.291532516479492,
          45.101680755615234,
          -32.62471008300781,
          -20.90345573425293,
          18.56064224243164
         ]
        }
       ],
       "layout": {
        "legend": {
         "tracegroupgap": 0
        },
        "margin": {
         "t": 60
        },
        "scene": {
         "domain": {
          "x": [
           0,
           1
          ],
          "y": [
           0,
           1
          ]
         },
         "xaxis": {
          "title": {
           "text": "x"
          }
         },
         "yaxis": {
          "title": {
           "text": "y"
          }
         },
         "zaxis": {
          "title": {
           "text": "z"
          }
         }
        },
        "template": {
         "data": {
          "bar": [
           {
            "error_x": {
             "color": "#2a3f5f"
            },
            "error_y": {
             "color": "#2a3f5f"
            },
            "marker": {
             "line": {
              "color": "#E5ECF6",
              "width": 0.5
             },
             "pattern": {
              "fillmode": "overlay",
              "size": 10,
              "solidity": 0.2
             }
            },
            "type": "bar"
           }
          ],
          "barpolar": [
           {
            "marker": {
             "line": {
              "color": "#E5ECF6",
              "width": 0.5
             },
             "pattern": {
              "fillmode": "overlay",
              "size": 10,
              "solidity": 0.2
             }
            },
            "type": "barpolar"
           }
          ],
          "carpet": [
           {
            "aaxis": {
             "endlinecolor": "#2a3f5f",
             "gridcolor": "white",
             "linecolor": "white",
             "minorgridcolor": "white",
             "startlinecolor": "#2a3f5f"
            },
            "baxis": {
             "endlinecolor": "#2a3f5f",
             "gridcolor": "white",
             "linecolor": "white",
             "minorgridcolor": "white",
             "startlinecolor": "#2a3f5f"
            },
            "type": "carpet"
           }
          ],
          "choropleth": [
           {
            "colorbar": {
             "outlinewidth": 0,
             "ticks": ""
            },
            "type": "choropleth"
           }
          ],
          "contour": [
           {
            "colorbar": {
             "outlinewidth": 0,
             "ticks": ""
            },
            "colorscale": [
             [
              0,
              "#0d0887"
             ],
             [
              0.1111111111111111,
              "#46039f"
             ],
             [
              0.2222222222222222,
              "#7201a8"
             ],
             [
              0.3333333333333333,
              "#9c179e"
             ],
             [
              0.4444444444444444,
              "#bd3786"
             ],
             [
              0.5555555555555556,
              "#d8576b"
             ],
             [
              0.6666666666666666,
              "#ed7953"
             ],
             [
              0.7777777777777778,
              "#fb9f3a"
             ],
             [
              0.8888888888888888,
              "#fdca26"
             ],
             [
              1,
              "#f0f921"
             ]
            ],
            "type": "contour"
           }
          ],
          "contourcarpet": [
           {
            "colorbar": {
             "outlinewidth": 0,
             "ticks": ""
            },
            "type": "contourcarpet"
           }
          ],
          "heatmap": [
           {
            "colorbar": {
             "outlinewidth": 0,
             "ticks": ""
            },
            "colorscale": [
             [
              0,
              "#0d0887"
             ],
             [
              0.1111111111111111,
              "#46039f"
             ],
             [
              0.2222222222222222,
              "#7201a8"
             ],
             [
              0.3333333333333333,
              "#9c179e"
             ],
             [
              0.4444444444444444,
              "#bd3786"
             ],
             [
              0.5555555555555556,
              "#d8576b"
             ],
             [
              0.6666666666666666,
              "#ed7953"
             ],
             [
              0.7777777777777778,
              "#fb9f3a"
             ],
             [
              0.8888888888888888,
              "#fdca26"
             ],
             [
              1,
              "#f0f921"
             ]
            ],
            "type": "heatmap"
           }
          ],
          "heatmapgl": [
           {
            "colorbar": {
             "outlinewidth": 0,
             "ticks": ""
            },
            "colorscale": [
             [
              0,
              "#0d0887"
             ],
             [
              0.1111111111111111,
              "#46039f"
             ],
             [
              0.2222222222222222,
              "#7201a8"
             ],
             [
              0.3333333333333333,
              "#9c179e"
             ],
             [
              0.4444444444444444,
              "#bd3786"
             ],
             [
              0.5555555555555556,
              "#d8576b"
             ],
             [
              0.6666666666666666,
              "#ed7953"
             ],
             [
              0.7777777777777778,
              "#fb9f3a"
             ],
             [
              0.8888888888888888,
              "#fdca26"
             ],
             [
              1,
              "#f0f921"
             ]
            ],
            "type": "heatmapgl"
           }
          ],
          "histogram": [
           {
            "marker": {
             "pattern": {
              "fillmode": "overlay",
              "size": 10,
              "solidity": 0.2
             }
            },
            "type": "histogram"
           }
          ],
          "histogram2d": [
           {
            "colorbar": {
             "outlinewidth": 0,
             "ticks": ""
            },
            "colorscale": [
             [
              0,
              "#0d0887"
             ],
             [
              0.1111111111111111,
              "#46039f"
             ],
             [
              0.2222222222222222,
              "#7201a8"
             ],
             [
              0.3333333333333333,
              "#9c179e"
             ],
             [
              0.4444444444444444,
              "#bd3786"
             ],
             [
              0.5555555555555556,
              "#d8576b"
             ],
             [
              0.6666666666666666,
              "#ed7953"
             ],
             [
              0.7777777777777778,
              "#fb9f3a"
             ],
             [
              0.8888888888888888,
              "#fdca26"
             ],
             [
              1,
              "#f0f921"
             ]
            ],
            "type": "histogram2d"
           }
          ],
          "histogram2dcontour": [
           {
            "colorbar": {
             "outlinewidth": 0,
             "ticks": ""
            },
            "colorscale": [
             [
              0,
              "#0d0887"
             ],
             [
              0.1111111111111111,
              "#46039f"
             ],
             [
              0.2222222222222222,
              "#7201a8"
             ],
             [
              0.3333333333333333,
              "#9c179e"
             ],
             [
              0.4444444444444444,
              "#bd3786"
             ],
             [
              0.5555555555555556,
              "#d8576b"
             ],
             [
              0.6666666666666666,
              "#ed7953"
             ],
             [
              0.7777777777777778,
              "#fb9f3a"
             ],
             [
              0.8888888888888888,
              "#fdca26"
             ],
             [
              1,
              "#f0f921"
             ]
            ],
            "type": "histogram2dcontour"
           }
          ],
          "mesh3d": [
           {
            "colorbar": {
             "outlinewidth": 0,
             "ticks": ""
            },
            "type": "mesh3d"
           }
          ],
          "parcoords": [
           {
            "line": {
             "colorbar": {
              "outlinewidth": 0,
              "ticks": ""
             }
            },
            "type": "parcoords"
           }
          ],
          "pie": [
           {
            "automargin": true,
            "type": "pie"
           }
          ],
          "scatter": [
           {
            "fillpattern": {
             "fillmode": "overlay",
             "size": 10,
             "solidity": 0.2
            },
            "type": "scatter"
           }
          ],
          "scatter3d": [
           {
            "line": {
             "colorbar": {
              "outlinewidth": 0,
              "ticks": ""
             }
            },
            "marker": {
             "colorbar": {
              "outlinewidth": 0,
              "ticks": ""
             }
            },
            "type": "scatter3d"
           }
          ],
          "scattercarpet": [
           {
            "marker": {
             "colorbar": {
              "outlinewidth": 0,
              "ticks": ""
             }
            },
            "type": "scattercarpet"
           }
          ],
          "scattergeo": [
           {
            "marker": {
             "colorbar": {
              "outlinewidth": 0,
              "ticks": ""
             }
            },
            "type": "scattergeo"
           }
          ],
          "scattergl": [
           {
            "marker": {
             "colorbar": {
              "outlinewidth": 0,
              "ticks": ""
             }
            },
            "type": "scattergl"
           }
          ],
          "scattermapbox": [
           {
            "marker": {
             "colorbar": {
              "outlinewidth": 0,
              "ticks": ""
             }
            },
            "type": "scattermapbox"
           }
          ],
          "scatterpolar": [
           {
            "marker": {
             "colorbar": {
              "outlinewidth": 0,
              "ticks": ""
             }
            },
            "type": "scatterpolar"
           }
          ],
          "scatterpolargl": [
           {
            "marker": {
             "colorbar": {
              "outlinewidth": 0,
              "ticks": ""
             }
            },
            "type": "scatterpolargl"
           }
          ],
          "scatterternary": [
           {
            "marker": {
             "colorbar": {
              "outlinewidth": 0,
              "ticks": ""
             }
            },
            "type": "scatterternary"
           }
          ],
          "surface": [
           {
            "colorbar": {
             "outlinewidth": 0,
             "ticks": ""
            },
            "colorscale": [
             [
              0,
              "#0d0887"
             ],
             [
              0.1111111111111111,
              "#46039f"
             ],
             [
              0.2222222222222222,
              "#7201a8"
             ],
             [
              0.3333333333333333,
              "#9c179e"
             ],
             [
              0.4444444444444444,
              "#bd3786"
             ],
             [
              0.5555555555555556,
              "#d8576b"
             ],
             [
              0.6666666666666666,
              "#ed7953"
             ],
             [
              0.7777777777777778,
              "#fb9f3a"
             ],
             [
              0.8888888888888888,
              "#fdca26"
             ],
             [
              1,
              "#f0f921"
             ]
            ],
            "type": "surface"
           }
          ],
          "table": [
           {
            "cells": {
             "fill": {
              "color": "#EBF0F8"
             },
             "line": {
              "color": "white"
             }
            },
            "header": {
             "fill": {
              "color": "#C8D4E3"
             },
             "line": {
              "color": "white"
             }
            },
            "type": "table"
           }
          ]
         },
         "layout": {
          "annotationdefaults": {
           "arrowcolor": "#2a3f5f",
           "arrowhead": 0,
           "arrowwidth": 1
          },
          "autotypenumbers": "strict",
          "coloraxis": {
           "colorbar": {
            "outlinewidth": 0,
            "ticks": ""
           }
          },
          "colorscale": {
           "diverging": [
            [
             0,
             "#8e0152"
            ],
            [
             0.1,
             "#c51b7d"
            ],
            [
             0.2,
             "#de77ae"
            ],
            [
             0.3,
             "#f1b6da"
            ],
            [
             0.4,
             "#fde0ef"
            ],
            [
             0.5,
             "#f7f7f7"
            ],
            [
             0.6,
             "#e6f5d0"
            ],
            [
             0.7,
             "#b8e186"
            ],
            [
             0.8,
             "#7fbc41"
            ],
            [
             0.9,
             "#4d9221"
            ],
            [
             1,
             "#276419"
            ]
           ],
           "sequential": [
            [
             0,
             "#0d0887"
            ],
            [
             0.1111111111111111,
             "#46039f"
            ],
            [
             0.2222222222222222,
             "#7201a8"
            ],
            [
             0.3333333333333333,
             "#9c179e"
            ],
            [
             0.4444444444444444,
             "#bd3786"
            ],
            [
             0.5555555555555556,
             "#d8576b"
            ],
            [
             0.6666666666666666,
             "#ed7953"
            ],
            [
             0.7777777777777778,
             "#fb9f3a"
            ],
            [
             0.8888888888888888,
             "#fdca26"
            ],
            [
             1,
             "#f0f921"
            ]
           ],
           "sequentialminus": [
            [
             0,
             "#0d0887"
            ],
            [
             0.1111111111111111,
             "#46039f"
            ],
            [
             0.2222222222222222,
             "#7201a8"
            ],
            [
             0.3333333333333333,
             "#9c179e"
            ],
            [
             0.4444444444444444,
             "#bd3786"
            ],
            [
             0.5555555555555556,
             "#d8576b"
            ],
            [
             0.6666666666666666,
             "#ed7953"
            ],
            [
             0.7777777777777778,
             "#fb9f3a"
            ],
            [
             0.8888888888888888,
             "#fdca26"
            ],
            [
             1,
             "#f0f921"
            ]
           ]
          },
          "colorway": [
           "#636efa",
           "#EF553B",
           "#00cc96",
           "#ab63fa",
           "#FFA15A",
           "#19d3f3",
           "#FF6692",
           "#B6E880",
           "#FF97FF",
           "#FECB52"
          ],
          "font": {
           "color": "#2a3f5f"
          },
          "geo": {
           "bgcolor": "white",
           "lakecolor": "white",
           "landcolor": "#E5ECF6",
           "showlakes": true,
           "showland": true,
           "subunitcolor": "white"
          },
          "hoverlabel": {
           "align": "left"
          },
          "hovermode": "closest",
          "mapbox": {
           "style": "light"
          },
          "paper_bgcolor": "white",
          "plot_bgcolor": "#E5ECF6",
          "polar": {
           "angularaxis": {
            "gridcolor": "white",
            "linecolor": "white",
            "ticks": ""
           },
           "bgcolor": "#E5ECF6",
           "radialaxis": {
            "gridcolor": "white",
            "linecolor": "white",
            "ticks": ""
           }
          },
          "scene": {
           "xaxis": {
            "backgroundcolor": "#E5ECF6",
            "gridcolor": "white",
            "gridwidth": 2,
            "linecolor": "white",
            "showbackground": true,
            "ticks": "",
            "zerolinecolor": "white"
           },
           "yaxis": {
            "backgroundcolor": "#E5ECF6",
            "gridcolor": "white",
            "gridwidth": 2,
            "linecolor": "white",
            "showbackground": true,
            "ticks": "",
            "zerolinecolor": "white"
           },
           "zaxis": {
            "backgroundcolor": "#E5ECF6",
            "gridcolor": "white",
            "gridwidth": 2,
            "linecolor": "white",
            "showbackground": true,
            "ticks": "",
            "zerolinecolor": "white"
           }
          },
          "shapedefaults": {
           "line": {
            "color": "#2a3f5f"
           }
          },
          "ternary": {
           "aaxis": {
            "gridcolor": "white",
            "linecolor": "white",
            "ticks": ""
           },
           "baxis": {
            "gridcolor": "white",
            "linecolor": "white",
            "ticks": ""
           },
           "bgcolor": "#E5ECF6",
           "caxis": {
            "gridcolor": "white",
            "linecolor": "white",
            "ticks": ""
           }
          },
          "title": {
           "x": 0.05
          },
          "xaxis": {
           "automargin": true,
           "gridcolor": "white",
           "linecolor": "white",
           "ticks": "",
           "title": {
            "standoff": 15
           },
           "zerolinecolor": "white",
           "zerolinewidth": 2
          },
          "yaxis": {
           "automargin": true,
           "gridcolor": "white",
           "linecolor": "white",
           "ticks": "",
           "title": {
            "standoff": 15
           },
           "zerolinecolor": "white",
           "zerolinewidth": 2
          }
         }
        }
       }
      }
     },
     "metadata": {},
     "output_type": "display_data"
    }
   ],
   "source": [
    "# Graficar los embedddings en 3D\n",
    "\n",
    "vecs, labels = reduce_dimensions(w2v_model,3)\n",
    "\n",
    "fig = px.scatter_3d(x=vecs[:MAX_WORDS,0], y=vecs[:MAX_WORDS,1], z=vecs[:MAX_WORDS,2],text=labels[:MAX_WORDS])\n",
    "fig.update_traces(marker_size = 2)\n",
    "#fig.show(renderer=\"colab\") # esto para plotly en colab\n",
    "fig.show() # esto para plotly en colab"
   ]
  },
  {
   "cell_type": "code",
   "execution_count": 36,
   "metadata": {},
   "outputs": [],
   "source": [
    "# También se pueden guardar los vectores y labels como tsv para graficar en\n",
    "# http://projector.tensorflow.org/\n",
    "\n",
    "\n",
    "vectors = np.asarray(w2v_model.wv.vectors)\n",
    "labels = list(w2v_model.wv.index_to_key)\n",
    "\n",
    "np.savetxt(\"vectors.tsv\", vectors, delimiter=\"\\t\")\n",
    "\n",
    "with open(\"labels.tsv\", \"w\") as fp:\n",
    "    for item in labels:\n",
    "        fp.write(\"%s\\n\" % item)"
   ]
  }
 ],
 "metadata": {
  "colab": {
   "collapsed_sections": [],
   "provenance": []
  },
  "kernelspec": {
   "display_name": "Python 3 (ipykernel)",
   "language": "python",
   "name": "python3"
  },
  "language_info": {
   "codemirror_mode": {
    "name": "ipython",
    "version": 3
   },
   "file_extension": ".py",
   "mimetype": "text/x-python",
   "name": "python",
   "nbconvert_exporter": "python",
   "pygments_lexer": "ipython3",
   "version": "3.9.16"
  }
 },
 "nbformat": 4,
 "nbformat_minor": 4
}
